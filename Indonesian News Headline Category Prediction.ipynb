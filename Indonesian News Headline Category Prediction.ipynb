{
  "cells": [
    {
      "cell_type": "markdown",
      "metadata": {
        "id": "XPED8-ZZRc3l"
      },
      "source": [
        "# Perkenalan\n",
        "\n",
        "- Nama: Muhamad Afif Thufail\n",
        "- Batch: FTDS Batch 10\n",
        "- Dataset: Indonesian News Title\n",
        "\n",
        "- Objective: Memprediksi kategori berita dalam bahasa Indonesia\n",
        "- Note: Model ini hanya dapat memprediksi satu kelas/kategori saja (MultiClass single lable)."
      ]
    },
    {
      "cell_type": "markdown",
      "metadata": {
        "id": "UV-4kJZTR4KG"
      },
      "source": [
        "# Import Library"
      ]
    },
    {
      "cell_type": "code",
      "execution_count": null,
      "metadata": {
        "id": "Vbo33RAZR6Jc"
      },
      "outputs": [],
      "source": [
        "import pandas as pd\n",
        "import numpy as np\n",
        "import matplotlib.pyplot as plt\n",
        "import seaborn as sns\n",
        "from sklearn.metrics import classification_report\n",
        "from tensorflow.keras.models import Model, Sequential\n",
        "import tensorflow as tf\n",
        "from tensorflow.keras.layers import TextVectorization\n",
        "from tensorflow.keras.utils import to_categorical\n",
        "from sklearn.model_selection import train_test_split\n",
        "import sys\n",
        "from gensim.corpora import WikiCorpus\n",
        "import multiprocessing\n",
        "import multiprocessing\n",
        "from gensim.models import Word2Vec\n",
        "from gensim.models.word2vec import LineSentence\n",
        "from tensorflow import keras"
      ]
    },
    {
      "cell_type": "code",
      "execution_count": null,
      "metadata": {
        "colab": {
          "base_uri": "https://localhost:8080/"
        },
        "id": "Ey_yQUEet3GL",
        "outputId": "c4932e13-9438-4986-80ce-7293ac6fa4be"
      },
      "outputs": [
        {
          "name": "stdout",
          "output_type": "stream",
          "text": [
            "Looking in indexes: https://pypi.org/simple, https://us-python.pkg.dev/colab-wheels/public/simple/\n",
            "Collecting pysastrawi\n",
            "  Downloading PySastrawi-1.2.0-py2.py3-none-any.whl (210 kB)\n",
            "\u001b[K     |████████████████████████████████| 210 kB 6.2 MB/s \n",
            "\u001b[?25hInstalling collected packages: pysastrawi\n",
            "Successfully installed pysastrawi-1.2.0\n"
          ]
        }
      ],
      "source": [
        "! pip install pysastrawi"
      ]
    },
    {
      "cell_type": "code",
      "execution_count": null,
      "metadata": {
        "id": "_kwZ7vTUtqaM"
      },
      "outputs": [],
      "source": [
        "from Sastrawi.StopWordRemover.StopWordRemoverFactory import StopWordRemoverFactory\n",
        "from Sastrawi.Stemmer.StemmerFactory import StemmerFactory"
      ]
    },
    {
      "cell_type": "markdown",
      "metadata": {
        "id": "SII7fQPKSyYn"
      },
      "source": [
        "# Data Loading"
      ]
    },
    {
      "cell_type": "code",
      "execution_count": null,
      "metadata": {
        "id": "gwIiFUkJS10U"
      },
      "outputs": [],
      "source": [
        "data = pd.read_csv('indonesian-news-title.csv')"
      ]
    },
    {
      "cell_type": "code",
      "execution_count": null,
      "metadata": {
        "colab": {
          "base_uri": "https://localhost:8080/",
          "height": 206
        },
        "id": "e9xM0OKtjkKA",
        "outputId": "e61142b0-281e-44f2-b4c7-ccf9f6544144"
      },
      "outputs": [
        {
          "data": {
            "text/html": [
              "\n",
              "  <div id=\"df-d20da58a-30f2-496f-a573-ac7b14dcf27f\">\n",
              "    <div class=\"colab-df-container\">\n",
              "      <div>\n",
              "<style scoped>\n",
              "    .dataframe tbody tr th:only-of-type {\n",
              "        vertical-align: middle;\n",
              "    }\n",
              "\n",
              "    .dataframe tbody tr th {\n",
              "        vertical-align: top;\n",
              "    }\n",
              "\n",
              "    .dataframe thead th {\n",
              "        text-align: right;\n",
              "    }\n",
              "</style>\n",
              "<table border=\"1\" class=\"dataframe\">\n",
              "  <thead>\n",
              "    <tr style=\"text-align: right;\">\n",
              "      <th></th>\n",
              "      <th>date</th>\n",
              "      <th>url</th>\n",
              "      <th>title</th>\n",
              "      <th>category</th>\n",
              "    </tr>\n",
              "  </thead>\n",
              "  <tbody>\n",
              "    <tr>\n",
              "      <th>0</th>\n",
              "      <td>02/26/2020</td>\n",
              "      <td>https://finance.detik.com/berita-ekonomi-bisni...</td>\n",
              "      <td>Kemnaker Awasi TKA di Meikarta</td>\n",
              "      <td>finance</td>\n",
              "    </tr>\n",
              "    <tr>\n",
              "      <th>1</th>\n",
              "      <td>02/26/2020</td>\n",
              "      <td>https://finance.detik.com/berita-ekonomi-bisni...</td>\n",
              "      <td>BNI Digitalkan BNI Java Jazz 2020</td>\n",
              "      <td>finance</td>\n",
              "    </tr>\n",
              "    <tr>\n",
              "      <th>2</th>\n",
              "      <td>02/26/2020</td>\n",
              "      <td>https://finance.detik.com/berita-ekonomi-bisni...</td>\n",
              "      <td>Terbang ke Australia, Edhy Prabowo Mau Genjot ...</td>\n",
              "      <td>finance</td>\n",
              "    </tr>\n",
              "    <tr>\n",
              "      <th>3</th>\n",
              "      <td>02/26/2020</td>\n",
              "      <td>https://finance.detik.com/moneter/d-4916133/oj...</td>\n",
              "      <td>OJK Siapkan Stimulus Ekonomi Antisipasi Dampak...</td>\n",
              "      <td>finance</td>\n",
              "    </tr>\n",
              "    <tr>\n",
              "      <th>4</th>\n",
              "      <td>02/26/2020</td>\n",
              "      <td>https://finance.detik.com/berita-ekonomi-bisni...</td>\n",
              "      <td>Saran Buat Anies-RK yang Mangkir Rapat Banjir ...</td>\n",
              "      <td>finance</td>\n",
              "    </tr>\n",
              "  </tbody>\n",
              "</table>\n",
              "</div>\n",
              "      <button class=\"colab-df-convert\" onclick=\"convertToInteractive('df-d20da58a-30f2-496f-a573-ac7b14dcf27f')\"\n",
              "              title=\"Convert this dataframe to an interactive table.\"\n",
              "              style=\"display:none;\">\n",
              "        \n",
              "  <svg xmlns=\"http://www.w3.org/2000/svg\" height=\"24px\"viewBox=\"0 0 24 24\"\n",
              "       width=\"24px\">\n",
              "    <path d=\"M0 0h24v24H0V0z\" fill=\"none\"/>\n",
              "    <path d=\"M18.56 5.44l.94 2.06.94-2.06 2.06-.94-2.06-.94-.94-2.06-.94 2.06-2.06.94zm-11 1L8.5 8.5l.94-2.06 2.06-.94-2.06-.94L8.5 2.5l-.94 2.06-2.06.94zm10 10l.94 2.06.94-2.06 2.06-.94-2.06-.94-.94-2.06-.94 2.06-2.06.94z\"/><path d=\"M17.41 7.96l-1.37-1.37c-.4-.4-.92-.59-1.43-.59-.52 0-1.04.2-1.43.59L10.3 9.45l-7.72 7.72c-.78.78-.78 2.05 0 2.83L4 21.41c.39.39.9.59 1.41.59.51 0 1.02-.2 1.41-.59l7.78-7.78 2.81-2.81c.8-.78.8-2.07 0-2.86zM5.41 20L4 18.59l7.72-7.72 1.47 1.35L5.41 20z\"/>\n",
              "  </svg>\n",
              "      </button>\n",
              "      \n",
              "  <style>\n",
              "    .colab-df-container {\n",
              "      display:flex;\n",
              "      flex-wrap:wrap;\n",
              "      gap: 12px;\n",
              "    }\n",
              "\n",
              "    .colab-df-convert {\n",
              "      background-color: #E8F0FE;\n",
              "      border: none;\n",
              "      border-radius: 50%;\n",
              "      cursor: pointer;\n",
              "      display: none;\n",
              "      fill: #1967D2;\n",
              "      height: 32px;\n",
              "      padding: 0 0 0 0;\n",
              "      width: 32px;\n",
              "    }\n",
              "\n",
              "    .colab-df-convert:hover {\n",
              "      background-color: #E2EBFA;\n",
              "      box-shadow: 0px 1px 2px rgba(60, 64, 67, 0.3), 0px 1px 3px 1px rgba(60, 64, 67, 0.15);\n",
              "      fill: #174EA6;\n",
              "    }\n",
              "\n",
              "    [theme=dark] .colab-df-convert {\n",
              "      background-color: #3B4455;\n",
              "      fill: #D2E3FC;\n",
              "    }\n",
              "\n",
              "    [theme=dark] .colab-df-convert:hover {\n",
              "      background-color: #434B5C;\n",
              "      box-shadow: 0px 1px 3px 1px rgba(0, 0, 0, 0.15);\n",
              "      filter: drop-shadow(0px 1px 2px rgba(0, 0, 0, 0.3));\n",
              "      fill: #FFFFFF;\n",
              "    }\n",
              "  </style>\n",
              "\n",
              "      <script>\n",
              "        const buttonEl =\n",
              "          document.querySelector('#df-d20da58a-30f2-496f-a573-ac7b14dcf27f button.colab-df-convert');\n",
              "        buttonEl.style.display =\n",
              "          google.colab.kernel.accessAllowed ? 'block' : 'none';\n",
              "\n",
              "        async function convertToInteractive(key) {\n",
              "          const element = document.querySelector('#df-d20da58a-30f2-496f-a573-ac7b14dcf27f');\n",
              "          const dataTable =\n",
              "            await google.colab.kernel.invokeFunction('convertToInteractive',\n",
              "                                                     [key], {});\n",
              "          if (!dataTable) return;\n",
              "\n",
              "          const docLinkHtml = 'Like what you see? Visit the ' +\n",
              "            '<a target=\"_blank\" href=https://colab.research.google.com/notebooks/data_table.ipynb>data table notebook</a>'\n",
              "            + ' to learn more about interactive tables.';\n",
              "          element.innerHTML = '';\n",
              "          dataTable['output_type'] = 'display_data';\n",
              "          await google.colab.output.renderOutput(dataTable, element);\n",
              "          const docLink = document.createElement('div');\n",
              "          docLink.innerHTML = docLinkHtml;\n",
              "          element.appendChild(docLink);\n",
              "        }\n",
              "      </script>\n",
              "    </div>\n",
              "  </div>\n",
              "  "
            ],
            "text/plain": [
              "         date                                                url  \\\n",
              "0  02/26/2020  https://finance.detik.com/berita-ekonomi-bisni...   \n",
              "1  02/26/2020  https://finance.detik.com/berita-ekonomi-bisni...   \n",
              "2  02/26/2020  https://finance.detik.com/berita-ekonomi-bisni...   \n",
              "3  02/26/2020  https://finance.detik.com/moneter/d-4916133/oj...   \n",
              "4  02/26/2020  https://finance.detik.com/berita-ekonomi-bisni...   \n",
              "\n",
              "                                               title category  \n",
              "0                     Kemnaker Awasi TKA di Meikarta  finance  \n",
              "1                  BNI Digitalkan BNI Java Jazz 2020  finance  \n",
              "2  Terbang ke Australia, Edhy Prabowo Mau Genjot ...  finance  \n",
              "3  OJK Siapkan Stimulus Ekonomi Antisipasi Dampak...  finance  \n",
              "4  Saran Buat Anies-RK yang Mangkir Rapat Banjir ...  finance  "
            ]
          },
          "execution_count": 6,
          "metadata": {},
          "output_type": "execute_result"
        }
      ],
      "source": [
        "data.head()"
      ]
    },
    {
      "cell_type": "markdown",
      "metadata": {
        "id": "fChdyhpRxGDA"
      },
      "source": [
        "Terdapat 4 kolom dari dataset tersebut yaitu tangga, URL, Judul Berita dan Kategori Berita. Karena yang digunakan hanya Judul Berita dan Kategori berita sebagai target, maka kolom Tanggal dan URL di buang"
      ]
    },
    {
      "cell_type": "code",
      "execution_count": null,
      "metadata": {
        "colab": {
          "base_uri": "https://localhost:8080/"
        },
        "id": "ehKoGa_WyDjf",
        "outputId": "ceb4eead-3f14-4d53-b0a8-1e7d77594a00"
      },
      "outputs": [
        {
          "name": "stdout",
          "output_type": "stream",
          "text": [
            "<class 'pandas.core.frame.DataFrame'>\n",
            "RangeIndex: 91017 entries, 0 to 91016\n",
            "Data columns (total 4 columns):\n",
            " #   Column    Non-Null Count  Dtype \n",
            "---  ------    --------------  ----- \n",
            " 0   date      91017 non-null  object\n",
            " 1   url       91017 non-null  object\n",
            " 2   title     91017 non-null  object\n",
            " 3   category  91017 non-null  object\n",
            "dtypes: object(4)\n",
            "memory usage: 2.8+ MB\n"
          ]
        }
      ],
      "source": [
        "data.info()"
      ]
    },
    {
      "cell_type": "markdown",
      "metadata": {
        "id": "_OHhR7h1yRi5"
      },
      "source": [
        "Terdapat 91017 data atau judul berita pada dataset tersebut"
      ]
    },
    {
      "cell_type": "code",
      "execution_count": null,
      "metadata": {
        "id": "j_MrbECEWYEa"
      },
      "outputs": [],
      "source": [
        "data.drop(columns=['date','url'],inplace=True)"
      ]
    },
    {
      "cell_type": "code",
      "execution_count": null,
      "metadata": {
        "colab": {
          "base_uri": "https://localhost:8080/",
          "height": 206
        },
        "id": "3fpgimgtWoRY",
        "outputId": "8a733b1d-c1f3-4c85-bb0c-8c6514517523"
      },
      "outputs": [
        {
          "data": {
            "text/html": [
              "\n",
              "  <div id=\"df-f175ecf0-c39d-4c4d-96c2-f835e795c575\">\n",
              "    <div class=\"colab-df-container\">\n",
              "      <div>\n",
              "<style scoped>\n",
              "    .dataframe tbody tr th:only-of-type {\n",
              "        vertical-align: middle;\n",
              "    }\n",
              "\n",
              "    .dataframe tbody tr th {\n",
              "        vertical-align: top;\n",
              "    }\n",
              "\n",
              "    .dataframe thead th {\n",
              "        text-align: right;\n",
              "    }\n",
              "</style>\n",
              "<table border=\"1\" class=\"dataframe\">\n",
              "  <thead>\n",
              "    <tr style=\"text-align: right;\">\n",
              "      <th></th>\n",
              "      <th>title</th>\n",
              "      <th>category</th>\n",
              "    </tr>\n",
              "  </thead>\n",
              "  <tbody>\n",
              "    <tr>\n",
              "      <th>0</th>\n",
              "      <td>Kemnaker Awasi TKA di Meikarta</td>\n",
              "      <td>finance</td>\n",
              "    </tr>\n",
              "    <tr>\n",
              "      <th>1</th>\n",
              "      <td>BNI Digitalkan BNI Java Jazz 2020</td>\n",
              "      <td>finance</td>\n",
              "    </tr>\n",
              "    <tr>\n",
              "      <th>2</th>\n",
              "      <td>Terbang ke Australia, Edhy Prabowo Mau Genjot ...</td>\n",
              "      <td>finance</td>\n",
              "    </tr>\n",
              "    <tr>\n",
              "      <th>3</th>\n",
              "      <td>OJK Siapkan Stimulus Ekonomi Antisipasi Dampak...</td>\n",
              "      <td>finance</td>\n",
              "    </tr>\n",
              "    <tr>\n",
              "      <th>4</th>\n",
              "      <td>Saran Buat Anies-RK yang Mangkir Rapat Banjir ...</td>\n",
              "      <td>finance</td>\n",
              "    </tr>\n",
              "  </tbody>\n",
              "</table>\n",
              "</div>\n",
              "      <button class=\"colab-df-convert\" onclick=\"convertToInteractive('df-f175ecf0-c39d-4c4d-96c2-f835e795c575')\"\n",
              "              title=\"Convert this dataframe to an interactive table.\"\n",
              "              style=\"display:none;\">\n",
              "        \n",
              "  <svg xmlns=\"http://www.w3.org/2000/svg\" height=\"24px\"viewBox=\"0 0 24 24\"\n",
              "       width=\"24px\">\n",
              "    <path d=\"M0 0h24v24H0V0z\" fill=\"none\"/>\n",
              "    <path d=\"M18.56 5.44l.94 2.06.94-2.06 2.06-.94-2.06-.94-.94-2.06-.94 2.06-2.06.94zm-11 1L8.5 8.5l.94-2.06 2.06-.94-2.06-.94L8.5 2.5l-.94 2.06-2.06.94zm10 10l.94 2.06.94-2.06 2.06-.94-2.06-.94-.94-2.06-.94 2.06-2.06.94z\"/><path d=\"M17.41 7.96l-1.37-1.37c-.4-.4-.92-.59-1.43-.59-.52 0-1.04.2-1.43.59L10.3 9.45l-7.72 7.72c-.78.78-.78 2.05 0 2.83L4 21.41c.39.39.9.59 1.41.59.51 0 1.02-.2 1.41-.59l7.78-7.78 2.81-2.81c.8-.78.8-2.07 0-2.86zM5.41 20L4 18.59l7.72-7.72 1.47 1.35L5.41 20z\"/>\n",
              "  </svg>\n",
              "      </button>\n",
              "      \n",
              "  <style>\n",
              "    .colab-df-container {\n",
              "      display:flex;\n",
              "      flex-wrap:wrap;\n",
              "      gap: 12px;\n",
              "    }\n",
              "\n",
              "    .colab-df-convert {\n",
              "      background-color: #E8F0FE;\n",
              "      border: none;\n",
              "      border-radius: 50%;\n",
              "      cursor: pointer;\n",
              "      display: none;\n",
              "      fill: #1967D2;\n",
              "      height: 32px;\n",
              "      padding: 0 0 0 0;\n",
              "      width: 32px;\n",
              "    }\n",
              "\n",
              "    .colab-df-convert:hover {\n",
              "      background-color: #E2EBFA;\n",
              "      box-shadow: 0px 1px 2px rgba(60, 64, 67, 0.3), 0px 1px 3px 1px rgba(60, 64, 67, 0.15);\n",
              "      fill: #174EA6;\n",
              "    }\n",
              "\n",
              "    [theme=dark] .colab-df-convert {\n",
              "      background-color: #3B4455;\n",
              "      fill: #D2E3FC;\n",
              "    }\n",
              "\n",
              "    [theme=dark] .colab-df-convert:hover {\n",
              "      background-color: #434B5C;\n",
              "      box-shadow: 0px 1px 3px 1px rgba(0, 0, 0, 0.15);\n",
              "      filter: drop-shadow(0px 1px 2px rgba(0, 0, 0, 0.3));\n",
              "      fill: #FFFFFF;\n",
              "    }\n",
              "  </style>\n",
              "\n",
              "      <script>\n",
              "        const buttonEl =\n",
              "          document.querySelector('#df-f175ecf0-c39d-4c4d-96c2-f835e795c575 button.colab-df-convert');\n",
              "        buttonEl.style.display =\n",
              "          google.colab.kernel.accessAllowed ? 'block' : 'none';\n",
              "\n",
              "        async function convertToInteractive(key) {\n",
              "          const element = document.querySelector('#df-f175ecf0-c39d-4c4d-96c2-f835e795c575');\n",
              "          const dataTable =\n",
              "            await google.colab.kernel.invokeFunction('convertToInteractive',\n",
              "                                                     [key], {});\n",
              "          if (!dataTable) return;\n",
              "\n",
              "          const docLinkHtml = 'Like what you see? Visit the ' +\n",
              "            '<a target=\"_blank\" href=https://colab.research.google.com/notebooks/data_table.ipynb>data table notebook</a>'\n",
              "            + ' to learn more about interactive tables.';\n",
              "          element.innerHTML = '';\n",
              "          dataTable['output_type'] = 'display_data';\n",
              "          await google.colab.output.renderOutput(dataTable, element);\n",
              "          const docLink = document.createElement('div');\n",
              "          docLink.innerHTML = docLinkHtml;\n",
              "          element.appendChild(docLink);\n",
              "        }\n",
              "      </script>\n",
              "    </div>\n",
              "  </div>\n",
              "  "
            ],
            "text/plain": [
              "                                               title category\n",
              "0                     Kemnaker Awasi TKA di Meikarta  finance\n",
              "1                  BNI Digitalkan BNI Java Jazz 2020  finance\n",
              "2  Terbang ke Australia, Edhy Prabowo Mau Genjot ...  finance\n",
              "3  OJK Siapkan Stimulus Ekonomi Antisipasi Dampak...  finance\n",
              "4  Saran Buat Anies-RK yang Mangkir Rapat Banjir ...  finance"
            ]
          },
          "execution_count": 9,
          "metadata": {},
          "output_type": "execute_result"
        }
      ],
      "source": [
        "data.head()"
      ]
    },
    {
      "cell_type": "code",
      "execution_count": null,
      "metadata": {
        "colab": {
          "base_uri": "https://localhost:8080/"
        },
        "id": "5H1vDCqi-3X4",
        "outputId": "5451acf7-f72c-4453-da90-970090617a4c"
      },
      "outputs": [
        {
          "data": {
            "text/plain": [
              "title       0\n",
              "category    0\n",
              "dtype: int64"
            ]
          },
          "execution_count": 10,
          "metadata": {},
          "output_type": "execute_result"
        }
      ],
      "source": [
        "data.isnull().sum()"
      ]
    },
    {
      "cell_type": "code",
      "execution_count": null,
      "metadata": {
        "id": "ox7NpGnOSBzT"
      },
      "outputs": [],
      "source": [
        "data.dropna(axis=0, inplace=True)"
      ]
    },
    {
      "cell_type": "code",
      "execution_count": null,
      "metadata": {
        "colab": {
          "base_uri": "https://localhost:8080/"
        },
        "id": "2IKs4w2uSHou",
        "outputId": "12b5a926-eb96-404c-8c2d-906cab5b37d9"
      },
      "outputs": [
        {
          "data": {
            "text/plain": [
              "title       0\n",
              "category    0\n",
              "dtype: int64"
            ]
          },
          "execution_count": 11,
          "metadata": {},
          "output_type": "execute_result"
        }
      ],
      "source": [
        "data.isnull().sum()"
      ]
    },
    {
      "cell_type": "markdown",
      "metadata": {
        "id": "fAIjUomoxYPh"
      },
      "source": [
        "Tidak ada missing values pada dataset tersebut."
      ]
    },
    {
      "cell_type": "markdown",
      "metadata": {
        "id": "I3A_pDIZXWuj"
      },
      "source": [
        "# Exploratory Data Analaysis"
      ]
    },
    {
      "cell_type": "code",
      "execution_count": null,
      "metadata": {
        "colab": {
          "base_uri": "https://localhost:8080/"
        },
        "id": "GFPHy1p5WtNV",
        "outputId": "a618d5c1-4e86-47bd-c5da-9f7b87839d91"
      },
      "outputs": [
        {
          "data": {
            "text/plain": [
              "news       32360\n",
              "hot        16330\n",
              "finance    14168\n",
              "travel      6466\n",
              "inet        5640\n",
              "health      4919\n",
              "oto         4383\n",
              "food        4315\n",
              "sport       2436\n",
              "Name: category, dtype: int64"
            ]
          },
          "execution_count": 12,
          "metadata": {},
          "output_type": "execute_result"
        }
      ],
      "source": [
        "target = data.category.value_counts()\n",
        "target"
      ]
    },
    {
      "cell_type": "markdown",
      "metadata": {
        "id": "qpNwX3eVyaQq"
      },
      "source": [
        "Terdapat 9 kategori berita pada dataset tersebut"
      ]
    },
    {
      "cell_type": "code",
      "execution_count": null,
      "metadata": {
        "colab": {
          "base_uri": "https://localhost:8080/",
          "height": 309
        },
        "id": "BydTwjN3XkmM",
        "outputId": "1817283f-54f0-4362-ead9-01da19d0b201"
      },
      "outputs": [
        {
          "data": {
            "text/plain": [
              "<matplotlib.axes._subplots.AxesSubplot at 0x7fd1b0673450>"
            ]
          },
          "execution_count": 13,
          "metadata": {},
          "output_type": "execute_result"
        },
        {
          "data": {
            "image/png": "[encoded data removed]",
            "text/plain": [
              "<Figure size 432x288 with 1 Axes>"
            ]
          },
          "metadata": {
            "needs_background": "light"
          },
          "output_type": "display_data"
        }
      ],
      "source": [
        "target.plot(kind='bar')"
      ]
    },
    {
      "cell_type": "markdown",
      "metadata": {
        "id": "LvadQ0_kyiHi"
      },
      "source": [
        "Kategori News memiliki jumlah judul berita paling banyak dan kategori sport memiliki jumlah judul berita paling sedikit"
      ]
    },
    {
      "cell_type": "code",
      "execution_count": null,
      "metadata": {
        "colab": {
          "base_uri": "https://localhost:8080/",
          "height": 423
        },
        "id": "uVGqajS7YO_U",
        "outputId": "0e4789ea-0352-4552-ff5f-c3520c1f4209"
      },
      "outputs": [
        {
          "data": {
            "text/html": [
              "\n",
              "  <div id=\"df-f57febde-4b07-43e2-a89c-13ecff8c4c0f\">\n",
              "    <div class=\"colab-df-container\">\n",
              "      <div>\n",
              "<style scoped>\n",
              "    .dataframe tbody tr th:only-of-type {\n",
              "        vertical-align: middle;\n",
              "    }\n",
              "\n",
              "    .dataframe tbody tr th {\n",
              "        vertical-align: top;\n",
              "    }\n",
              "\n",
              "    .dataframe thead th {\n",
              "        text-align: right;\n",
              "    }\n",
              "</style>\n",
              "<table border=\"1\" class=\"dataframe\">\n",
              "  <thead>\n",
              "    <tr style=\"text-align: right;\">\n",
              "      <th></th>\n",
              "      <th>title</th>\n",
              "      <th>category</th>\n",
              "    </tr>\n",
              "  </thead>\n",
              "  <tbody>\n",
              "    <tr>\n",
              "      <th>45372</th>\n",
              "      <td>2 Pengedar Uang Palsu di Palu Ditangkap Saat B...</td>\n",
              "      <td>news</td>\n",
              "    </tr>\n",
              "    <tr>\n",
              "      <th>45373</th>\n",
              "      <td>Pinta Maaf Elite 'Partai Matahari' Gegara Kait...</td>\n",
              "      <td>news</td>\n",
              "    </tr>\n",
              "    <tr>\n",
              "      <th>45374</th>\n",
              "      <td>Cegah Corona Meluas, Jam Malam di Sigi Sulteng...</td>\n",
              "      <td>news</td>\n",
              "    </tr>\n",
              "    <tr>\n",
              "      <th>45375</th>\n",
              "      <td>Antrean Bandara Soetta Padat, 106 Penumpang Tu...</td>\n",
              "      <td>news</td>\n",
              "    </tr>\n",
              "    <tr>\n",
              "      <th>45376</th>\n",
              "      <td>Unggul Voting PKPU, Pemegang Saham Mayoritas K...</td>\n",
              "      <td>news</td>\n",
              "    </tr>\n",
              "    <tr>\n",
              "      <th>...</th>\n",
              "      <td>...</td>\n",
              "      <td>...</td>\n",
              "    </tr>\n",
              "    <tr>\n",
              "      <th>77727</th>\n",
              "      <td>Alexander: Sprindik Kasus Suap Bupati Sidoarjo...</td>\n",
              "      <td>news</td>\n",
              "    </tr>\n",
              "    <tr>\n",
              "      <th>77728</th>\n",
              "      <td>KPK Akan Minta Izin Dewas untuk Penggeledahan-...</td>\n",
              "      <td>news</td>\n",
              "    </tr>\n",
              "    <tr>\n",
              "      <th>77729</th>\n",
              "      <td>Gempa M 4,7 Terjadi di Tambolaka NTT</td>\n",
              "      <td>news</td>\n",
              "    </tr>\n",
              "    <tr>\n",
              "      <th>77730</th>\n",
              "      <td>KPK Sebut Internal Pemkab Jadi Informan di Kas...</td>\n",
              "      <td>news</td>\n",
              "    </tr>\n",
              "    <tr>\n",
              "      <th>77731</th>\n",
              "      <td>KPK Jawab ICW soal 'Kebanjiran' Praperadilan: ...</td>\n",
              "      <td>news</td>\n",
              "    </tr>\n",
              "  </tbody>\n",
              "</table>\n",
              "<p>32360 rows × 2 columns</p>\n",
              "</div>\n",
              "      <button class=\"colab-df-convert\" onclick=\"convertToInteractive('df-f57febde-4b07-43e2-a89c-13ecff8c4c0f')\"\n",
              "              title=\"Convert this dataframe to an interactive table.\"\n",
              "              style=\"display:none;\">\n",
              "        \n",
              "  <svg xmlns=\"http://www.w3.org/2000/svg\" height=\"24px\"viewBox=\"0 0 24 24\"\n",
              "       width=\"24px\">\n",
              "    <path d=\"M0 0h24v24H0V0z\" fill=\"none\"/>\n",
              "    <path d=\"M18.56 5.44l.94 2.06.94-2.06 2.06-.94-2.06-.94-.94-2.06-.94 2.06-2.06.94zm-11 1L8.5 8.5l.94-2.06 2.06-.94-2.06-.94L8.5 2.5l-.94 2.06-2.06.94zm10 10l.94 2.06.94-2.06 2.06-.94-2.06-.94-.94-2.06-.94 2.06-2.06.94z\"/><path d=\"M17.41 7.96l-1.37-1.37c-.4-.4-.92-.59-1.43-.59-.52 0-1.04.2-1.43.59L10.3 9.45l-7.72 7.72c-.78.78-.78 2.05 0 2.83L4 21.41c.39.39.9.59 1.41.59.51 0 1.02-.2 1.41-.59l7.78-7.78 2.81-2.81c.8-.78.8-2.07 0-2.86zM5.41 20L4 18.59l7.72-7.72 1.47 1.35L5.41 20z\"/>\n",
              "  </svg>\n",
              "      </button>\n",
              "      \n",
              "  <style>\n",
              "    .colab-df-container {\n",
              "      display:flex;\n",
              "      flex-wrap:wrap;\n",
              "      gap: 12px;\n",
              "    }\n",
              "\n",
              "    .colab-df-convert {\n",
              "      background-color: #E8F0FE;\n",
              "      border: none;\n",
              "      border-radius: 50%;\n",
              "      cursor: pointer;\n",
              "      display: none;\n",
              "      fill: #1967D2;\n",
              "      height: 32px;\n",
              "      padding: 0 0 0 0;\n",
              "      width: 32px;\n",
              "    }\n",
              "\n",
              "    .colab-df-convert:hover {\n",
              "      background-color: #E2EBFA;\n",
              "      box-shadow: 0px 1px 2px rgba(60, 64, 67, 0.3), 0px 1px 3px 1px rgba(60, 64, 67, 0.15);\n",
              "      fill: #174EA6;\n",
              "    }\n",
              "\n",
              "    [theme=dark] .colab-df-convert {\n",
              "      background-color: #3B4455;\n",
              "      fill: #D2E3FC;\n",
              "    }\n",
              "\n",
              "    [theme=dark] .colab-df-convert:hover {\n",
              "      background-color: #434B5C;\n",
              "      box-shadow: 0px 1px 3px 1px rgba(0, 0, 0, 0.15);\n",
              "      filter: drop-shadow(0px 1px 2px rgba(0, 0, 0, 0.3));\n",
              "      fill: #FFFFFF;\n",
              "    }\n",
              "  </style>\n",
              "\n",
              "      <script>\n",
              "        const buttonEl =\n",
              "          document.querySelector('#df-f57febde-4b07-43e2-a89c-13ecff8c4c0f button.colab-df-convert');\n",
              "        buttonEl.style.display =\n",
              "          google.colab.kernel.accessAllowed ? 'block' : 'none';\n",
              "\n",
              "        async function convertToInteractive(key) {\n",
              "          const element = document.querySelector('#df-f57febde-4b07-43e2-a89c-13ecff8c4c0f');\n",
              "          const dataTable =\n",
              "            await google.colab.kernel.invokeFunction('convertToInteractive',\n",
              "                                                     [key], {});\n",
              "          if (!dataTable) return;\n",
              "\n",
              "          const docLinkHtml = 'Like what you see? Visit the ' +\n",
              "            '<a target=\"_blank\" href=https://colab.research.google.com/notebooks/data_table.ipynb>data table notebook</a>'\n",
              "            + ' to learn more about interactive tables.';\n",
              "          element.innerHTML = '';\n",
              "          dataTable['output_type'] = 'display_data';\n",
              "          await google.colab.output.renderOutput(dataTable, element);\n",
              "          const docLink = document.createElement('div');\n",
              "          docLink.innerHTML = docLinkHtml;\n",
              "          element.appendChild(docLink);\n",
              "        }\n",
              "      </script>\n",
              "    </div>\n",
              "  </div>\n",
              "  "
            ],
            "text/plain": [
              "                                                   title category\n",
              "45372  2 Pengedar Uang Palsu di Palu Ditangkap Saat B...     news\n",
              "45373  Pinta Maaf Elite 'Partai Matahari' Gegara Kait...     news\n",
              "45374  Cegah Corona Meluas, Jam Malam di Sigi Sulteng...     news\n",
              "45375  Antrean Bandara Soetta Padat, 106 Penumpang Tu...     news\n",
              "45376  Unggul Voting PKPU, Pemegang Saham Mayoritas K...     news\n",
              "...                                                  ...      ...\n",
              "77727  Alexander: Sprindik Kasus Suap Bupati Sidoarjo...     news\n",
              "77728  KPK Akan Minta Izin Dewas untuk Penggeledahan-...     news\n",
              "77729               Gempa M 4,7 Terjadi di Tambolaka NTT     news\n",
              "77730  KPK Sebut Internal Pemkab Jadi Informan di Kas...     news\n",
              "77731  KPK Jawab ICW soal 'Kebanjiran' Praperadilan: ...     news\n",
              "\n",
              "[32360 rows x 2 columns]"
            ]
          },
          "execution_count": 14,
          "metadata": {},
          "output_type": "execute_result"
        }
      ],
      "source": [
        "news = data[data['category']=='news']\n",
        "news"
      ]
    },
    {
      "cell_type": "markdown",
      "metadata": {
        "id": "m0jcQgj7ysgG"
      },
      "source": [
        "Kategori news berisi berita tentang politik, bencana alam, dan berita biasa lainnya."
      ]
    },
    {
      "cell_type": "code",
      "execution_count": null,
      "metadata": {
        "colab": {
          "base_uri": "https://localhost:8080/",
          "height": 423
        },
        "id": "QC7ysQ7y-0TK",
        "outputId": "ed76a394-9783-41dc-ca6d-d75f6cb953bf"
      },
      "outputs": [
        {
          "data": {
            "text/html": [
              "\n",
              "  <div id=\"df-3efdcb7e-6518-4dcf-88cc-4d7dc0051c7b\">\n",
              "    <div class=\"colab-df-container\">\n",
              "      <div>\n",
              "<style scoped>\n",
              "    .dataframe tbody tr th:only-of-type {\n",
              "        vertical-align: middle;\n",
              "    }\n",
              "\n",
              "    .dataframe tbody tr th {\n",
              "        vertical-align: top;\n",
              "    }\n",
              "\n",
              "    .dataframe thead th {\n",
              "        text-align: right;\n",
              "    }\n",
              "</style>\n",
              "<table border=\"1\" class=\"dataframe\">\n",
              "  <thead>\n",
              "    <tr style=\"text-align: right;\">\n",
              "      <th></th>\n",
              "      <th>title</th>\n",
              "      <th>category</th>\n",
              "    </tr>\n",
              "  </thead>\n",
              "  <tbody>\n",
              "    <tr>\n",
              "      <th>0</th>\n",
              "      <td>Kemnaker Awasi TKA di Meikarta</td>\n",
              "      <td>finance</td>\n",
              "    </tr>\n",
              "    <tr>\n",
              "      <th>1</th>\n",
              "      <td>BNI Digitalkan BNI Java Jazz 2020</td>\n",
              "      <td>finance</td>\n",
              "    </tr>\n",
              "    <tr>\n",
              "      <th>2</th>\n",
              "      <td>Terbang ke Australia, Edhy Prabowo Mau Genjot ...</td>\n",
              "      <td>finance</td>\n",
              "    </tr>\n",
              "    <tr>\n",
              "      <th>3</th>\n",
              "      <td>OJK Siapkan Stimulus Ekonomi Antisipasi Dampak...</td>\n",
              "      <td>finance</td>\n",
              "    </tr>\n",
              "    <tr>\n",
              "      <th>4</th>\n",
              "      <td>Saran Buat Anies-RK yang Mangkir Rapat Banjir ...</td>\n",
              "      <td>finance</td>\n",
              "    </tr>\n",
              "    <tr>\n",
              "      <th>...</th>\n",
              "      <td>...</td>\n",
              "      <td>...</td>\n",
              "    </tr>\n",
              "    <tr>\n",
              "      <th>14163</th>\n",
              "      <td>Penjelasan Lengkap Soal 'Libur' Bayar Cicilan ...</td>\n",
              "      <td>finance</td>\n",
              "    </tr>\n",
              "    <tr>\n",
              "      <th>14164</th>\n",
              "      <td>Pak Jokowi BLT Jangan Salah Sasaran, Ini Merek...</td>\n",
              "      <td>finance</td>\n",
              "    </tr>\n",
              "    <tr>\n",
              "      <th>14165</th>\n",
              "      <td>Sakit Itu Mahal, Sehat Itu Murah (2)</td>\n",
              "      <td>finance</td>\n",
              "    </tr>\n",
              "    <tr>\n",
              "      <th>14166</th>\n",
              "      <td>Ingat Tidak Perlu Mudik, Lebaran Video Call Saja</td>\n",
              "      <td>finance</td>\n",
              "    </tr>\n",
              "    <tr>\n",
              "      <th>14167</th>\n",
              "      <td>Turunkan Harga, RI Impor Bawang Putih hingga Gula</td>\n",
              "      <td>finance</td>\n",
              "    </tr>\n",
              "  </tbody>\n",
              "</table>\n",
              "<p>14168 rows × 2 columns</p>\n",
              "</div>\n",
              "      <button class=\"colab-df-convert\" onclick=\"convertToInteractive('df-3efdcb7e-6518-4dcf-88cc-4d7dc0051c7b')\"\n",
              "              title=\"Convert this dataframe to an interactive table.\"\n",
              "              style=\"display:none;\">\n",
              "        \n",
              "  <svg xmlns=\"http://www.w3.org/2000/svg\" height=\"24px\"viewBox=\"0 0 24 24\"\n",
              "       width=\"24px\">\n",
              "    <path d=\"M0 0h24v24H0V0z\" fill=\"none\"/>\n",
              "    <path d=\"M18.56 5.44l.94 2.06.94-2.06 2.06-.94-2.06-.94-.94-2.06-.94 2.06-2.06.94zm-11 1L8.5 8.5l.94-2.06 2.06-.94-2.06-.94L8.5 2.5l-.94 2.06-2.06.94zm10 10l.94 2.06.94-2.06 2.06-.94-2.06-.94-.94-2.06-.94 2.06-2.06.94z\"/><path d=\"M17.41 7.96l-1.37-1.37c-.4-.4-.92-.59-1.43-.59-.52 0-1.04.2-1.43.59L10.3 9.45l-7.72 7.72c-.78.78-.78 2.05 0 2.83L4 21.41c.39.39.9.59 1.41.59.51 0 1.02-.2 1.41-.59l7.78-7.78 2.81-2.81c.8-.78.8-2.07 0-2.86zM5.41 20L4 18.59l7.72-7.72 1.47 1.35L5.41 20z\"/>\n",
              "  </svg>\n",
              "      </button>\n",
              "      \n",
              "  <style>\n",
              "    .colab-df-container {\n",
              "      display:flex;\n",
              "      flex-wrap:wrap;\n",
              "      gap: 12px;\n",
              "    }\n",
              "\n",
              "    .colab-df-convert {\n",
              "      background-color: #E8F0FE;\n",
              "      border: none;\n",
              "      border-radius: 50%;\n",
              "      cursor: pointer;\n",
              "      display: none;\n",
              "      fill: #1967D2;\n",
              "      height: 32px;\n",
              "      padding: 0 0 0 0;\n",
              "      width: 32px;\n",
              "    }\n",
              "\n",
              "    .colab-df-convert:hover {\n",
              "      background-color: #E2EBFA;\n",
              "      box-shadow: 0px 1px 2px rgba(60, 64, 67, 0.3), 0px 1px 3px 1px rgba(60, 64, 67, 0.15);\n",
              "      fill: #174EA6;\n",
              "    }\n",
              "\n",
              "    [theme=dark] .colab-df-convert {\n",
              "      background-color: #3B4455;\n",
              "      fill: #D2E3FC;\n",
              "    }\n",
              "\n",
              "    [theme=dark] .colab-df-convert:hover {\n",
              "      background-color: #434B5C;\n",
              "      box-shadow: 0px 1px 3px 1px rgba(0, 0, 0, 0.15);\n",
              "      filter: drop-shadow(0px 1px 2px rgba(0, 0, 0, 0.3));\n",
              "      fill: #FFFFFF;\n",
              "    }\n",
              "  </style>\n",
              "\n",
              "      <script>\n",
              "        const buttonEl =\n",
              "          document.querySelector('#df-3efdcb7e-6518-4dcf-88cc-4d7dc0051c7b button.colab-df-convert');\n",
              "        buttonEl.style.display =\n",
              "          google.colab.kernel.accessAllowed ? 'block' : 'none';\n",
              "\n",
              "        async function convertToInteractive(key) {\n",
              "          const element = document.querySelector('#df-3efdcb7e-6518-4dcf-88cc-4d7dc0051c7b');\n",
              "          const dataTable =\n",
              "            await google.colab.kernel.invokeFunction('convertToInteractive',\n",
              "                                                     [key], {});\n",
              "          if (!dataTable) return;\n",
              "\n",
              "          const docLinkHtml = 'Like what you see? Visit the ' +\n",
              "            '<a target=\"_blank\" href=https://colab.research.google.com/notebooks/data_table.ipynb>data table notebook</a>'\n",
              "            + ' to learn more about interactive tables.';\n",
              "          element.innerHTML = '';\n",
              "          dataTable['output_type'] = 'display_data';\n",
              "          await google.colab.output.renderOutput(dataTable, element);\n",
              "          const docLink = document.createElement('div');\n",
              "          docLink.innerHTML = docLinkHtml;\n",
              "          element.appendChild(docLink);\n",
              "        }\n",
              "      </script>\n",
              "    </div>\n",
              "  </div>\n",
              "  "
            ],
            "text/plain": [
              "                                                   title category\n",
              "0                         Kemnaker Awasi TKA di Meikarta  finance\n",
              "1                      BNI Digitalkan BNI Java Jazz 2020  finance\n",
              "2      Terbang ke Australia, Edhy Prabowo Mau Genjot ...  finance\n",
              "3      OJK Siapkan Stimulus Ekonomi Antisipasi Dampak...  finance\n",
              "4      Saran Buat Anies-RK yang Mangkir Rapat Banjir ...  finance\n",
              "...                                                  ...      ...\n",
              "14163  Penjelasan Lengkap Soal 'Libur' Bayar Cicilan ...  finance\n",
              "14164  Pak Jokowi BLT Jangan Salah Sasaran, Ini Merek...  finance\n",
              "14165               Sakit Itu Mahal, Sehat Itu Murah (2)  finance\n",
              "14166   Ingat Tidak Perlu Mudik, Lebaran Video Call Saja  finance\n",
              "14167  Turunkan Harga, RI Impor Bawang Putih hingga Gula  finance\n",
              "\n",
              "[14168 rows x 2 columns]"
            ]
          },
          "execution_count": 15,
          "metadata": {},
          "output_type": "execute_result"
        }
      ],
      "source": [
        "finance = data[data['category']=='finance']\n",
        "finance"
      ]
    },
    {
      "cell_type": "markdown",
      "metadata": {
        "id": "8H-9F1acy4jF"
      },
      "source": [
        "Berita finance berisi mengenai sesuatu yang berkaitan dengan ekonomi dan keuangan"
      ]
    },
    {
      "cell_type": "code",
      "execution_count": null,
      "metadata": {
        "colab": {
          "base_uri": "https://localhost:8080/",
          "height": 423
        },
        "id": "uG1iEiS6_-_z",
        "outputId": "8afb6f51-ebcf-4dc7-e779-20563ef79499"
      },
      "outputs": [
        {
          "data": {
            "text/html": [
              "\n",
              "  <div id=\"df-a5694151-2206-47ab-b6f9-1f4c77b40646\">\n",
              "    <div class=\"colab-df-container\">\n",
              "      <div>\n",
              "<style scoped>\n",
              "    .dataframe tbody tr th:only-of-type {\n",
              "        vertical-align: middle;\n",
              "    }\n",
              "\n",
              "    .dataframe tbody tr th {\n",
              "        vertical-align: top;\n",
              "    }\n",
              "\n",
              "    .dataframe thead th {\n",
              "        text-align: right;\n",
              "    }\n",
              "</style>\n",
              "<table border=\"1\" class=\"dataframe\">\n",
              "  <thead>\n",
              "    <tr style=\"text-align: right;\">\n",
              "      <th></th>\n",
              "      <th>title</th>\n",
              "      <th>category</th>\n",
              "    </tr>\n",
              "  </thead>\n",
              "  <tbody>\n",
              "    <tr>\n",
              "      <th>23402</th>\n",
              "      <td>Sahabat Ceritakan Awal Mula Didi Kempot Tampil...</td>\n",
              "      <td>hot</td>\n",
              "    </tr>\n",
              "    <tr>\n",
              "      <th>23403</th>\n",
              "      <td>Jangan Genit! Nora Alexandra Cemburu Lihat Net...</td>\n",
              "      <td>hot</td>\n",
              "    </tr>\n",
              "    <tr>\n",
              "      <th>23404</th>\n",
              "      <td>Bangun Masjid, Atta: Perlukah Diposting di You...</td>\n",
              "      <td>hot</td>\n",
              "    </tr>\n",
              "    <tr>\n",
              "      <th>23405</th>\n",
              "      <td>Nyanyikan Lagu 'Layang Kangen' dan 'Cidro', Pu...</td>\n",
              "      <td>hot</td>\n",
              "    </tr>\n",
              "    <tr>\n",
              "      <th>23406</th>\n",
              "      <td>Pandemi Corona, Barbie Kumalasari Kangen dan K...</td>\n",
              "      <td>hot</td>\n",
              "    </tr>\n",
              "    <tr>\n",
              "      <th>...</th>\n",
              "      <td>...</td>\n",
              "      <td>...</td>\n",
              "    </tr>\n",
              "    <tr>\n",
              "      <th>39727</th>\n",
              "      <td>Sosok Artis Jerry Lawalata, Lama Tak Muncul ki...</td>\n",
              "      <td>hot</td>\n",
              "    </tr>\n",
              "    <tr>\n",
              "      <th>39728</th>\n",
              "      <td>Diduga Terjerat Narkoba, Jerry Lawalata Ditang...</td>\n",
              "      <td>hot</td>\n",
              "    </tr>\n",
              "    <tr>\n",
              "      <th>39729</th>\n",
              "      <td>Ogah Bikin Album, Rhoma Irama: Mubazir</td>\n",
              "      <td>hot</td>\n",
              "    </tr>\n",
              "    <tr>\n",
              "      <th>39730</th>\n",
              "      <td>Pesona Amanda Manopo dan Amanda Caesa Bikin Bi...</td>\n",
              "      <td>hot</td>\n",
              "    </tr>\n",
              "    <tr>\n",
              "      <th>39731</th>\n",
              "      <td>Jawaban Krisdayanti dan Raul Lemos untuk Aurel...</td>\n",
              "      <td>hot</td>\n",
              "    </tr>\n",
              "  </tbody>\n",
              "</table>\n",
              "<p>16330 rows × 2 columns</p>\n",
              "</div>\n",
              "      <button class=\"colab-df-convert\" onclick=\"convertToInteractive('df-a5694151-2206-47ab-b6f9-1f4c77b40646')\"\n",
              "              title=\"Convert this dataframe to an interactive table.\"\n",
              "              style=\"display:none;\">\n",
              "        \n",
              "  <svg xmlns=\"http://www.w3.org/2000/svg\" height=\"24px\"viewBox=\"0 0 24 24\"\n",
              "       width=\"24px\">\n",
              "    <path d=\"M0 0h24v24H0V0z\" fill=\"none\"/>\n",
              "    <path d=\"M18.56 5.44l.94 2.06.94-2.06 2.06-.94-2.06-.94-.94-2.06-.94 2.06-2.06.94zm-11 1L8.5 8.5l.94-2.06 2.06-.94-2.06-.94L8.5 2.5l-.94 2.06-2.06.94zm10 10l.94 2.06.94-2.06 2.06-.94-2.06-.94-.94-2.06-.94 2.06-2.06.94z\"/><path d=\"M17.41 7.96l-1.37-1.37c-.4-.4-.92-.59-1.43-.59-.52 0-1.04.2-1.43.59L10.3 9.45l-7.72 7.72c-.78.78-.78 2.05 0 2.83L4 21.41c.39.39.9.59 1.41.59.51 0 1.02-.2 1.41-.59l7.78-7.78 2.81-2.81c.8-.78.8-2.07 0-2.86zM5.41 20L4 18.59l7.72-7.72 1.47 1.35L5.41 20z\"/>\n",
              "  </svg>\n",
              "      </button>\n",
              "      \n",
              "  <style>\n",
              "    .colab-df-container {\n",
              "      display:flex;\n",
              "      flex-wrap:wrap;\n",
              "      gap: 12px;\n",
              "    }\n",
              "\n",
              "    .colab-df-convert {\n",
              "      background-color: #E8F0FE;\n",
              "      border: none;\n",
              "      border-radius: 50%;\n",
              "      cursor: pointer;\n",
              "      display: none;\n",
              "      fill: #1967D2;\n",
              "      height: 32px;\n",
              "      padding: 0 0 0 0;\n",
              "      width: 32px;\n",
              "    }\n",
              "\n",
              "    .colab-df-convert:hover {\n",
              "      background-color: #E2EBFA;\n",
              "      box-shadow: 0px 1px 2px rgba(60, 64, 67, 0.3), 0px 1px 3px 1px rgba(60, 64, 67, 0.15);\n",
              "      fill: #174EA6;\n",
              "    }\n",
              "\n",
              "    [theme=dark] .colab-df-convert {\n",
              "      background-color: #3B4455;\n",
              "      fill: #D2E3FC;\n",
              "    }\n",
              "\n",
              "    [theme=dark] .colab-df-convert:hover {\n",
              "      background-color: #434B5C;\n",
              "      box-shadow: 0px 1px 3px 1px rgba(0, 0, 0, 0.15);\n",
              "      filter: drop-shadow(0px 1px 2px rgba(0, 0, 0, 0.3));\n",
              "      fill: #FFFFFF;\n",
              "    }\n",
              "  </style>\n",
              "\n",
              "      <script>\n",
              "        const buttonEl =\n",
              "          document.querySelector('#df-a5694151-2206-47ab-b6f9-1f4c77b40646 button.colab-df-convert');\n",
              "        buttonEl.style.display =\n",
              "          google.colab.kernel.accessAllowed ? 'block' : 'none';\n",
              "\n",
              "        async function convertToInteractive(key) {\n",
              "          const element = document.querySelector('#df-a5694151-2206-47ab-b6f9-1f4c77b40646');\n",
              "          const dataTable =\n",
              "            await google.colab.kernel.invokeFunction('convertToInteractive',\n",
              "                                                     [key], {});\n",
              "          if (!dataTable) return;\n",
              "\n",
              "          const docLinkHtml = 'Like what you see? Visit the ' +\n",
              "            '<a target=\"_blank\" href=https://colab.research.google.com/notebooks/data_table.ipynb>data table notebook</a>'\n",
              "            + ' to learn more about interactive tables.';\n",
              "          element.innerHTML = '';\n",
              "          dataTable['output_type'] = 'display_data';\n",
              "          await google.colab.output.renderOutput(dataTable, element);\n",
              "          const docLink = document.createElement('div');\n",
              "          docLink.innerHTML = docLinkHtml;\n",
              "          element.appendChild(docLink);\n",
              "        }\n",
              "      </script>\n",
              "    </div>\n",
              "  </div>\n",
              "  "
            ],
            "text/plain": [
              "                                                   title category\n",
              "23402  Sahabat Ceritakan Awal Mula Didi Kempot Tampil...      hot\n",
              "23403  Jangan Genit! Nora Alexandra Cemburu Lihat Net...      hot\n",
              "23404  Bangun Masjid, Atta: Perlukah Diposting di You...      hot\n",
              "23405  Nyanyikan Lagu 'Layang Kangen' dan 'Cidro', Pu...      hot\n",
              "23406  Pandemi Corona, Barbie Kumalasari Kangen dan K...      hot\n",
              "...                                                  ...      ...\n",
              "39727  Sosok Artis Jerry Lawalata, Lama Tak Muncul ki...      hot\n",
              "39728  Diduga Terjerat Narkoba, Jerry Lawalata Ditang...      hot\n",
              "39729             Ogah Bikin Album, Rhoma Irama: Mubazir      hot\n",
              "39730  Pesona Amanda Manopo dan Amanda Caesa Bikin Bi...      hot\n",
              "39731  Jawaban Krisdayanti dan Raul Lemos untuk Aurel...      hot\n",
              "\n",
              "[16330 rows x 2 columns]"
            ]
          },
          "execution_count": 16,
          "metadata": {},
          "output_type": "execute_result"
        }
      ],
      "source": [
        "hot = data[data['category']=='hot']\n",
        "hot"
      ]
    },
    {
      "cell_type": "markdown",
      "metadata": {
        "id": "tRTL35dmy_wU"
      },
      "source": [
        "Kategori hot berisi berita mengenai selebritis"
      ]
    },
    {
      "cell_type": "code",
      "execution_count": null,
      "metadata": {
        "colab": {
          "base_uri": "https://localhost:8080/",
          "height": 423
        },
        "id": "ZWG2Hz1oAI2U",
        "outputId": "31cdcb3e-1fc0-4b5e-c827-1251b3ad5507"
      },
      "outputs": [
        {
          "data": {
            "text/html": [
              "\n",
              "  <div id=\"df-df8db066-c6f0-4791-8415-7085d65e0c83\">\n",
              "    <div class=\"colab-df-container\">\n",
              "      <div>\n",
              "<style scoped>\n",
              "    .dataframe tbody tr th:only-of-type {\n",
              "        vertical-align: middle;\n",
              "    }\n",
              "\n",
              "    .dataframe tbody tr th {\n",
              "        vertical-align: top;\n",
              "    }\n",
              "\n",
              "    .dataframe thead th {\n",
              "        text-align: right;\n",
              "    }\n",
              "</style>\n",
              "<table border=\"1\" class=\"dataframe\">\n",
              "  <thead>\n",
              "    <tr style=\"text-align: right;\">\n",
              "      <th></th>\n",
              "      <th>title</th>\n",
              "      <th>category</th>\n",
              "    </tr>\n",
              "  </thead>\n",
              "  <tbody>\n",
              "    <tr>\n",
              "      <th>84551</th>\n",
              "      <td>Italia Bakal Punya Tempat Pemakaman Islam Pertama</td>\n",
              "      <td>travel</td>\n",
              "    </tr>\n",
              "    <tr>\n",
              "      <th>84552</th>\n",
              "      <td>Mau Wisata ke Pantai Pangandaran? Ini Persyara...</td>\n",
              "      <td>travel</td>\n",
              "    </tr>\n",
              "    <tr>\n",
              "      <th>84553</th>\n",
              "      <td>Penumpang Protes Tak Ada Jaga Jarak di Pesawat...</td>\n",
              "      <td>travel</td>\n",
              "    </tr>\n",
              "    <tr>\n",
              "      <th>84554</th>\n",
              "      <td>Milenial Mau ke Australia? Simak Info Belanja ...</td>\n",
              "      <td>travel</td>\n",
              "    </tr>\n",
              "    <tr>\n",
              "      <th>84555</th>\n",
              "      <td>Yogya Segera Gelar Simulasi dan Uji Coba SOP d...</td>\n",
              "      <td>travel</td>\n",
              "    </tr>\n",
              "    <tr>\n",
              "      <th>...</th>\n",
              "      <td>...</td>\n",
              "      <td>...</td>\n",
              "    </tr>\n",
              "    <tr>\n",
              "      <th>91012</th>\n",
              "      <td>Ketumpahan Air Panas di Pesawat, Kamu Bisa Tun...</td>\n",
              "      <td>travel</td>\n",
              "    </tr>\n",
              "    <tr>\n",
              "      <th>91013</th>\n",
              "      <td>Foto: Bali &amp; 9 Destinasi Paling Instagramable ...</td>\n",
              "      <td>travel</td>\n",
              "    </tr>\n",
              "    <tr>\n",
              "      <th>91014</th>\n",
              "      <td>Game Bikin Turis Ini Liburan ke Jepang untuk.....</td>\n",
              "      <td>travel</td>\n",
              "    </tr>\n",
              "    <tr>\n",
              "      <th>91015</th>\n",
              "      <td>Sekeluarga Didepak dari Pesawat, Maskapai Bila...</td>\n",
              "      <td>travel</td>\n",
              "    </tr>\n",
              "    <tr>\n",
              "      <th>91016</th>\n",
              "      <td>Kapal Raib di Segitiga Bermuda, Nyaris Seabad ...</td>\n",
              "      <td>travel</td>\n",
              "    </tr>\n",
              "  </tbody>\n",
              "</table>\n",
              "<p>6466 rows × 2 columns</p>\n",
              "</div>\n",
              "      <button class=\"colab-df-convert\" onclick=\"convertToInteractive('df-df8db066-c6f0-4791-8415-7085d65e0c83')\"\n",
              "              title=\"Convert this dataframe to an interactive table.\"\n",
              "              style=\"display:none;\">\n",
              "        \n",
              "  <svg xmlns=\"http://www.w3.org/2000/svg\" height=\"24px\"viewBox=\"0 0 24 24\"\n",
              "       width=\"24px\">\n",
              "    <path d=\"M0 0h24v24H0V0z\" fill=\"none\"/>\n",
              "    <path d=\"M18.56 5.44l.94 2.06.94-2.06 2.06-.94-2.06-.94-.94-2.06-.94 2.06-2.06.94zm-11 1L8.5 8.5l.94-2.06 2.06-.94-2.06-.94L8.5 2.5l-.94 2.06-2.06.94zm10 10l.94 2.06.94-2.06 2.06-.94-2.06-.94-.94-2.06-.94 2.06-2.06.94z\"/><path d=\"M17.41 7.96l-1.37-1.37c-.4-.4-.92-.59-1.43-.59-.52 0-1.04.2-1.43.59L10.3 9.45l-7.72 7.72c-.78.78-.78 2.05 0 2.83L4 21.41c.39.39.9.59 1.41.59.51 0 1.02-.2 1.41-.59l7.78-7.78 2.81-2.81c.8-.78.8-2.07 0-2.86zM5.41 20L4 18.59l7.72-7.72 1.47 1.35L5.41 20z\"/>\n",
              "  </svg>\n",
              "      </button>\n",
              "      \n",
              "  <style>\n",
              "    .colab-df-container {\n",
              "      display:flex;\n",
              "      flex-wrap:wrap;\n",
              "      gap: 12px;\n",
              "    }\n",
              "\n",
              "    .colab-df-convert {\n",
              "      background-color: #E8F0FE;\n",
              "      border: none;\n",
              "      border-radius: 50%;\n",
              "      cursor: pointer;\n",
              "      display: none;\n",
              "      fill: #1967D2;\n",
              "      height: 32px;\n",
              "      padding: 0 0 0 0;\n",
              "      width: 32px;\n",
              "    }\n",
              "\n",
              "    .colab-df-convert:hover {\n",
              "      background-color: #E2EBFA;\n",
              "      box-shadow: 0px 1px 2px rgba(60, 64, 67, 0.3), 0px 1px 3px 1px rgba(60, 64, 67, 0.15);\n",
              "      fill: #174EA6;\n",
              "    }\n",
              "\n",
              "    [theme=dark] .colab-df-convert {\n",
              "      background-color: #3B4455;\n",
              "      fill: #D2E3FC;\n",
              "    }\n",
              "\n",
              "    [theme=dark] .colab-df-convert:hover {\n",
              "      background-color: #434B5C;\n",
              "      box-shadow: 0px 1px 3px 1px rgba(0, 0, 0, 0.15);\n",
              "      filter: drop-shadow(0px 1px 2px rgba(0, 0, 0, 0.3));\n",
              "      fill: #FFFFFF;\n",
              "    }\n",
              "  </style>\n",
              "\n",
              "      <script>\n",
              "        const buttonEl =\n",
              "          document.querySelector('#df-df8db066-c6f0-4791-8415-7085d65e0c83 button.colab-df-convert');\n",
              "        buttonEl.style.display =\n",
              "          google.colab.kernel.accessAllowed ? 'block' : 'none';\n",
              "\n",
              "        async function convertToInteractive(key) {\n",
              "          const element = document.querySelector('#df-df8db066-c6f0-4791-8415-7085d65e0c83');\n",
              "          const dataTable =\n",
              "            await google.colab.kernel.invokeFunction('convertToInteractive',\n",
              "                                                     [key], {});\n",
              "          if (!dataTable) return;\n",
              "\n",
              "          const docLinkHtml = 'Like what you see? Visit the ' +\n",
              "            '<a target=\"_blank\" href=https://colab.research.google.com/notebooks/data_table.ipynb>data table notebook</a>'\n",
              "            + ' to learn more about interactive tables.';\n",
              "          element.innerHTML = '';\n",
              "          dataTable['output_type'] = 'display_data';\n",
              "          await google.colab.output.renderOutput(dataTable, element);\n",
              "          const docLink = document.createElement('div');\n",
              "          docLink.innerHTML = docLinkHtml;\n",
              "          element.appendChild(docLink);\n",
              "        }\n",
              "      </script>\n",
              "    </div>\n",
              "  </div>\n",
              "  "
            ],
            "text/plain": [
              "                                                   title category\n",
              "84551  Italia Bakal Punya Tempat Pemakaman Islam Pertama   travel\n",
              "84552  Mau Wisata ke Pantai Pangandaran? Ini Persyara...   travel\n",
              "84553  Penumpang Protes Tak Ada Jaga Jarak di Pesawat...   travel\n",
              "84554  Milenial Mau ke Australia? Simak Info Belanja ...   travel\n",
              "84555  Yogya Segera Gelar Simulasi dan Uji Coba SOP d...   travel\n",
              "...                                                  ...      ...\n",
              "91012  Ketumpahan Air Panas di Pesawat, Kamu Bisa Tun...   travel\n",
              "91013  Foto: Bali & 9 Destinasi Paling Instagramable ...   travel\n",
              "91014  Game Bikin Turis Ini Liburan ke Jepang untuk.....   travel\n",
              "91015  Sekeluarga Didepak dari Pesawat, Maskapai Bila...   travel\n",
              "91016  Kapal Raib di Segitiga Bermuda, Nyaris Seabad ...   travel\n",
              "\n",
              "[6466 rows x 2 columns]"
            ]
          },
          "execution_count": 17,
          "metadata": {},
          "output_type": "execute_result"
        }
      ],
      "source": [
        "travel = data[data['category']=='travel']\n",
        "travel"
      ]
    },
    {
      "cell_type": "markdown",
      "metadata": {
        "id": "9xTzPlsTzEwH"
      },
      "source": [
        "Kategori travel berkaitan dengan pariwisata atau travelling"
      ]
    },
    {
      "cell_type": "code",
      "execution_count": null,
      "metadata": {
        "colab": {
          "base_uri": "https://localhost:8080/",
          "height": 423
        },
        "id": "ZOMrf2UwARCh",
        "outputId": "ccfbe752-7690-40aa-8e30-c1796e32ec2e"
      },
      "outputs": [
        {
          "data": {
            "text/html": [
              "\n",
              "  <div id=\"df-6aa4bf41-0771-48d9-ae0c-5c4874928d8a\">\n",
              "    <div class=\"colab-df-container\">\n",
              "      <div>\n",
              "<style scoped>\n",
              "    .dataframe tbody tr th:only-of-type {\n",
              "        vertical-align: middle;\n",
              "    }\n",
              "\n",
              "    .dataframe tbody tr th {\n",
              "        vertical-align: top;\n",
              "    }\n",
              "\n",
              "    .dataframe thead th {\n",
              "        text-align: right;\n",
              "    }\n",
              "</style>\n",
              "<table border=\"1\" class=\"dataframe\">\n",
              "  <thead>\n",
              "    <tr style=\"text-align: right;\">\n",
              "      <th></th>\n",
              "      <th>title</th>\n",
              "      <th>category</th>\n",
              "    </tr>\n",
              "  </thead>\n",
              "  <tbody>\n",
              "    <tr>\n",
              "      <th>39732</th>\n",
              "      <td>Google Sampai Kekurangan Laptop Karena Work Fr...</td>\n",
              "      <td>inet</td>\n",
              "    </tr>\n",
              "    <tr>\n",
              "      <th>39733</th>\n",
              "      <td>APU AMD Renoir Bakal Punya 8 Core?</td>\n",
              "      <td>inet</td>\n",
              "    </tr>\n",
              "    <tr>\n",
              "      <th>39734</th>\n",
              "      <td>Peran Telkom Atasi COVID-19: Sediakan Layanan ...</td>\n",
              "      <td>inet</td>\n",
              "    </tr>\n",
              "    <tr>\n",
              "      <th>39735</th>\n",
              "      <td>Viral Surat Bebas COVID-19 Dijual Online, Ini ...</td>\n",
              "      <td>inet</td>\n",
              "    </tr>\n",
              "    <tr>\n",
              "      <th>39736</th>\n",
              "      <td>Data Mitra GoFood Aman, Pakar IT: Waspadai Kej...</td>\n",
              "      <td>inet</td>\n",
              "    </tr>\n",
              "    <tr>\n",
              "      <th>...</th>\n",
              "      <td>...</td>\n",
              "      <td>...</td>\n",
              "    </tr>\n",
              "    <tr>\n",
              "      <th>45367</th>\n",
              "      <td>Fitur Baru WhatsApp yang Segera Hadir dan Patu...</td>\n",
              "      <td>inet</td>\n",
              "    </tr>\n",
              "    <tr>\n",
              "      <th>45368</th>\n",
              "      <td>Kawah Asteroid Tertua Ditemukan, Usianya 2,2 M...</td>\n",
              "      <td>inet</td>\n",
              "    </tr>\n",
              "    <tr>\n",
              "      <th>45369</th>\n",
              "      <td>Indosat Dukung BRTI Evaluasi SOP Pergantian SI...</td>\n",
              "      <td>inet</td>\n",
              "    </tr>\n",
              "    <tr>\n",
              "      <th>45370</th>\n",
              "      <td>MU Tumbang, #OleOut Bergaung Kencang</td>\n",
              "      <td>inet</td>\n",
              "    </tr>\n",
              "    <tr>\n",
              "      <th>45371</th>\n",
              "      <td>Ini Bukti TikTok Ancaman Nyata Facebook</td>\n",
              "      <td>inet</td>\n",
              "    </tr>\n",
              "  </tbody>\n",
              "</table>\n",
              "<p>5640 rows × 2 columns</p>\n",
              "</div>\n",
              "      <button class=\"colab-df-convert\" onclick=\"convertToInteractive('df-6aa4bf41-0771-48d9-ae0c-5c4874928d8a')\"\n",
              "              title=\"Convert this dataframe to an interactive table.\"\n",
              "              style=\"display:none;\">\n",
              "        \n",
              "  <svg xmlns=\"http://www.w3.org/2000/svg\" height=\"24px\"viewBox=\"0 0 24 24\"\n",
              "       width=\"24px\">\n",
              "    <path d=\"M0 0h24v24H0V0z\" fill=\"none\"/>\n",
              "    <path d=\"M18.56 5.44l.94 2.06.94-2.06 2.06-.94-2.06-.94-.94-2.06-.94 2.06-2.06.94zm-11 1L8.5 8.5l.94-2.06 2.06-.94-2.06-.94L8.5 2.5l-.94 2.06-2.06.94zm10 10l.94 2.06.94-2.06 2.06-.94-2.06-.94-.94-2.06-.94 2.06-2.06.94z\"/><path d=\"M17.41 7.96l-1.37-1.37c-.4-.4-.92-.59-1.43-.59-.52 0-1.04.2-1.43.59L10.3 9.45l-7.72 7.72c-.78.78-.78 2.05 0 2.83L4 21.41c.39.39.9.59 1.41.59.51 0 1.02-.2 1.41-.59l7.78-7.78 2.81-2.81c.8-.78.8-2.07 0-2.86zM5.41 20L4 18.59l7.72-7.72 1.47 1.35L5.41 20z\"/>\n",
              "  </svg>\n",
              "      </button>\n",
              "      \n",
              "  <style>\n",
              "    .colab-df-container {\n",
              "      display:flex;\n",
              "      flex-wrap:wrap;\n",
              "      gap: 12px;\n",
              "    }\n",
              "\n",
              "    .colab-df-convert {\n",
              "      background-color: #E8F0FE;\n",
              "      border: none;\n",
              "      border-radius: 50%;\n",
              "      cursor: pointer;\n",
              "      display: none;\n",
              "      fill: #1967D2;\n",
              "      height: 32px;\n",
              "      padding: 0 0 0 0;\n",
              "      width: 32px;\n",
              "    }\n",
              "\n",
              "    .colab-df-convert:hover {\n",
              "      background-color: #E2EBFA;\n",
              "      box-shadow: 0px 1px 2px rgba(60, 64, 67, 0.3), 0px 1px 3px 1px rgba(60, 64, 67, 0.15);\n",
              "      fill: #174EA6;\n",
              "    }\n",
              "\n",
              "    [theme=dark] .colab-df-convert {\n",
              "      background-color: #3B4455;\n",
              "      fill: #D2E3FC;\n",
              "    }\n",
              "\n",
              "    [theme=dark] .colab-df-convert:hover {\n",
              "      background-color: #434B5C;\n",
              "      box-shadow: 0px 1px 3px 1px rgba(0, 0, 0, 0.15);\n",
              "      filter: drop-shadow(0px 1px 2px rgba(0, 0, 0, 0.3));\n",
              "      fill: #FFFFFF;\n",
              "    }\n",
              "  </style>\n",
              "\n",
              "      <script>\n",
              "        const buttonEl =\n",
              "          document.querySelector('#df-6aa4bf41-0771-48d9-ae0c-5c4874928d8a button.colab-df-convert');\n",
              "        buttonEl.style.display =\n",
              "          google.colab.kernel.accessAllowed ? 'block' : 'none';\n",
              "\n",
              "        async function convertToInteractive(key) {\n",
              "          const element = document.querySelector('#df-6aa4bf41-0771-48d9-ae0c-5c4874928d8a');\n",
              "          const dataTable =\n",
              "            await google.colab.kernel.invokeFunction('convertToInteractive',\n",
              "                                                     [key], {});\n",
              "          if (!dataTable) return;\n",
              "\n",
              "          const docLinkHtml = 'Like what you see? Visit the ' +\n",
              "            '<a target=\"_blank\" href=https://colab.research.google.com/notebooks/data_table.ipynb>data table notebook</a>'\n",
              "            + ' to learn more about interactive tables.';\n",
              "          element.innerHTML = '';\n",
              "          dataTable['output_type'] = 'display_data';\n",
              "          await google.colab.output.renderOutput(dataTable, element);\n",
              "          const docLink = document.createElement('div');\n",
              "          docLink.innerHTML = docLinkHtml;\n",
              "          element.appendChild(docLink);\n",
              "        }\n",
              "      </script>\n",
              "    </div>\n",
              "  </div>\n",
              "  "
            ],
            "text/plain": [
              "                                                   title category\n",
              "39732  Google Sampai Kekurangan Laptop Karena Work Fr...     inet\n",
              "39733                 APU AMD Renoir Bakal Punya 8 Core?     inet\n",
              "39734  Peran Telkom Atasi COVID-19: Sediakan Layanan ...     inet\n",
              "39735  Viral Surat Bebas COVID-19 Dijual Online, Ini ...     inet\n",
              "39736  Data Mitra GoFood Aman, Pakar IT: Waspadai Kej...     inet\n",
              "...                                                  ...      ...\n",
              "45367  Fitur Baru WhatsApp yang Segera Hadir dan Patu...     inet\n",
              "45368  Kawah Asteroid Tertua Ditemukan, Usianya 2,2 M...     inet\n",
              "45369  Indosat Dukung BRTI Evaluasi SOP Pergantian SI...     inet\n",
              "45370               MU Tumbang, #OleOut Bergaung Kencang     inet\n",
              "45371            Ini Bukti TikTok Ancaman Nyata Facebook     inet\n",
              "\n",
              "[5640 rows x 2 columns]"
            ]
          },
          "execution_count": 18,
          "metadata": {},
          "output_type": "execute_result"
        }
      ],
      "source": [
        "inet = data[data['category']=='inet']\n",
        "inet"
      ]
    },
    {
      "cell_type": "markdown",
      "metadata": {
        "id": "G6S12dn1zMP9"
      },
      "source": [
        "Kategori Inet lebih ke internet dan teknologi"
      ]
    },
    {
      "cell_type": "code",
      "execution_count": null,
      "metadata": {
        "colab": {
          "base_uri": "https://localhost:8080/",
          "height": 423
        },
        "id": "V-n_W7wRAc1d",
        "outputId": "ad0db158-5438-4406-9373-a04256ebdfb8"
      },
      "outputs": [
        {
          "data": {
            "text/html": [
              "\n",
              "  <div id=\"df-4089de9f-e7b2-416a-a61e-7d4dd4865543\">\n",
              "    <div class=\"colab-df-container\">\n",
              "      <div>\n",
              "<style scoped>\n",
              "    .dataframe tbody tr th:only-of-type {\n",
              "        vertical-align: middle;\n",
              "    }\n",
              "\n",
              "    .dataframe tbody tr th {\n",
              "        vertical-align: top;\n",
              "    }\n",
              "\n",
              "    .dataframe thead th {\n",
              "        text-align: right;\n",
              "    }\n",
              "</style>\n",
              "<table border=\"1\" class=\"dataframe\">\n",
              "  <thead>\n",
              "    <tr style=\"text-align: right;\">\n",
              "      <th></th>\n",
              "      <th>title</th>\n",
              "      <th>category</th>\n",
              "    </tr>\n",
              "  </thead>\n",
              "  <tbody>\n",
              "    <tr>\n",
              "      <th>18483</th>\n",
              "      <td>Pemuda Sulsel Curi CD dan Bra Emak-emak, Terma...</td>\n",
              "      <td>health</td>\n",
              "    </tr>\n",
              "    <tr>\n",
              "      <th>18484</th>\n",
              "      <td>Pemuda di Sulsel Curi Bra dan 'CD' Emak-emak, ...</td>\n",
              "      <td>health</td>\n",
              "    </tr>\n",
              "    <tr>\n",
              "      <th>18485</th>\n",
              "      <td>Netizen Sebut Health Alert Card Ribet dan Tak ...</td>\n",
              "      <td>health</td>\n",
              "    </tr>\n",
              "    <tr>\n",
              "      <th>18486</th>\n",
              "      <td>Apa yang Bikin Seks Terasa Menyenangkan? Riset...</td>\n",
              "      <td>health</td>\n",
              "    </tr>\n",
              "    <tr>\n",
              "      <th>18487</th>\n",
              "      <td>Studi Mengatakan COVID-19 Tidak Menular ke Janin</td>\n",
              "      <td>health</td>\n",
              "    </tr>\n",
              "    <tr>\n",
              "      <th>...</th>\n",
              "      <td>...</td>\n",
              "      <td>...</td>\n",
              "    </tr>\n",
              "    <tr>\n",
              "      <th>23397</th>\n",
              "      <td>Tips Aman Berbelanja Agar Tak Tertular Virus C...</td>\n",
              "      <td>health</td>\n",
              "    </tr>\n",
              "    <tr>\n",
              "      <th>23398</th>\n",
              "      <td>Mungkinkah Virus Corona Aktif Lagi Setelah Pas...</td>\n",
              "      <td>health</td>\n",
              "    </tr>\n",
              "    <tr>\n",
              "      <th>23399</th>\n",
              "      <td>Kenali Berbagai Pemicu Stres Saat Bekerja dari...</td>\n",
              "      <td>health</td>\n",
              "    </tr>\n",
              "    <tr>\n",
              "      <th>23400</th>\n",
              "      <td>Jumlah Pasien Corona Tembus 2 Juta, Terbanyak ...</td>\n",
              "      <td>health</td>\n",
              "    </tr>\n",
              "    <tr>\n",
              "      <th>23401</th>\n",
              "      <td>Pemilik Payudara Terbesar Berdasarkan Ukuran C...</td>\n",
              "      <td>health</td>\n",
              "    </tr>\n",
              "  </tbody>\n",
              "</table>\n",
              "<p>4919 rows × 2 columns</p>\n",
              "</div>\n",
              "      <button class=\"colab-df-convert\" onclick=\"convertToInteractive('df-4089de9f-e7b2-416a-a61e-7d4dd4865543')\"\n",
              "              title=\"Convert this dataframe to an interactive table.\"\n",
              "              style=\"display:none;\">\n",
              "        \n",
              "  <svg xmlns=\"http://www.w3.org/2000/svg\" height=\"24px\"viewBox=\"0 0 24 24\"\n",
              "       width=\"24px\">\n",
              "    <path d=\"M0 0h24v24H0V0z\" fill=\"none\"/>\n",
              "    <path d=\"M18.56 5.44l.94 2.06.94-2.06 2.06-.94-2.06-.94-.94-2.06-.94 2.06-2.06.94zm-11 1L8.5 8.5l.94-2.06 2.06-.94-2.06-.94L8.5 2.5l-.94 2.06-2.06.94zm10 10l.94 2.06.94-2.06 2.06-.94-2.06-.94-.94-2.06-.94 2.06-2.06.94z\"/><path d=\"M17.41 7.96l-1.37-1.37c-.4-.4-.92-.59-1.43-.59-.52 0-1.04.2-1.43.59L10.3 9.45l-7.72 7.72c-.78.78-.78 2.05 0 2.83L4 21.41c.39.39.9.59 1.41.59.51 0 1.02-.2 1.41-.59l7.78-7.78 2.81-2.81c.8-.78.8-2.07 0-2.86zM5.41 20L4 18.59l7.72-7.72 1.47 1.35L5.41 20z\"/>\n",
              "  </svg>\n",
              "      </button>\n",
              "      \n",
              "  <style>\n",
              "    .colab-df-container {\n",
              "      display:flex;\n",
              "      flex-wrap:wrap;\n",
              "      gap: 12px;\n",
              "    }\n",
              "\n",
              "    .colab-df-convert {\n",
              "      background-color: #E8F0FE;\n",
              "      border: none;\n",
              "      border-radius: 50%;\n",
              "      cursor: pointer;\n",
              "      display: none;\n",
              "      fill: #1967D2;\n",
              "      height: 32px;\n",
              "      padding: 0 0 0 0;\n",
              "      width: 32px;\n",
              "    }\n",
              "\n",
              "    .colab-df-convert:hover {\n",
              "      background-color: #E2EBFA;\n",
              "      box-shadow: 0px 1px 2px rgba(60, 64, 67, 0.3), 0px 1px 3px 1px rgba(60, 64, 67, 0.15);\n",
              "      fill: #174EA6;\n",
              "    }\n",
              "\n",
              "    [theme=dark] .colab-df-convert {\n",
              "      background-color: #3B4455;\n",
              "      fill: #D2E3FC;\n",
              "    }\n",
              "\n",
              "    [theme=dark] .colab-df-convert:hover {\n",
              "      background-color: #434B5C;\n",
              "      box-shadow: 0px 1px 3px 1px rgba(0, 0, 0, 0.15);\n",
              "      filter: drop-shadow(0px 1px 2px rgba(0, 0, 0, 0.3));\n",
              "      fill: #FFFFFF;\n",
              "    }\n",
              "  </style>\n",
              "\n",
              "      <script>\n",
              "        const buttonEl =\n",
              "          document.querySelector('#df-4089de9f-e7b2-416a-a61e-7d4dd4865543 button.colab-df-convert');\n",
              "        buttonEl.style.display =\n",
              "          google.colab.kernel.accessAllowed ? 'block' : 'none';\n",
              "\n",
              "        async function convertToInteractive(key) {\n",
              "          const element = document.querySelector('#df-4089de9f-e7b2-416a-a61e-7d4dd4865543');\n",
              "          const dataTable =\n",
              "            await google.colab.kernel.invokeFunction('convertToInteractive',\n",
              "                                                     [key], {});\n",
              "          if (!dataTable) return;\n",
              "\n",
              "          const docLinkHtml = 'Like what you see? Visit the ' +\n",
              "            '<a target=\"_blank\" href=https://colab.research.google.com/notebooks/data_table.ipynb>data table notebook</a>'\n",
              "            + ' to learn more about interactive tables.';\n",
              "          element.innerHTML = '';\n",
              "          dataTable['output_type'] = 'display_data';\n",
              "          await google.colab.output.renderOutput(dataTable, element);\n",
              "          const docLink = document.createElement('div');\n",
              "          docLink.innerHTML = docLinkHtml;\n",
              "          element.appendChild(docLink);\n",
              "        }\n",
              "      </script>\n",
              "    </div>\n",
              "  </div>\n",
              "  "
            ],
            "text/plain": [
              "                                                   title category\n",
              "18483  Pemuda Sulsel Curi CD dan Bra Emak-emak, Terma...   health\n",
              "18484  Pemuda di Sulsel Curi Bra dan 'CD' Emak-emak, ...   health\n",
              "18485  Netizen Sebut Health Alert Card Ribet dan Tak ...   health\n",
              "18486  Apa yang Bikin Seks Terasa Menyenangkan? Riset...   health\n",
              "18487   Studi Mengatakan COVID-19 Tidak Menular ke Janin   health\n",
              "...                                                  ...      ...\n",
              "23397  Tips Aman Berbelanja Agar Tak Tertular Virus C...   health\n",
              "23398  Mungkinkah Virus Corona Aktif Lagi Setelah Pas...   health\n",
              "23399  Kenali Berbagai Pemicu Stres Saat Bekerja dari...   health\n",
              "23400  Jumlah Pasien Corona Tembus 2 Juta, Terbanyak ...   health\n",
              "23401  Pemilik Payudara Terbesar Berdasarkan Ukuran C...   health\n",
              "\n",
              "[4919 rows x 2 columns]"
            ]
          },
          "execution_count": 19,
          "metadata": {},
          "output_type": "execute_result"
        }
      ],
      "source": [
        "health = data[data['category']=='health']\n",
        "health"
      ]
    },
    {
      "cell_type": "markdown",
      "metadata": {
        "id": "elSsXB9_zTWP"
      },
      "source": [
        "Kategori Health berkaitan dengan kesehatan"
      ]
    },
    {
      "cell_type": "code",
      "execution_count": null,
      "metadata": {
        "colab": {
          "base_uri": "https://localhost:8080/",
          "height": 423
        },
        "id": "Pssx0-mcCBWr",
        "outputId": "658369ca-5174-4ab4-a7de-06d9adbcff78"
      },
      "outputs": [
        {
          "data": {
            "text/html": [
              "\n",
              "  <div id=\"df-b6e9e541-38fc-4e31-8fe7-6f14bded1de1\">\n",
              "    <div class=\"colab-df-container\">\n",
              "      <div>\n",
              "<style scoped>\n",
              "    .dataframe tbody tr th:only-of-type {\n",
              "        vertical-align: middle;\n",
              "    }\n",
              "\n",
              "    .dataframe tbody tr th {\n",
              "        vertical-align: top;\n",
              "    }\n",
              "\n",
              "    .dataframe thead th {\n",
              "        text-align: right;\n",
              "    }\n",
              "</style>\n",
              "<table border=\"1\" class=\"dataframe\">\n",
              "  <thead>\n",
              "    <tr style=\"text-align: right;\">\n",
              "      <th></th>\n",
              "      <th>title</th>\n",
              "      <th>category</th>\n",
              "    </tr>\n",
              "  </thead>\n",
              "  <tbody>\n",
              "    <tr>\n",
              "      <th>77732</th>\n",
              "      <td>Elegan dan Misterius, Ini Wujud New MINI Count...</td>\n",
              "      <td>oto</td>\n",
              "    </tr>\n",
              "    <tr>\n",
              "      <th>77733</th>\n",
              "      <td>Seluruh Moda Transportasi Boleh Beroperasi Lag...</td>\n",
              "      <td>oto</td>\n",
              "    </tr>\n",
              "    <tr>\n",
              "      <th>77734</th>\n",
              "      <td>Tokcer, Penjualan MINI Naik 16% di Tengah Pand...</td>\n",
              "      <td>oto</td>\n",
              "    </tr>\n",
              "    <tr>\n",
              "      <th>77735</th>\n",
              "      <td>12 Hari Larangan Mudik: Polda Metro Putar Bali...</td>\n",
              "      <td>oto</td>\n",
              "    </tr>\n",
              "    <tr>\n",
              "      <th>77736</th>\n",
              "      <td>Apa Kabar Denda Rp 100 Juta untuk Pemudik Naka...</td>\n",
              "      <td>oto</td>\n",
              "    </tr>\n",
              "    <tr>\n",
              "      <th>...</th>\n",
              "      <td>...</td>\n",
              "      <td>...</td>\n",
              "    </tr>\n",
              "    <tr>\n",
              "      <th>82110</th>\n",
              "      <td>Terpopuler: Trio Mobil China Dobrak Dominasi J...</td>\n",
              "      <td>oto</td>\n",
              "    </tr>\n",
              "    <tr>\n",
              "      <th>82111</th>\n",
              "      <td>Mobil Hybrid yang Pernah Ditumpangi Anies Basw...</td>\n",
              "      <td>oto</td>\n",
              "    </tr>\n",
              "    <tr>\n",
              "      <th>82112</th>\n",
              "      <td>Selain Komentari MotoGP, Matteo Jual Motor yan...</td>\n",
              "      <td>oto</td>\n",
              "    </tr>\n",
              "    <tr>\n",
              "      <th>82113</th>\n",
              "      <td>Corona, Aksi Kebut-kebutan Dominic Toretto di ...</td>\n",
              "      <td>oto</td>\n",
              "    </tr>\n",
              "    <tr>\n",
              "      <th>82114</th>\n",
              "      <td>F1 GP Australia Dibatalkan</td>\n",
              "      <td>oto</td>\n",
              "    </tr>\n",
              "  </tbody>\n",
              "</table>\n",
              "<p>4383 rows × 2 columns</p>\n",
              "</div>\n",
              "      <button class=\"colab-df-convert\" onclick=\"convertToInteractive('df-b6e9e541-38fc-4e31-8fe7-6f14bded1de1')\"\n",
              "              title=\"Convert this dataframe to an interactive table.\"\n",
              "              style=\"display:none;\">\n",
              "        \n",
              "  <svg xmlns=\"http://www.w3.org/2000/svg\" height=\"24px\"viewBox=\"0 0 24 24\"\n",
              "       width=\"24px\">\n",
              "    <path d=\"M0 0h24v24H0V0z\" fill=\"none\"/>\n",
              "    <path d=\"M18.56 5.44l.94 2.06.94-2.06 2.06-.94-2.06-.94-.94-2.06-.94 2.06-2.06.94zm-11 1L8.5 8.5l.94-2.06 2.06-.94-2.06-.94L8.5 2.5l-.94 2.06-2.06.94zm10 10l.94 2.06.94-2.06 2.06-.94-2.06-.94-.94-2.06-.94 2.06-2.06.94z\"/><path d=\"M17.41 7.96l-1.37-1.37c-.4-.4-.92-.59-1.43-.59-.52 0-1.04.2-1.43.59L10.3 9.45l-7.72 7.72c-.78.78-.78 2.05 0 2.83L4 21.41c.39.39.9.59 1.41.59.51 0 1.02-.2 1.41-.59l7.78-7.78 2.81-2.81c.8-.78.8-2.07 0-2.86zM5.41 20L4 18.59l7.72-7.72 1.47 1.35L5.41 20z\"/>\n",
              "  </svg>\n",
              "      </button>\n",
              "      \n",
              "  <style>\n",
              "    .colab-df-container {\n",
              "      display:flex;\n",
              "      flex-wrap:wrap;\n",
              "      gap: 12px;\n",
              "    }\n",
              "\n",
              "    .colab-df-convert {\n",
              "      background-color: #E8F0FE;\n",
              "      border: none;\n",
              "      border-radius: 50%;\n",
              "      cursor: pointer;\n",
              "      display: none;\n",
              "      fill: #1967D2;\n",
              "      height: 32px;\n",
              "      padding: 0 0 0 0;\n",
              "      width: 32px;\n",
              "    }\n",
              "\n",
              "    .colab-df-convert:hover {\n",
              "      background-color: #E2EBFA;\n",
              "      box-shadow: 0px 1px 2px rgba(60, 64, 67, 0.3), 0px 1px 3px 1px rgba(60, 64, 67, 0.15);\n",
              "      fill: #174EA6;\n",
              "    }\n",
              "\n",
              "    [theme=dark] .colab-df-convert {\n",
              "      background-color: #3B4455;\n",
              "      fill: #D2E3FC;\n",
              "    }\n",
              "\n",
              "    [theme=dark] .colab-df-convert:hover {\n",
              "      background-color: #434B5C;\n",
              "      box-shadow: 0px 1px 3px 1px rgba(0, 0, 0, 0.15);\n",
              "      filter: drop-shadow(0px 1px 2px rgba(0, 0, 0, 0.3));\n",
              "      fill: #FFFFFF;\n",
              "    }\n",
              "  </style>\n",
              "\n",
              "      <script>\n",
              "        const buttonEl =\n",
              "          document.querySelector('#df-b6e9e541-38fc-4e31-8fe7-6f14bded1de1 button.colab-df-convert');\n",
              "        buttonEl.style.display =\n",
              "          google.colab.kernel.accessAllowed ? 'block' : 'none';\n",
              "\n",
              "        async function convertToInteractive(key) {\n",
              "          const element = document.querySelector('#df-b6e9e541-38fc-4e31-8fe7-6f14bded1de1');\n",
              "          const dataTable =\n",
              "            await google.colab.kernel.invokeFunction('convertToInteractive',\n",
              "                                                     [key], {});\n",
              "          if (!dataTable) return;\n",
              "\n",
              "          const docLinkHtml = 'Like what you see? Visit the ' +\n",
              "            '<a target=\"_blank\" href=https://colab.research.google.com/notebooks/data_table.ipynb>data table notebook</a>'\n",
              "            + ' to learn more about interactive tables.';\n",
              "          element.innerHTML = '';\n",
              "          dataTable['output_type'] = 'display_data';\n",
              "          await google.colab.output.renderOutput(dataTable, element);\n",
              "          const docLink = document.createElement('div');\n",
              "          docLink.innerHTML = docLinkHtml;\n",
              "          element.appendChild(docLink);\n",
              "        }\n",
              "      </script>\n",
              "    </div>\n",
              "  </div>\n",
              "  "
            ],
            "text/plain": [
              "                                                   title category\n",
              "77732  Elegan dan Misterius, Ini Wujud New MINI Count...      oto\n",
              "77733  Seluruh Moda Transportasi Boleh Beroperasi Lag...      oto\n",
              "77734  Tokcer, Penjualan MINI Naik 16% di Tengah Pand...      oto\n",
              "77735  12 Hari Larangan Mudik: Polda Metro Putar Bali...      oto\n",
              "77736  Apa Kabar Denda Rp 100 Juta untuk Pemudik Naka...      oto\n",
              "...                                                  ...      ...\n",
              "82110  Terpopuler: Trio Mobil China Dobrak Dominasi J...      oto\n",
              "82111  Mobil Hybrid yang Pernah Ditumpangi Anies Basw...      oto\n",
              "82112  Selain Komentari MotoGP, Matteo Jual Motor yan...      oto\n",
              "82113  Corona, Aksi Kebut-kebutan Dominic Toretto di ...      oto\n",
              "82114                         F1 GP Australia Dibatalkan      oto\n",
              "\n",
              "[4383 rows x 2 columns]"
            ]
          },
          "execution_count": 20,
          "metadata": {},
          "output_type": "execute_result"
        }
      ],
      "source": [
        "oto = data[data['category']=='oto']\n",
        "oto"
      ]
    },
    {
      "cell_type": "markdown",
      "metadata": {
        "id": "mHbGSp_kzXEa"
      },
      "source": [
        "Kategori oto berkaitan dengan automotif"
      ]
    },
    {
      "cell_type": "code",
      "execution_count": null,
      "metadata": {
        "colab": {
          "base_uri": "https://localhost:8080/",
          "height": 423
        },
        "id": "ZZPZrFSeCQMq",
        "outputId": "5186eb12-50cc-4ed9-a3f4-14a4dd2438f5"
      },
      "outputs": [
        {
          "data": {
            "text/html": [
              "\n",
              "  <div id=\"df-7c09ae1a-d60c-4e95-a713-672184bc4d3e\">\n",
              "    <div class=\"colab-df-container\">\n",
              "      <div>\n",
              "<style scoped>\n",
              "    .dataframe tbody tr th:only-of-type {\n",
              "        vertical-align: middle;\n",
              "    }\n",
              "\n",
              "    .dataframe tbody tr th {\n",
              "        vertical-align: top;\n",
              "    }\n",
              "\n",
              "    .dataframe thead th {\n",
              "        text-align: right;\n",
              "    }\n",
              "</style>\n",
              "<table border=\"1\" class=\"dataframe\">\n",
              "  <thead>\n",
              "    <tr style=\"text-align: right;\">\n",
              "      <th></th>\n",
              "      <th>title</th>\n",
              "      <th>category</th>\n",
              "    </tr>\n",
              "  </thead>\n",
              "  <tbody>\n",
              "    <tr>\n",
              "      <th>14168</th>\n",
              "      <td>Galeri Foto Kocak! Begini Jadinya Kalau 'Oppa'...</td>\n",
              "      <td>food</td>\n",
              "    </tr>\n",
              "    <tr>\n",
              "      <th>14169</th>\n",
              "      <td>Galeri Foto Niat Abis! Netizen Luangkan Waktu ...</td>\n",
              "      <td>food</td>\n",
              "    </tr>\n",
              "    <tr>\n",
              "      <th>14170</th>\n",
              "      <td>Keseruan Putri Delina Siapkan Menu Sahur untuk...</td>\n",
              "      <td>food</td>\n",
              "    </tr>\n",
              "    <tr>\n",
              "      <th>14171</th>\n",
              "      <td>Yuk, Intip! Aksi Orang Korea Bikin Sambal Ulek...</td>\n",
              "      <td>food</td>\n",
              "    </tr>\n",
              "    <tr>\n",
              "      <th>14172</th>\n",
              "      <td>Resep Tumis Ayam dan Tofu yang Sedap Untuk Sahur</td>\n",
              "      <td>food</td>\n",
              "    </tr>\n",
              "    <tr>\n",
              "      <th>...</th>\n",
              "      <td>...</td>\n",
              "      <td>...</td>\n",
              "    </tr>\n",
              "    <tr>\n",
              "      <th>18478</th>\n",
              "      <td>Wanita Ini Diprotes Gara-gara Cuci Ayam Pakai ...</td>\n",
              "      <td>food</td>\n",
              "    </tr>\n",
              "    <tr>\n",
              "      <th>18479</th>\n",
              "      <td>7 Bahan Makanan Ini Bisa Gantikan Telur dalam ...</td>\n",
              "      <td>food</td>\n",
              "    </tr>\n",
              "    <tr>\n",
              "      <th>18480</th>\n",
              "      <td>Spiderman Kirim Sayuran hingga Donat, Aksi Keb...</td>\n",
              "      <td>food</td>\n",
              "    </tr>\n",
              "    <tr>\n",
              "      <th>18481</th>\n",
              "      <td>Begini Persiapan Orang Indonesia yang Jalani P...</td>\n",
              "      <td>food</td>\n",
              "    </tr>\n",
              "    <tr>\n",
              "      <th>18482</th>\n",
              "      <td>Bikin Nafsu Makan Hilang, Ini 5 Iklan Makanan ...</td>\n",
              "      <td>food</td>\n",
              "    </tr>\n",
              "  </tbody>\n",
              "</table>\n",
              "<p>4315 rows × 2 columns</p>\n",
              "</div>\n",
              "      <button class=\"colab-df-convert\" onclick=\"convertToInteractive('df-7c09ae1a-d60c-4e95-a713-672184bc4d3e')\"\n",
              "              title=\"Convert this dataframe to an interactive table.\"\n",
              "              style=\"display:none;\">\n",
              "        \n",
              "  <svg xmlns=\"http://www.w3.org/2000/svg\" height=\"24px\"viewBox=\"0 0 24 24\"\n",
              "       width=\"24px\">\n",
              "    <path d=\"M0 0h24v24H0V0z\" fill=\"none\"/>\n",
              "    <path d=\"M18.56 5.44l.94 2.06.94-2.06 2.06-.94-2.06-.94-.94-2.06-.94 2.06-2.06.94zm-11 1L8.5 8.5l.94-2.06 2.06-.94-2.06-.94L8.5 2.5l-.94 2.06-2.06.94zm10 10l.94 2.06.94-2.06 2.06-.94-2.06-.94-.94-2.06-.94 2.06-2.06.94z\"/><path d=\"M17.41 7.96l-1.37-1.37c-.4-.4-.92-.59-1.43-.59-.52 0-1.04.2-1.43.59L10.3 9.45l-7.72 7.72c-.78.78-.78 2.05 0 2.83L4 21.41c.39.39.9.59 1.41.59.51 0 1.02-.2 1.41-.59l7.78-7.78 2.81-2.81c.8-.78.8-2.07 0-2.86zM5.41 20L4 18.59l7.72-7.72 1.47 1.35L5.41 20z\"/>\n",
              "  </svg>\n",
              "      </button>\n",
              "      \n",
              "  <style>\n",
              "    .colab-df-container {\n",
              "      display:flex;\n",
              "      flex-wrap:wrap;\n",
              "      gap: 12px;\n",
              "    }\n",
              "\n",
              "    .colab-df-convert {\n",
              "      background-color: #E8F0FE;\n",
              "      border: none;\n",
              "      border-radius: 50%;\n",
              "      cursor: pointer;\n",
              "      display: none;\n",
              "      fill: #1967D2;\n",
              "      height: 32px;\n",
              "      padding: 0 0 0 0;\n",
              "      width: 32px;\n",
              "    }\n",
              "\n",
              "    .colab-df-convert:hover {\n",
              "      background-color: #E2EBFA;\n",
              "      box-shadow: 0px 1px 2px rgba(60, 64, 67, 0.3), 0px 1px 3px 1px rgba(60, 64, 67, 0.15);\n",
              "      fill: #174EA6;\n",
              "    }\n",
              "\n",
              "    [theme=dark] .colab-df-convert {\n",
              "      background-color: #3B4455;\n",
              "      fill: #D2E3FC;\n",
              "    }\n",
              "\n",
              "    [theme=dark] .colab-df-convert:hover {\n",
              "      background-color: #434B5C;\n",
              "      box-shadow: 0px 1px 3px 1px rgba(0, 0, 0, 0.15);\n",
              "      filter: drop-shadow(0px 1px 2px rgba(0, 0, 0, 0.3));\n",
              "      fill: #FFFFFF;\n",
              "    }\n",
              "  </style>\n",
              "\n",
              "      <script>\n",
              "        const buttonEl =\n",
              "          document.querySelector('#df-7c09ae1a-d60c-4e95-a713-672184bc4d3e button.colab-df-convert');\n",
              "        buttonEl.style.display =\n",
              "          google.colab.kernel.accessAllowed ? 'block' : 'none';\n",
              "\n",
              "        async function convertToInteractive(key) {\n",
              "          const element = document.querySelector('#df-7c09ae1a-d60c-4e95-a713-672184bc4d3e');\n",
              "          const dataTable =\n",
              "            await google.colab.kernel.invokeFunction('convertToInteractive',\n",
              "                                                     [key], {});\n",
              "          if (!dataTable) return;\n",
              "\n",
              "          const docLinkHtml = 'Like what you see? Visit the ' +\n",
              "            '<a target=\"_blank\" href=https://colab.research.google.com/notebooks/data_table.ipynb>data table notebook</a>'\n",
              "            + ' to learn more about interactive tables.';\n",
              "          element.innerHTML = '';\n",
              "          dataTable['output_type'] = 'display_data';\n",
              "          await google.colab.output.renderOutput(dataTable, element);\n",
              "          const docLink = document.createElement('div');\n",
              "          docLink.innerHTML = docLinkHtml;\n",
              "          element.appendChild(docLink);\n",
              "        }\n",
              "      </script>\n",
              "    </div>\n",
              "  </div>\n",
              "  "
            ],
            "text/plain": [
              "                                                   title category\n",
              "14168  Galeri Foto Kocak! Begini Jadinya Kalau 'Oppa'...     food\n",
              "14169  Galeri Foto Niat Abis! Netizen Luangkan Waktu ...     food\n",
              "14170  Keseruan Putri Delina Siapkan Menu Sahur untuk...     food\n",
              "14171  Yuk, Intip! Aksi Orang Korea Bikin Sambal Ulek...     food\n",
              "14172   Resep Tumis Ayam dan Tofu yang Sedap Untuk Sahur     food\n",
              "...                                                  ...      ...\n",
              "18478  Wanita Ini Diprotes Gara-gara Cuci Ayam Pakai ...     food\n",
              "18479  7 Bahan Makanan Ini Bisa Gantikan Telur dalam ...     food\n",
              "18480  Spiderman Kirim Sayuran hingga Donat, Aksi Keb...     food\n",
              "18481  Begini Persiapan Orang Indonesia yang Jalani P...     food\n",
              "18482  Bikin Nafsu Makan Hilang, Ini 5 Iklan Makanan ...     food\n",
              "\n",
              "[4315 rows x 2 columns]"
            ]
          },
          "execution_count": 21,
          "metadata": {},
          "output_type": "execute_result"
        }
      ],
      "source": [
        "food = data[data['category']=='food']\n",
        "food"
      ]
    },
    {
      "cell_type": "markdown",
      "metadata": {
        "id": "1FLqSoEKzb2V"
      },
      "source": [
        "Kategori food berkaitan dengan makanan dan minuman"
      ]
    },
    {
      "cell_type": "code",
      "execution_count": null,
      "metadata": {
        "colab": {
          "base_uri": "https://localhost:8080/",
          "height": 423
        },
        "id": "NFXovMn4Cd5M",
        "outputId": "1a158b10-c94b-432d-bafc-ec7486904332"
      },
      "outputs": [
        {
          "data": {
            "text/html": [
              "\n",
              "  <div id=\"df-793001c8-5fe8-4481-bd65-ba0c8f76aa59\">\n",
              "    <div class=\"colab-df-container\">\n",
              "      <div>\n",
              "<style scoped>\n",
              "    .dataframe tbody tr th:only-of-type {\n",
              "        vertical-align: middle;\n",
              "    }\n",
              "\n",
              "    .dataframe tbody tr th {\n",
              "        vertical-align: top;\n",
              "    }\n",
              "\n",
              "    .dataframe thead th {\n",
              "        text-align: right;\n",
              "    }\n",
              "</style>\n",
              "<table border=\"1\" class=\"dataframe\">\n",
              "  <thead>\n",
              "    <tr style=\"text-align: right;\">\n",
              "      <th></th>\n",
              "      <th>title</th>\n",
              "      <th>category</th>\n",
              "    </tr>\n",
              "  </thead>\n",
              "  <tbody>\n",
              "    <tr>\n",
              "      <th>82115</th>\n",
              "      <td>Foto: Pemain Voli Pantai Tercantik di Dunia</td>\n",
              "      <td>sport</td>\n",
              "    </tr>\n",
              "    <tr>\n",
              "      <th>82116</th>\n",
              "      <td>Gaji Pelatnas Tak Ada, Triady Fauzi Andalkan U...</td>\n",
              "      <td>sport</td>\n",
              "    </tr>\n",
              "    <tr>\n",
              "      <th>82117</th>\n",
              "      <td>Perenang Nasional Menikah di Tengah Wabah Coro...</td>\n",
              "      <td>sport</td>\n",
              "    </tr>\n",
              "    <tr>\n",
              "      <th>82118</th>\n",
              "      <td>Merasakan Perkembangan Garuda Select</td>\n",
              "      <td>sport</td>\n",
              "    </tr>\n",
              "    <tr>\n",
              "      <th>82119</th>\n",
              "      <td>Cerita Perenang Nasional Menikah di Tengah Wab...</td>\n",
              "      <td>sport</td>\n",
              "    </tr>\n",
              "    <tr>\n",
              "      <th>...</th>\n",
              "      <td>...</td>\n",
              "      <td>...</td>\n",
              "    </tr>\n",
              "    <tr>\n",
              "      <th>84546</th>\n",
              "      <td>Untuk Urusan Gaji, Ter Stegen Belum Bisa Samai...</td>\n",
              "      <td>sport</td>\n",
              "    </tr>\n",
              "    <tr>\n",
              "      <th>84547</th>\n",
              "      <td>Video Stadion Sepakbola di Dunia Beralih Fungs...</td>\n",
              "      <td>sport</td>\n",
              "    </tr>\n",
              "    <tr>\n",
              "      <th>84548</th>\n",
              "      <td>Olimpiade 2020 Ditunda, Hendra Setiawan Berjua...</td>\n",
              "      <td>sport</td>\n",
              "    </tr>\n",
              "    <tr>\n",
              "      <th>84549</th>\n",
              "      <td>Wimbledon 2020 Terancam Batal, Panitia Rapat D...</td>\n",
              "      <td>sport</td>\n",
              "    </tr>\n",
              "    <tr>\n",
              "      <th>84550</th>\n",
              "      <td>Sempat Bertemu Pangeran Charles, Anthony Joshu...</td>\n",
              "      <td>sport</td>\n",
              "    </tr>\n",
              "  </tbody>\n",
              "</table>\n",
              "<p>2436 rows × 2 columns</p>\n",
              "</div>\n",
              "      <button class=\"colab-df-convert\" onclick=\"convertToInteractive('df-793001c8-5fe8-4481-bd65-ba0c8f76aa59')\"\n",
              "              title=\"Convert this dataframe to an interactive table.\"\n",
              "              style=\"display:none;\">\n",
              "        \n",
              "  <svg xmlns=\"http://www.w3.org/2000/svg\" height=\"24px\"viewBox=\"0 0 24 24\"\n",
              "       width=\"24px\">\n",
              "    <path d=\"M0 0h24v24H0V0z\" fill=\"none\"/>\n",
              "    <path d=\"M18.56 5.44l.94 2.06.94-2.06 2.06-.94-2.06-.94-.94-2.06-.94 2.06-2.06.94zm-11 1L8.5 8.5l.94-2.06 2.06-.94-2.06-.94L8.5 2.5l-.94 2.06-2.06.94zm10 10l.94 2.06.94-2.06 2.06-.94-2.06-.94-.94-2.06-.94 2.06-2.06.94z\"/><path d=\"M17.41 7.96l-1.37-1.37c-.4-.4-.92-.59-1.43-.59-.52 0-1.04.2-1.43.59L10.3 9.45l-7.72 7.72c-.78.78-.78 2.05 0 2.83L4 21.41c.39.39.9.59 1.41.59.51 0 1.02-.2 1.41-.59l7.78-7.78 2.81-2.81c.8-.78.8-2.07 0-2.86zM5.41 20L4 18.59l7.72-7.72 1.47 1.35L5.41 20z\"/>\n",
              "  </svg>\n",
              "      </button>\n",
              "      \n",
              "  <style>\n",
              "    .colab-df-container {\n",
              "      display:flex;\n",
              "      flex-wrap:wrap;\n",
              "      gap: 12px;\n",
              "    }\n",
              "\n",
              "    .colab-df-convert {\n",
              "      background-color: #E8F0FE;\n",
              "      border: none;\n",
              "      border-radius: 50%;\n",
              "      cursor: pointer;\n",
              "      display: none;\n",
              "      fill: #1967D2;\n",
              "      height: 32px;\n",
              "      padding: 0 0 0 0;\n",
              "      width: 32px;\n",
              "    }\n",
              "\n",
              "    .colab-df-convert:hover {\n",
              "      background-color: #E2EBFA;\n",
              "      box-shadow: 0px 1px 2px rgba(60, 64, 67, 0.3), 0px 1px 3px 1px rgba(60, 64, 67, 0.15);\n",
              "      fill: #174EA6;\n",
              "    }\n",
              "\n",
              "    [theme=dark] .colab-df-convert {\n",
              "      background-color: #3B4455;\n",
              "      fill: #D2E3FC;\n",
              "    }\n",
              "\n",
              "    [theme=dark] .colab-df-convert:hover {\n",
              "      background-color: #434B5C;\n",
              "      box-shadow: 0px 1px 3px 1px rgba(0, 0, 0, 0.15);\n",
              "      filter: drop-shadow(0px 1px 2px rgba(0, 0, 0, 0.3));\n",
              "      fill: #FFFFFF;\n",
              "    }\n",
              "  </style>\n",
              "\n",
              "      <script>\n",
              "        const buttonEl =\n",
              "          document.querySelector('#df-793001c8-5fe8-4481-bd65-ba0c8f76aa59 button.colab-df-convert');\n",
              "        buttonEl.style.display =\n",
              "          google.colab.kernel.accessAllowed ? 'block' : 'none';\n",
              "\n",
              "        async function convertToInteractive(key) {\n",
              "          const element = document.querySelector('#df-793001c8-5fe8-4481-bd65-ba0c8f76aa59');\n",
              "          const dataTable =\n",
              "            await google.colab.kernel.invokeFunction('convertToInteractive',\n",
              "                                                     [key], {});\n",
              "          if (!dataTable) return;\n",
              "\n",
              "          const docLinkHtml = 'Like what you see? Visit the ' +\n",
              "            '<a target=\"_blank\" href=https://colab.research.google.com/notebooks/data_table.ipynb>data table notebook</a>'\n",
              "            + ' to learn more about interactive tables.';\n",
              "          element.innerHTML = '';\n",
              "          dataTable['output_type'] = 'display_data';\n",
              "          await google.colab.output.renderOutput(dataTable, element);\n",
              "          const docLink = document.createElement('div');\n",
              "          docLink.innerHTML = docLinkHtml;\n",
              "          element.appendChild(docLink);\n",
              "        }\n",
              "      </script>\n",
              "    </div>\n",
              "  </div>\n",
              "  "
            ],
            "text/plain": [
              "                                                   title category\n",
              "82115        Foto: Pemain Voli Pantai Tercantik di Dunia    sport\n",
              "82116  Gaji Pelatnas Tak Ada, Triady Fauzi Andalkan U...    sport\n",
              "82117  Perenang Nasional Menikah di Tengah Wabah Coro...    sport\n",
              "82118               Merasakan Perkembangan Garuda Select    sport\n",
              "82119  Cerita Perenang Nasional Menikah di Tengah Wab...    sport\n",
              "...                                                  ...      ...\n",
              "84546  Untuk Urusan Gaji, Ter Stegen Belum Bisa Samai...    sport\n",
              "84547  Video Stadion Sepakbola di Dunia Beralih Fungs...    sport\n",
              "84548  Olimpiade 2020 Ditunda, Hendra Setiawan Berjua...    sport\n",
              "84549  Wimbledon 2020 Terancam Batal, Panitia Rapat D...    sport\n",
              "84550  Sempat Bertemu Pangeran Charles, Anthony Joshu...    sport\n",
              "\n",
              "[2436 rows x 2 columns]"
            ]
          },
          "execution_count": 22,
          "metadata": {},
          "output_type": "execute_result"
        }
      ],
      "source": [
        "sport = data[data['category']=='sport']\n",
        "sport"
      ]
    },
    {
      "cell_type": "markdown",
      "metadata": {
        "id": "YBzpKXOHzhPK"
      },
      "source": [
        "Kategori sport berkaitan dengan olahraga"
      ]
    },
    {
      "cell_type": "markdown",
      "metadata": {
        "id": "xvYhthv5YSSx"
      },
      "source": [
        "# Data Preprocessing"
      ]
    },
    {
      "cell_type": "code",
      "execution_count": null,
      "metadata": {
        "id": "sj99kyXu1GTU"
      },
      "outputs": [],
      "source": [
        "data['category'] = data['category'].map({'news':0,\n",
        "                               'hot': 1,\n",
        "                               'finance': 2,\n",
        "                               'travel': 3,\n",
        "                               'inet': 4,\n",
        "                               'health': 5,\n",
        "                               'oto': 6,\n",
        "                               'food': 7,\n",
        "                               'sport': 8})"
      ]
    },
    {
      "cell_type": "markdown",
      "metadata": {
        "id": "4omcdxNl4CZ4"
      },
      "source": [
        "Kolom kategori atau target dijadikan numerikal agar dapat terbaca oleh model RNN"
      ]
    },
    {
      "cell_type": "code",
      "execution_count": null,
      "metadata": {
        "colab": {
          "base_uri": "https://localhost:8080/",
          "height": 206
        },
        "id": "w9WZ7BZz5SnI",
        "outputId": "2d287d18-61bf-4153-82b9-f24aaac152d0"
      },
      "outputs": [
        {
          "data": {
            "text/html": [
              "\n",
              "  <div id=\"df-2330ed40-c96f-4f9b-82ba-8abff45a9b5d\">\n",
              "    <div class=\"colab-df-container\">\n",
              "      <div>\n",
              "<style scoped>\n",
              "    .dataframe tbody tr th:only-of-type {\n",
              "        vertical-align: middle;\n",
              "    }\n",
              "\n",
              "    .dataframe tbody tr th {\n",
              "        vertical-align: top;\n",
              "    }\n",
              "\n",
              "    .dataframe thead th {\n",
              "        text-align: right;\n",
              "    }\n",
              "</style>\n",
              "<table border=\"1\" class=\"dataframe\">\n",
              "  <thead>\n",
              "    <tr style=\"text-align: right;\">\n",
              "      <th></th>\n",
              "      <th>title</th>\n",
              "      <th>category</th>\n",
              "    </tr>\n",
              "  </thead>\n",
              "  <tbody>\n",
              "    <tr>\n",
              "      <th>0</th>\n",
              "      <td>Kemnaker Awasi TKA di Meikarta</td>\n",
              "      <td>2</td>\n",
              "    </tr>\n",
              "    <tr>\n",
              "      <th>1</th>\n",
              "      <td>BNI Digitalkan BNI Java Jazz 2020</td>\n",
              "      <td>2</td>\n",
              "    </tr>\n",
              "    <tr>\n",
              "      <th>2</th>\n",
              "      <td>Terbang ke Australia, Edhy Prabowo Mau Genjot ...</td>\n",
              "      <td>2</td>\n",
              "    </tr>\n",
              "    <tr>\n",
              "      <th>3</th>\n",
              "      <td>OJK Siapkan Stimulus Ekonomi Antisipasi Dampak...</td>\n",
              "      <td>2</td>\n",
              "    </tr>\n",
              "    <tr>\n",
              "      <th>4</th>\n",
              "      <td>Saran Buat Anies-RK yang Mangkir Rapat Banjir ...</td>\n",
              "      <td>2</td>\n",
              "    </tr>\n",
              "  </tbody>\n",
              "</table>\n",
              "</div>\n",
              "      <button class=\"colab-df-convert\" onclick=\"convertToInteractive('df-2330ed40-c96f-4f9b-82ba-8abff45a9b5d')\"\n",
              "              title=\"Convert this dataframe to an interactive table.\"\n",
              "              style=\"display:none;\">\n",
              "        \n",
              "  <svg xmlns=\"http://www.w3.org/2000/svg\" height=\"24px\"viewBox=\"0 0 24 24\"\n",
              "       width=\"24px\">\n",
              "    <path d=\"M0 0h24v24H0V0z\" fill=\"none\"/>\n",
              "    <path d=\"M18.56 5.44l.94 2.06.94-2.06 2.06-.94-2.06-.94-.94-2.06-.94 2.06-2.06.94zm-11 1L8.5 8.5l.94-2.06 2.06-.94-2.06-.94L8.5 2.5l-.94 2.06-2.06.94zm10 10l.94 2.06.94-2.06 2.06-.94-2.06-.94-.94-2.06-.94 2.06-2.06.94z\"/><path d=\"M17.41 7.96l-1.37-1.37c-.4-.4-.92-.59-1.43-.59-.52 0-1.04.2-1.43.59L10.3 9.45l-7.72 7.72c-.78.78-.78 2.05 0 2.83L4 21.41c.39.39.9.59 1.41.59.51 0 1.02-.2 1.41-.59l7.78-7.78 2.81-2.81c.8-.78.8-2.07 0-2.86zM5.41 20L4 18.59l7.72-7.72 1.47 1.35L5.41 20z\"/>\n",
              "  </svg>\n",
              "      </button>\n",
              "      \n",
              "  <style>\n",
              "    .colab-df-container {\n",
              "      display:flex;\n",
              "      flex-wrap:wrap;\n",
              "      gap: 12px;\n",
              "    }\n",
              "\n",
              "    .colab-df-convert {\n",
              "      background-color: #E8F0FE;\n",
              "      border: none;\n",
              "      border-radius: 50%;\n",
              "      cursor: pointer;\n",
              "      display: none;\n",
              "      fill: #1967D2;\n",
              "      height: 32px;\n",
              "      padding: 0 0 0 0;\n",
              "      width: 32px;\n",
              "    }\n",
              "\n",
              "    .colab-df-convert:hover {\n",
              "      background-color: #E2EBFA;\n",
              "      box-shadow: 0px 1px 2px rgba(60, 64, 67, 0.3), 0px 1px 3px 1px rgba(60, 64, 67, 0.15);\n",
              "      fill: #174EA6;\n",
              "    }\n",
              "\n",
              "    [theme=dark] .colab-df-convert {\n",
              "      background-color: #3B4455;\n",
              "      fill: #D2E3FC;\n",
              "    }\n",
              "\n",
              "    [theme=dark] .colab-df-convert:hover {\n",
              "      background-color: #434B5C;\n",
              "      box-shadow: 0px 1px 3px 1px rgba(0, 0, 0, 0.15);\n",
              "      filter: drop-shadow(0px 1px 2px rgba(0, 0, 0, 0.3));\n",
              "      fill: #FFFFFF;\n",
              "    }\n",
              "  </style>\n",
              "\n",
              "      <script>\n",
              "        const buttonEl =\n",
              "          document.querySelector('#df-2330ed40-c96f-4f9b-82ba-8abff45a9b5d button.colab-df-convert');\n",
              "        buttonEl.style.display =\n",
              "          google.colab.kernel.accessAllowed ? 'block' : 'none';\n",
              "\n",
              "        async function convertToInteractive(key) {\n",
              "          const element = document.querySelector('#df-2330ed40-c96f-4f9b-82ba-8abff45a9b5d');\n",
              "          const dataTable =\n",
              "            await google.colab.kernel.invokeFunction('convertToInteractive',\n",
              "                                                     [key], {});\n",
              "          if (!dataTable) return;\n",
              "\n",
              "          const docLinkHtml = 'Like what you see? Visit the ' +\n",
              "            '<a target=\"_blank\" href=https://colab.research.google.com/notebooks/data_table.ipynb>data table notebook</a>'\n",
              "            + ' to learn more about interactive tables.';\n",
              "          element.innerHTML = '';\n",
              "          dataTable['output_type'] = 'display_data';\n",
              "          await google.colab.output.renderOutput(dataTable, element);\n",
              "          const docLink = document.createElement('div');\n",
              "          docLink.innerHTML = docLinkHtml;\n",
              "          element.appendChild(docLink);\n",
              "        }\n",
              "      </script>\n",
              "    </div>\n",
              "  </div>\n",
              "  "
            ],
            "text/plain": [
              "                                               title  category\n",
              "0                     Kemnaker Awasi TKA di Meikarta         2\n",
              "1                  BNI Digitalkan BNI Java Jazz 2020         2\n",
              "2  Terbang ke Australia, Edhy Prabowo Mau Genjot ...         2\n",
              "3  OJK Siapkan Stimulus Ekonomi Antisipasi Dampak...         2\n",
              "4  Saran Buat Anies-RK yang Mangkir Rapat Banjir ...         2"
            ]
          },
          "execution_count": 24,
          "metadata": {},
          "output_type": "execute_result"
        }
      ],
      "source": [
        "data.head()"
      ]
    },
    {
      "cell_type": "markdown",
      "metadata": {
        "id": "jUzoeUb-I7P2"
      },
      "source": [
        "### Pembuatan data Inference"
      ]
    },
    {
      "cell_type": "code",
      "execution_count": null,
      "metadata": {
        "colab": {
          "base_uri": "https://localhost:8080/",
          "height": 363
        },
        "id": "LWa8EEplI-qZ",
        "outputId": "bab11bb5-129d-4bbd-bbc2-7f9ea7638168"
      },
      "outputs": [
        {
          "data": {
            "text/html": [
              "\n",
              "  <div id=\"df-baad944a-79ad-41dc-b2f4-f85a4eb9fa29\">\n",
              "    <div class=\"colab-df-container\">\n",
              "      <div>\n",
              "<style scoped>\n",
              "    .dataframe tbody tr th:only-of-type {\n",
              "        vertical-align: middle;\n",
              "    }\n",
              "\n",
              "    .dataframe tbody tr th {\n",
              "        vertical-align: top;\n",
              "    }\n",
              "\n",
              "    .dataframe thead th {\n",
              "        text-align: right;\n",
              "    }\n",
              "</style>\n",
              "<table border=\"1\" class=\"dataframe\">\n",
              "  <thead>\n",
              "    <tr style=\"text-align: right;\">\n",
              "      <th></th>\n",
              "      <th>title</th>\n",
              "      <th>category</th>\n",
              "    </tr>\n",
              "  </thead>\n",
              "  <tbody>\n",
              "    <tr>\n",
              "      <th>58394</th>\n",
              "      <td>Said Iqbal Nilai Pembahasan Omnibus Law Tenaga...</td>\n",
              "      <td>0</td>\n",
              "    </tr>\n",
              "    <tr>\n",
              "      <th>15000</th>\n",
              "      <td>5 Scrub Alami dari Bahan Makanan untuk Mencera...</td>\n",
              "      <td>7</td>\n",
              "    </tr>\n",
              "    <tr>\n",
              "      <th>51023</th>\n",
              "      <td>MenPAN-RB Beri Penghargaan ke Polda Metro atas...</td>\n",
              "      <td>0</td>\n",
              "    </tr>\n",
              "    <tr>\n",
              "      <th>5278</th>\n",
              "      <td>Pengusaha-Pemerintah Sinergi Jaga Ekonomi di M...</td>\n",
              "      <td>2</td>\n",
              "    </tr>\n",
              "    <tr>\n",
              "      <th>41053</th>\n",
              "      <td>Akhirnya, Zoom Tingkatkan Keamanan di Versi 5.0</td>\n",
              "      <td>4</td>\n",
              "    </tr>\n",
              "    <tr>\n",
              "      <th>74575</th>\n",
              "      <td>Ikut Donasi Bantu Atasi COVID-19 dari Rumah de...</td>\n",
              "      <td>0</td>\n",
              "    </tr>\n",
              "    <tr>\n",
              "      <th>70899</th>\n",
              "      <td>Jalur Alternatif ke Cianjur di Tanjungsari Bog...</td>\n",
              "      <td>0</td>\n",
              "    </tr>\n",
              "    <tr>\n",
              "      <th>69587</th>\n",
              "      <td>Jokowi Puji Peningkatan Angka Kelulusan Keluar...</td>\n",
              "      <td>0</td>\n",
              "    </tr>\n",
              "    <tr>\n",
              "      <th>55489</th>\n",
              "      <td>Kisahnya Masuk TNI Viral, Yusuf Wonda Ingin Ja...</td>\n",
              "      <td>0</td>\n",
              "    </tr>\n",
              "    <tr>\n",
              "      <th>89821</th>\n",
              "      <td>Flamingo Berduyun-duyun Terbang ke Mumbai Saat...</td>\n",
              "      <td>3</td>\n",
              "    </tr>\n",
              "  </tbody>\n",
              "</table>\n",
              "</div>\n",
              "      <button class=\"colab-df-convert\" onclick=\"convertToInteractive('df-baad944a-79ad-41dc-b2f4-f85a4eb9fa29')\"\n",
              "              title=\"Convert this dataframe to an interactive table.\"\n",
              "              style=\"display:none;\">\n",
              "        \n",
              "  <svg xmlns=\"http://www.w3.org/2000/svg\" height=\"24px\"viewBox=\"0 0 24 24\"\n",
              "       width=\"24px\">\n",
              "    <path d=\"M0 0h24v24H0V0z\" fill=\"none\"/>\n",
              "    <path d=\"M18.56 5.44l.94 2.06.94-2.06 2.06-.94-2.06-.94-.94-2.06-.94 2.06-2.06.94zm-11 1L8.5 8.5l.94-2.06 2.06-.94-2.06-.94L8.5 2.5l-.94 2.06-2.06.94zm10 10l.94 2.06.94-2.06 2.06-.94-2.06-.94-.94-2.06-.94 2.06-2.06.94z\"/><path d=\"M17.41 7.96l-1.37-1.37c-.4-.4-.92-.59-1.43-.59-.52 0-1.04.2-1.43.59L10.3 9.45l-7.72 7.72c-.78.78-.78 2.05 0 2.83L4 21.41c.39.39.9.59 1.41.59.51 0 1.02-.2 1.41-.59l7.78-7.78 2.81-2.81c.8-.78.8-2.07 0-2.86zM5.41 20L4 18.59l7.72-7.72 1.47 1.35L5.41 20z\"/>\n",
              "  </svg>\n",
              "      </button>\n",
              "      \n",
              "  <style>\n",
              "    .colab-df-container {\n",
              "      display:flex;\n",
              "      flex-wrap:wrap;\n",
              "      gap: 12px;\n",
              "    }\n",
              "\n",
              "    .colab-df-convert {\n",
              "      background-color: #E8F0FE;\n",
              "      border: none;\n",
              "      border-radius: 50%;\n",
              "      cursor: pointer;\n",
              "      display: none;\n",
              "      fill: #1967D2;\n",
              "      height: 32px;\n",
              "      padding: 0 0 0 0;\n",
              "      width: 32px;\n",
              "    }\n",
              "\n",
              "    .colab-df-convert:hover {\n",
              "      background-color: #E2EBFA;\n",
              "      box-shadow: 0px 1px 2px rgba(60, 64, 67, 0.3), 0px 1px 3px 1px rgba(60, 64, 67, 0.15);\n",
              "      fill: #174EA6;\n",
              "    }\n",
              "\n",
              "    [theme=dark] .colab-df-convert {\n",
              "      background-color: #3B4455;\n",
              "      fill: #D2E3FC;\n",
              "    }\n",
              "\n",
              "    [theme=dark] .colab-df-convert:hover {\n",
              "      background-color: #434B5C;\n",
              "      box-shadow: 0px 1px 3px 1px rgba(0, 0, 0, 0.15);\n",
              "      filter: drop-shadow(0px 1px 2px rgba(0, 0, 0, 0.3));\n",
              "      fill: #FFFFFF;\n",
              "    }\n",
              "  </style>\n",
              "\n",
              "      <script>\n",
              "        const buttonEl =\n",
              "          document.querySelector('#df-baad944a-79ad-41dc-b2f4-f85a4eb9fa29 button.colab-df-convert');\n",
              "        buttonEl.style.display =\n",
              "          google.colab.kernel.accessAllowed ? 'block' : 'none';\n",
              "\n",
              "        async function convertToInteractive(key) {\n",
              "          const element = document.querySelector('#df-baad944a-79ad-41dc-b2f4-f85a4eb9fa29');\n",
              "          const dataTable =\n",
              "            await google.colab.kernel.invokeFunction('convertToInteractive',\n",
              "                                                     [key], {});\n",
              "          if (!dataTable) return;\n",
              "\n",
              "          const docLinkHtml = 'Like what you see? Visit the ' +\n",
              "            '<a target=\"_blank\" href=https://colab.research.google.com/notebooks/data_table.ipynb>data table notebook</a>'\n",
              "            + ' to learn more about interactive tables.';\n",
              "          element.innerHTML = '';\n",
              "          dataTable['output_type'] = 'display_data';\n",
              "          await google.colab.output.renderOutput(dataTable, element);\n",
              "          const docLink = document.createElement('div');\n",
              "          docLink.innerHTML = docLinkHtml;\n",
              "          element.appendChild(docLink);\n",
              "        }\n",
              "      </script>\n",
              "    </div>\n",
              "  </div>\n",
              "  "
            ],
            "text/plain": [
              "                                                   title  category\n",
              "58394  Said Iqbal Nilai Pembahasan Omnibus Law Tenaga...         0\n",
              "15000  5 Scrub Alami dari Bahan Makanan untuk Mencera...         7\n",
              "51023  MenPAN-RB Beri Penghargaan ke Polda Metro atas...         0\n",
              "5278   Pengusaha-Pemerintah Sinergi Jaga Ekonomi di M...         2\n",
              "41053    Akhirnya, Zoom Tingkatkan Keamanan di Versi 5.0         4\n",
              "74575  Ikut Donasi Bantu Atasi COVID-19 dari Rumah de...         0\n",
              "70899  Jalur Alternatif ke Cianjur di Tanjungsari Bog...         0\n",
              "69587  Jokowi Puji Peningkatan Angka Kelulusan Keluar...         0\n",
              "55489  Kisahnya Masuk TNI Viral, Yusuf Wonda Ingin Ja...         0\n",
              "89821  Flamingo Berduyun-duyun Terbang ke Mumbai Saat...         3"
            ]
          },
          "execution_count": 25,
          "metadata": {},
          "output_type": "execute_result"
        }
      ],
      "source": [
        "data_inf = data.sample(10, random_state=30)\n",
        "data_inf"
      ]
    },
    {
      "cell_type": "markdown",
      "metadata": {
        "id": "1v5fcqBX4N8O"
      },
      "source": [
        "Data Inference dibuat untuk nantinya akan diprediksi oleh model "
      ]
    },
    {
      "cell_type": "code",
      "execution_count": null,
      "metadata": {
        "colab": {
          "base_uri": "https://localhost:8080/",
          "height": 423
        },
        "id": "wIlYWSEaJKKt",
        "outputId": "8b1ebd37-efb3-48c9-ebde-d3988f26659a"
      },
      "outputs": [
        {
          "data": {
            "text/html": [
              "\n",
              "  <div id=\"df-1ebb8bd7-5afd-4bb7-b119-e20191a9c4e9\">\n",
              "    <div class=\"colab-df-container\">\n",
              "      <div>\n",
              "<style scoped>\n",
              "    .dataframe tbody tr th:only-of-type {\n",
              "        vertical-align: middle;\n",
              "    }\n",
              "\n",
              "    .dataframe tbody tr th {\n",
              "        vertical-align: top;\n",
              "    }\n",
              "\n",
              "    .dataframe thead th {\n",
              "        text-align: right;\n",
              "    }\n",
              "</style>\n",
              "<table border=\"1\" class=\"dataframe\">\n",
              "  <thead>\n",
              "    <tr style=\"text-align: right;\">\n",
              "      <th></th>\n",
              "      <th>title</th>\n",
              "      <th>category</th>\n",
              "    </tr>\n",
              "  </thead>\n",
              "  <tbody>\n",
              "    <tr>\n",
              "      <th>0</th>\n",
              "      <td>Kemnaker Awasi TKA di Meikarta</td>\n",
              "      <td>2</td>\n",
              "    </tr>\n",
              "    <tr>\n",
              "      <th>1</th>\n",
              "      <td>BNI Digitalkan BNI Java Jazz 2020</td>\n",
              "      <td>2</td>\n",
              "    </tr>\n",
              "    <tr>\n",
              "      <th>2</th>\n",
              "      <td>Terbang ke Australia, Edhy Prabowo Mau Genjot ...</td>\n",
              "      <td>2</td>\n",
              "    </tr>\n",
              "    <tr>\n",
              "      <th>3</th>\n",
              "      <td>OJK Siapkan Stimulus Ekonomi Antisipasi Dampak...</td>\n",
              "      <td>2</td>\n",
              "    </tr>\n",
              "    <tr>\n",
              "      <th>4</th>\n",
              "      <td>Saran Buat Anies-RK yang Mangkir Rapat Banjir ...</td>\n",
              "      <td>2</td>\n",
              "    </tr>\n",
              "    <tr>\n",
              "      <th>...</th>\n",
              "      <td>...</td>\n",
              "      <td>...</td>\n",
              "    </tr>\n",
              "    <tr>\n",
              "      <th>91012</th>\n",
              "      <td>Ketumpahan Air Panas di Pesawat, Kamu Bisa Tun...</td>\n",
              "      <td>3</td>\n",
              "    </tr>\n",
              "    <tr>\n",
              "      <th>91013</th>\n",
              "      <td>Foto: Bali &amp; 9 Destinasi Paling Instagramable ...</td>\n",
              "      <td>3</td>\n",
              "    </tr>\n",
              "    <tr>\n",
              "      <th>91014</th>\n",
              "      <td>Game Bikin Turis Ini Liburan ke Jepang untuk.....</td>\n",
              "      <td>3</td>\n",
              "    </tr>\n",
              "    <tr>\n",
              "      <th>91015</th>\n",
              "      <td>Sekeluarga Didepak dari Pesawat, Maskapai Bila...</td>\n",
              "      <td>3</td>\n",
              "    </tr>\n",
              "    <tr>\n",
              "      <th>91016</th>\n",
              "      <td>Kapal Raib di Segitiga Bermuda, Nyaris Seabad ...</td>\n",
              "      <td>3</td>\n",
              "    </tr>\n",
              "  </tbody>\n",
              "</table>\n",
              "<p>91007 rows × 2 columns</p>\n",
              "</div>\n",
              "      <button class=\"colab-df-convert\" onclick=\"convertToInteractive('df-1ebb8bd7-5afd-4bb7-b119-e20191a9c4e9')\"\n",
              "              title=\"Convert this dataframe to an interactive table.\"\n",
              "              style=\"display:none;\">\n",
              "        \n",
              "  <svg xmlns=\"http://www.w3.org/2000/svg\" height=\"24px\"viewBox=\"0 0 24 24\"\n",
              "       width=\"24px\">\n",
              "    <path d=\"M0 0h24v24H0V0z\" fill=\"none\"/>\n",
              "    <path d=\"M18.56 5.44l.94 2.06.94-2.06 2.06-.94-2.06-.94-.94-2.06-.94 2.06-2.06.94zm-11 1L8.5 8.5l.94-2.06 2.06-.94-2.06-.94L8.5 2.5l-.94 2.06-2.06.94zm10 10l.94 2.06.94-2.06 2.06-.94-2.06-.94-.94-2.06-.94 2.06-2.06.94z\"/><path d=\"M17.41 7.96l-1.37-1.37c-.4-.4-.92-.59-1.43-.59-.52 0-1.04.2-1.43.59L10.3 9.45l-7.72 7.72c-.78.78-.78 2.05 0 2.83L4 21.41c.39.39.9.59 1.41.59.51 0 1.02-.2 1.41-.59l7.78-7.78 2.81-2.81c.8-.78.8-2.07 0-2.86zM5.41 20L4 18.59l7.72-7.72 1.47 1.35L5.41 20z\"/>\n",
              "  </svg>\n",
              "      </button>\n",
              "      \n",
              "  <style>\n",
              "    .colab-df-container {\n",
              "      display:flex;\n",
              "      flex-wrap:wrap;\n",
              "      gap: 12px;\n",
              "    }\n",
              "\n",
              "    .colab-df-convert {\n",
              "      background-color: #E8F0FE;\n",
              "      border: none;\n",
              "      border-radius: 50%;\n",
              "      cursor: pointer;\n",
              "      display: none;\n",
              "      fill: #1967D2;\n",
              "      height: 32px;\n",
              "      padding: 0 0 0 0;\n",
              "      width: 32px;\n",
              "    }\n",
              "\n",
              "    .colab-df-convert:hover {\n",
              "      background-color: #E2EBFA;\n",
              "      box-shadow: 0px 1px 2px rgba(60, 64, 67, 0.3), 0px 1px 3px 1px rgba(60, 64, 67, 0.15);\n",
              "      fill: #174EA6;\n",
              "    }\n",
              "\n",
              "    [theme=dark] .colab-df-convert {\n",
              "      background-color: #3B4455;\n",
              "      fill: #D2E3FC;\n",
              "    }\n",
              "\n",
              "    [theme=dark] .colab-df-convert:hover {\n",
              "      background-color: #434B5C;\n",
              "      box-shadow: 0px 1px 3px 1px rgba(0, 0, 0, 0.15);\n",
              "      filter: drop-shadow(0px 1px 2px rgba(0, 0, 0, 0.3));\n",
              "      fill: #FFFFFF;\n",
              "    }\n",
              "  </style>\n",
              "\n",
              "      <script>\n",
              "        const buttonEl =\n",
              "          document.querySelector('#df-1ebb8bd7-5afd-4bb7-b119-e20191a9c4e9 button.colab-df-convert');\n",
              "        buttonEl.style.display =\n",
              "          google.colab.kernel.accessAllowed ? 'block' : 'none';\n",
              "\n",
              "        async function convertToInteractive(key) {\n",
              "          const element = document.querySelector('#df-1ebb8bd7-5afd-4bb7-b119-e20191a9c4e9');\n",
              "          const dataTable =\n",
              "            await google.colab.kernel.invokeFunction('convertToInteractive',\n",
              "                                                     [key], {});\n",
              "          if (!dataTable) return;\n",
              "\n",
              "          const docLinkHtml = 'Like what you see? Visit the ' +\n",
              "            '<a target=\"_blank\" href=https://colab.research.google.com/notebooks/data_table.ipynb>data table notebook</a>'\n",
              "            + ' to learn more about interactive tables.';\n",
              "          element.innerHTML = '';\n",
              "          dataTable['output_type'] = 'display_data';\n",
              "          await google.colab.output.renderOutput(dataTable, element);\n",
              "          const docLink = document.createElement('div');\n",
              "          docLink.innerHTML = docLinkHtml;\n",
              "          element.appendChild(docLink);\n",
              "        }\n",
              "      </script>\n",
              "    </div>\n",
              "  </div>\n",
              "  "
            ],
            "text/plain": [
              "                                                   title  category\n",
              "0                         Kemnaker Awasi TKA di Meikarta         2\n",
              "1                      BNI Digitalkan BNI Java Jazz 2020         2\n",
              "2      Terbang ke Australia, Edhy Prabowo Mau Genjot ...         2\n",
              "3      OJK Siapkan Stimulus Ekonomi Antisipasi Dampak...         2\n",
              "4      Saran Buat Anies-RK yang Mangkir Rapat Banjir ...         2\n",
              "...                                                  ...       ...\n",
              "91012  Ketumpahan Air Panas di Pesawat, Kamu Bisa Tun...         3\n",
              "91013  Foto: Bali & 9 Destinasi Paling Instagramable ...         3\n",
              "91014  Game Bikin Turis Ini Liburan ke Jepang untuk.....         3\n",
              "91015  Sekeluarga Didepak dari Pesawat, Maskapai Bila...         3\n",
              "91016  Kapal Raib di Segitiga Bermuda, Nyaris Seabad ...         3\n",
              "\n",
              "[91007 rows x 2 columns]"
            ]
          },
          "execution_count": 26,
          "metadata": {},
          "output_type": "execute_result"
        }
      ],
      "source": [
        "data = data.drop(data_inf.index)\n",
        "data "
      ]
    },
    {
      "cell_type": "code",
      "execution_count": null,
      "metadata": {
        "id": "kE8ogocgJPaD"
      },
      "outputs": [],
      "source": [
        "data.reset_index(drop=True, inplace=True)\n",
        "data_inf.reset_index(drop=True, inplace=True)"
      ]
    },
    {
      "cell_type": "markdown",
      "metadata": {
        "id": "vNtV-daQ2vrx"
      },
      "source": [
        "### Train Test Split"
      ]
    },
    {
      "cell_type": "code",
      "execution_count": null,
      "metadata": {
        "id": "tZCZAv1eYUXn"
      },
      "outputs": [],
      "source": [
        "train_data, test_data = train_test_split(data, test_size=0.15, random_state=77, stratify=data.category)\n",
        "train_data, val_data = train_test_split (train_data, test_size=0.1, random_state=77, stratify=train_data.category)"
      ]
    },
    {
      "cell_type": "markdown",
      "metadata": {
        "id": "-UCMHdXG86XD"
      },
      "source": [
        "Data train dan data test di split dengan test size untuk data test sebesar 15%. Data train dan data validation juga di split dengan test size untuk data validation sebesar 10%. Keduanya juga diberikan stratify agar persentase targetnya tetap seimbang antara data test dan data validation."
      ]
    },
    {
      "cell_type": "code",
      "execution_count": null,
      "metadata": {
        "id": "eibZv5yQzfjD"
      },
      "outputs": [],
      "source": [
        "X_train,y_train = train_data.title, train_data.category\n",
        "X_val,y_val = val_data.title, val_data.category\n",
        "X_test,y_test = test_data.title, test_data.category\n",
        "\n"
      ]
    },
    {
      "cell_type": "code",
      "execution_count": null,
      "metadata": {
        "colab": {
          "base_uri": "https://localhost:8080/"
        },
        "id": "kSx5OlCU0MCD",
        "outputId": "ea48f436-02ae-4d18-98d4-eb3cc0d4b49e"
      },
      "outputs": [
        {
          "data": {
            "text/plain": [
              "43137    4\n",
              "2704     2\n",
              "3993     2\n",
              "76081    0\n",
              "33295    1\n",
              "        ..\n",
              "73771    0\n",
              "64101    0\n",
              "9345     2\n",
              "75084    0\n",
              "8420     2\n",
              "Name: category, Length: 69619, dtype: int64"
            ]
          },
          "execution_count": 30,
          "metadata": {},
          "output_type": "execute_result"
        }
      ],
      "source": [
        "y_train"
      ]
    },
    {
      "cell_type": "code",
      "execution_count": null,
      "metadata": {
        "id": "cdr2I2Jx0KJk"
      },
      "outputs": [],
      "source": [
        "y_train_ohe = to_categorical(y_train)\n",
        "y_val_ohe = to_categorical(y_val)\n",
        "y_test_ohe = to_categorical(y_test)"
      ]
    },
    {
      "cell_type": "markdown",
      "metadata": {
        "id": "qIWpvb6e92tU"
      },
      "source": [
        "Target dilakukan encoding agar menjadi setara."
      ]
    },
    {
      "cell_type": "code",
      "execution_count": null,
      "metadata": {
        "colab": {
          "base_uri": "https://localhost:8080/"
        },
        "id": "lt1fMxTPuVz1",
        "outputId": "9cdc3fb7-587f-45db-d6b7-3721594bd1ab"
      },
      "outputs": [
        {
          "data": {
            "text/plain": [
              "array([[0., 0., 0., ..., 0., 0., 0.],\n",
              "       [0., 0., 1., ..., 0., 0., 0.],\n",
              "       [0., 0., 1., ..., 0., 0., 0.],\n",
              "       ...,\n",
              "       [0., 0., 1., ..., 0., 0., 0.],\n",
              "       [1., 0., 0., ..., 0., 0., 0.],\n",
              "       [0., 0., 1., ..., 0., 0., 0.]], dtype=float32)"
            ]
          },
          "execution_count": 32,
          "metadata": {},
          "output_type": "execute_result"
        }
      ],
      "source": [
        "y_train_ohe"
      ]
    },
    {
      "cell_type": "code",
      "execution_count": null,
      "metadata": {
        "colab": {
          "base_uri": "https://localhost:8080/"
        },
        "id": "3GYL23GTxMYp",
        "outputId": "67c0a374-ffb5-4715-9384-0c243a2005ea"
      },
      "outputs": [
        {
          "data": {
            "text/plain": [
              "array([[1., 0., 0., ..., 0., 0., 0.],\n",
              "       [0., 1., 0., ..., 0., 0., 0.],\n",
              "       [0., 0., 0., ..., 0., 1., 0.],\n",
              "       ...,\n",
              "       [0., 0., 0., ..., 0., 1., 0.],\n",
              "       [0., 1., 0., ..., 0., 0., 0.],\n",
              "       [1., 0., 0., ..., 0., 0., 0.]], dtype=float32)"
            ]
          },
          "execution_count": 33,
          "metadata": {},
          "output_type": "execute_result"
        }
      ],
      "source": [
        "y_test_ohe"
      ]
    },
    {
      "cell_type": "code",
      "execution_count": null,
      "metadata": {
        "id": "Fknx1fqzuUy6"
      },
      "outputs": [],
      "source": [
        "factory = StemmerFactory()\n",
        "stemmer = factory.create_stemmer()\n",
        "\n",
        "# buat fungsi stem untuk series\n",
        "def stem_sent(sent):\n",
        "  output   = stemmer.stem(sent)\n",
        "  return output\n",
        "\n",
        "X_train = X_train.apply(stem_sent)\n",
        "X_val = X_val.apply(stem_sent)\n",
        "X_test = X_test.apply(stem_sent)"
      ]
    },
    {
      "cell_type": "markdown",
      "metadata": {
        "id": "4F31D4tzCLHQ"
      },
      "source": [
        "Stemmer yang digunakan yaitu pysastrawi dapat mengurangi kata-kata infleksi dalam Bahasa Indonesia ke bentuk dasarnya."
      ]
    },
    {
      "cell_type": "code",
      "execution_count": null,
      "metadata": {
        "colab": {
          "base_uri": "https://localhost:8080/"
        },
        "id": "t9CWEg8Sul-3",
        "outputId": "e5be326c-ea30-494d-df93-01572fbd86fc"
      },
      "outputs": [
        {
          "data": {
            "text/plain": [
              "43137              raya haribumi netizen cepat sembuh bumi\n",
              "2704       teror corona rajalela ekonomi dunia bisa lumpuh\n",
              "3993     usai psbb ada new normal usaha jangan buka lan...\n",
              "76081    gatot ajak makmur masjid di tengah corona komi...\n",
              "33295       perspektif dil dalam film milea suara dari dil\n",
              "                               ...                        \n",
              "73771    pria sakit misterius hingga wajah seperti lele...\n",
              "64101    tahan 3 sangka provokator blokir jalan di domp...\n",
              "9345            jalan panjang duel panas luhut-rizal ramli\n",
              "75084    tampak mobil innova yang sempat dikejar-diteri...\n",
              "8420                 pasar pramuka masih serbu buru masker\n",
              "Name: title, Length: 69619, dtype: object"
            ]
          },
          "execution_count": 35,
          "metadata": {},
          "output_type": "execute_result"
        }
      ],
      "source": [
        "X_train"
      ]
    },
    {
      "cell_type": "code",
      "execution_count": null,
      "metadata": {
        "colab": {
          "base_uri": "https://localhost:8080/"
        },
        "id": "vyDhhEEo5iat",
        "outputId": "26561b3a-f489-4823-fdfa-6d83cd5032b2"
      },
      "outputs": [
        {
          "data": {
            "text/plain": [
              "9"
            ]
          },
          "execution_count": 36,
          "metadata": {},
          "output_type": "execute_result"
        }
      ],
      "source": [
        "round(sum([len(i.split()) for i in X_train])/len(X_train))"
      ]
    },
    {
      "cell_type": "code",
      "execution_count": null,
      "metadata": {
        "id": "3IKS7NJD5m_Z"
      },
      "outputs": [],
      "source": [
        "max_vocab_length = 3500\n",
        "max_length = 9\n",
        "\n",
        "text_vectorization = TextVectorization(max_tokens= max_vocab_length,\n",
        "                                       standardize='lower_and_strip_punctuation',\n",
        "                                       split='whitespace',\n",
        "                                       ngrams=None,\n",
        "                                       output_mode='int',\n",
        "                                       output_sequence_length=max_length,\n",
        "                                       input_shape=(1,))"
      ]
    },
    {
      "cell_type": "code",
      "execution_count": null,
      "metadata": {
        "id": "5a0wvraX5tVF"
      },
      "outputs": [],
      "source": [
        "text_vectorization.adapt(X_train)"
      ]
    },
    {
      "cell_type": "markdown",
      "metadata": {
        "id": "3khbdDHBRxw2"
      },
      "source": [
        "Dilakukan Text Vectorization agar kata-kata diterjemahkan menjadi sekumpulan angka yang dimengerti oleh mesin."
      ]
    },
    {
      "cell_type": "code",
      "execution_count": null,
      "metadata": {
        "colab": {
          "base_uri": "https://localhost:8080/"
        },
        "id": "vF1NuVdtzLpH",
        "outputId": "0b10f4ad-2563-45ef-dd78-bfdb0ad2a357"
      },
      "outputs": [
        {
          "data": {
            "text/plain": [
              "43137              raya haribumi netizen cepat sembuh bumi\n",
              "2704       teror corona rajalela ekonomi dunia bisa lumpuh\n",
              "3993     usai psbb ada new normal usaha jangan buka lan...\n",
              "76081    gatot ajak makmur masjid di tengah corona komi...\n",
              "33295       perspektif dil dalam film milea suara dari dil\n",
              "                               ...                        \n",
              "73771    pria sakit misterius hingga wajah seperti lele...\n",
              "64101    tahan 3 sangka provokator blokir jalan di domp...\n",
              "9345            jalan panjang duel panas luhut-rizal ramli\n",
              "75084    tampak mobil innova yang sempat dikejar-diteri...\n",
              "8420                 pasar pramuka masih serbu buru masker\n",
              "Name: title, Length: 69619, dtype: object"
            ]
          },
          "execution_count": 39,
          "metadata": {},
          "output_type": "execute_result"
        }
      ],
      "source": [
        "X_train"
      ]
    },
    {
      "cell_type": "code",
      "execution_count": null,
      "metadata": {
        "id": "dhVCTmD95zKV"
      },
      "outputs": [],
      "source": [
        "from tensorflow.keras.layers import Embedding\n",
        "\n",
        "embedding =Embedding(input_dim=max_vocab_length,\n",
        "                     output_dim=128,\n",
        "                     embeddings_initializer='uniform',\n",
        "                     input_length=max_length\n",
        "                     )"
      ]
    },
    {
      "cell_type": "markdown",
      "metadata": {
        "id": "AyamlRl-R-Rf"
      },
      "source": [
        "Embedding dilakukan untuk memetakan kata  yang sama atau mirip untuk memiliki representasi yang sama atau saling berdekatan."
      ]
    },
    {
      "cell_type": "markdown",
      "metadata": {
        "id": "3k9hhMCOgnBq"
      },
      "source": [
        "# Model Definition, Training, and Evaluation"
      ]
    },
    {
      "cell_type": "code",
      "execution_count": null,
      "metadata": {
        "id": "i15-itEwLt85"
      },
      "outputs": [],
      "source": [
        "from tensorflow.keras.callbacks import EarlyStopping,ModelCheckpoint\n",
        "callbacks= [\n",
        "    EarlyStopping(monitor= 'val_loss', mode= 'min', patience= 5, verbose=1),\n",
        "\n",
        "]"
      ]
    },
    {
      "cell_type": "markdown",
      "metadata": {
        "id": "mW6rdqSDbOG4"
      },
      "source": [
        "Digunakan callbacks, agar proses training dapat dihentikan jika nilai loss pada data validation meningkat sebanyak 5 kali"
      ]
    },
    {
      "cell_type": "code",
      "execution_count": null,
      "metadata": {
        "id": "d7XRrkJl54rw"
      },
      "outputs": [],
      "source": [
        "from tensorflow.keras.layers import Dense, GlobalAveragePooling1D, Input\n",
        "from tensorflow.keras.models import Model, Sequential\n",
        "from keras.layers import Dropout\n",
        "\n",
        "model= Sequential()\n",
        "model.add(text_vectorization)\n",
        "model.add(embedding)\n",
        "model.add(GlobalAveragePooling1D())\n",
        "model.add(Dense(7, activation='elu'))\n",
        "model.add(Dropout(0.3))\n",
        "model.add(Dense(9, activation='softmax'))\n",
        "\n",
        "model.compile(loss='categorical_crossentropy',\n",
        "              optimizer='adam',\n",
        "              metrics=['accuracy'])"
      ]
    },
    {
      "cell_type": "code",
      "execution_count": null,
      "metadata": {
        "colab": {
          "base_uri": "https://localhost:8080/"
        },
        "id": "myNN8G1959dd",
        "outputId": "8397b3af-f9d5-4da6-df29-98150ba109e6"
      },
      "outputs": [
        {
          "name": "stdout",
          "output_type": "stream",
          "text": [
            "Epoch 1/40\n",
            "2176/2176 [==============================] - 13s 5ms/step - loss: 1.1061 - accuracy: 0.6426 - val_loss: 0.7437 - val_accuracy: 0.7724\n",
            "Epoch 2/40\n",
            "2176/2176 [==============================] - 10s 4ms/step - loss: 0.7993 - accuracy: 0.7427 - val_loss: 0.6726 - val_accuracy: 0.7955\n",
            "Epoch 3/40\n",
            "2176/2176 [==============================] - 10s 5ms/step - loss: 0.7393 - accuracy: 0.7613 - val_loss: 0.6454 - val_accuracy: 0.8055\n",
            "Epoch 4/40\n",
            "2176/2176 [==============================] - 10s 5ms/step - loss: 0.7047 - accuracy: 0.7712 - val_loss: 0.6276 - val_accuracy: 0.8089\n",
            "Epoch 5/40\n",
            "2176/2176 [==============================] - 10s 5ms/step - loss: 0.6776 - accuracy: 0.7776 - val_loss: 0.6229 - val_accuracy: 0.8113\n",
            "Epoch 6/40\n",
            "2176/2176 [==============================] - 10s 5ms/step - loss: 0.6676 - accuracy: 0.7823 - val_loss: 0.6165 - val_accuracy: 0.8109\n",
            "Epoch 7/40\n",
            "2176/2176 [==============================] - 10s 4ms/step - loss: 0.6520 - accuracy: 0.7862 - val_loss: 0.6152 - val_accuracy: 0.8144\n",
            "Epoch 8/40\n",
            "2176/2176 [==============================] - 10s 5ms/step - loss: 0.6440 - accuracy: 0.7891 - val_loss: 0.6176 - val_accuracy: 0.8109\n",
            "Epoch 9/40\n",
            "2176/2176 [==============================] - 12s 5ms/step - loss: 0.6358 - accuracy: 0.7899 - val_loss: 0.6112 - val_accuracy: 0.8137\n",
            "Epoch 10/40\n",
            "2176/2176 [==============================] - 10s 5ms/step - loss: 0.6366 - accuracy: 0.7898 - val_loss: 0.6127 - val_accuracy: 0.8118\n",
            "Epoch 11/40\n",
            "2176/2176 [==============================] - 10s 4ms/step - loss: 0.6273 - accuracy: 0.7926 - val_loss: 0.6070 - val_accuracy: 0.8128\n",
            "Epoch 12/40\n",
            "2176/2176 [==============================] - 10s 5ms/step - loss: 0.6182 - accuracy: 0.7967 - val_loss: 0.6054 - val_accuracy: 0.8157\n",
            "Epoch 13/40\n",
            "2176/2176 [==============================] - 10s 4ms/step - loss: 0.6164 - accuracy: 0.7968 - val_loss: 0.6059 - val_accuracy: 0.8148\n",
            "Epoch 14/40\n",
            "2176/2176 [==============================] - 10s 4ms/step - loss: 0.6139 - accuracy: 0.7960 - val_loss: 0.6027 - val_accuracy: 0.8173\n",
            "Epoch 15/40\n",
            "2176/2176 [==============================] - 10s 4ms/step - loss: 0.6097 - accuracy: 0.7985 - val_loss: 0.5989 - val_accuracy: 0.8171\n",
            "Epoch 16/40\n",
            "2176/2176 [==============================] - 10s 5ms/step - loss: 0.6083 - accuracy: 0.7973 - val_loss: 0.6003 - val_accuracy: 0.8175\n",
            "Epoch 17/40\n",
            "2176/2176 [==============================] - 10s 4ms/step - loss: 0.6040 - accuracy: 0.7979 - val_loss: 0.5970 - val_accuracy: 0.8164\n",
            "Epoch 18/40\n",
            "2176/2176 [==============================] - 10s 5ms/step - loss: 0.6038 - accuracy: 0.7991 - val_loss: 0.5963 - val_accuracy: 0.8170\n",
            "Epoch 19/40\n",
            "2176/2176 [==============================] - 11s 5ms/step - loss: 0.5984 - accuracy: 0.8005 - val_loss: 0.6019 - val_accuracy: 0.8141\n",
            "Epoch 20/40\n",
            "2176/2176 [==============================] - 10s 4ms/step - loss: 0.5922 - accuracy: 0.8012 - val_loss: 0.5959 - val_accuracy: 0.8153\n",
            "Epoch 21/40\n",
            "2176/2176 [==============================] - 10s 4ms/step - loss: 0.5889 - accuracy: 0.8038 - val_loss: 0.5965 - val_accuracy: 0.8186\n",
            "Epoch 22/40\n",
            "2176/2176 [==============================] - 10s 5ms/step - loss: 0.5888 - accuracy: 0.8030 - val_loss: 0.5897 - val_accuracy: 0.8140\n",
            "Epoch 23/40\n",
            "2176/2176 [==============================] - 10s 4ms/step - loss: 0.5855 - accuracy: 0.8044 - val_loss: 0.5942 - val_accuracy: 0.8166\n",
            "Epoch 24/40\n",
            "2176/2176 [==============================] - 10s 4ms/step - loss: 0.5853 - accuracy: 0.8065 - val_loss: 0.5903 - val_accuracy: 0.8184\n",
            "Epoch 25/40\n",
            "2176/2176 [==============================] - 10s 5ms/step - loss: 0.5831 - accuracy: 0.8046 - val_loss: 0.5889 - val_accuracy: 0.8168\n",
            "Epoch 26/40\n",
            "2176/2176 [==============================] - 10s 5ms/step - loss: 0.5772 - accuracy: 0.8072 - val_loss: 0.5873 - val_accuracy: 0.8181\n",
            "Epoch 27/40\n",
            "2176/2176 [==============================] - 10s 4ms/step - loss: 0.5807 - accuracy: 0.8062 - val_loss: 0.5844 - val_accuracy: 0.8183\n",
            "Epoch 28/40\n",
            "2176/2176 [==============================] - 10s 4ms/step - loss: 0.5802 - accuracy: 0.8067 - val_loss: 0.5844 - val_accuracy: 0.8179\n",
            "Epoch 29/40\n",
            "2176/2176 [==============================] - 10s 4ms/step - loss: 0.5762 - accuracy: 0.8052 - val_loss: 0.5902 - val_accuracy: 0.8151\n",
            "Epoch 30/40\n",
            "2176/2176 [==============================] - 10s 4ms/step - loss: 0.5769 - accuracy: 0.8056 - val_loss: 0.5881 - val_accuracy: 0.8186\n",
            "Epoch 31/40\n",
            "2176/2176 [==============================] - 10s 5ms/step - loss: 0.5813 - accuracy: 0.8056 - val_loss: 0.5916 - val_accuracy: 0.8172\n",
            "Epoch 32/40\n",
            "2176/2176 [==============================] - 10s 4ms/step - loss: 0.5754 - accuracy: 0.8072 - val_loss: 0.5866 - val_accuracy: 0.8167\n",
            "Epoch 32: early stopping\n"
          ]
        }
      ],
      "source": [
        "hist_1 = model.fit(X_train,\n",
        "                         y_train_ohe,epochs=40, callbacks=callbacks,\n",
        "                         validation_data=(X_val, y_val_ohe))"
      ]
    },
    {
      "cell_type": "code",
      "execution_count": null,
      "metadata": {
        "colab": {
          "base_uri": "https://localhost:8080/",
          "height": 265
        },
        "id": "KfdSA_07E2QC",
        "outputId": "e1d563b7-4ccd-4c61-82b4-f84736f73cef"
      },
      "outputs": [
        {
          "data": {
            "image/png": "[encoded data removed]",
            "text/plain": [
              "<Figure size 432x288 with 1 Axes>"
            ]
          },
          "metadata": {
            "needs_background": "light"
          },
          "output_type": "display_data"
        }
      ],
      "source": [
        "hist_1_df = pd.DataFrame(hist_1.history)\n",
        "hist_1_df[['loss', 'val_loss']].plot();"
      ]
    },
    {
      "cell_type": "code",
      "execution_count": null,
      "metadata": {
        "colab": {
          "base_uri": "https://localhost:8080/",
          "height": 267
        },
        "id": "KEUUd4BoxZ_x",
        "outputId": "2f96c541-2b53-44d2-e167-e7287451f2bd"
      },
      "outputs": [
        {
          "data": {
            "image/png": "[encoded data removed]",
            "text/plain": [
              "<Figure size 432x288 with 1 Axes>"
            ]
          },
          "metadata": {
            "needs_background": "light"
          },
          "output_type": "display_data"
        }
      ],
      "source": [
        "hist_1_df[['accuracy', 'val_accuracy']].plot();"
      ]
    },
    {
      "cell_type": "markdown",
      "metadata": {
        "id": "kCOrPDAzSud2"
      },
      "source": [
        "Dari garfik diatas, nilai loss dan train cenderung berdekatan yang artinya model tersebut good-fit."
      ]
    },
    {
      "cell_type": "code",
      "execution_count": null,
      "metadata": {
        "colab": {
          "base_uri": "https://localhost:8080/"
        },
        "id": "BTYJ4_2eGd4N",
        "outputId": "d8d013cd-c740-4c1f-8a1d-34aa75b6a442"
      },
      "outputs": [
        {
          "name": "stdout",
          "output_type": "stream",
          "text": [
            "              precision    recall  f1-score   support\n",
            "\n",
            "           0       0.86      0.89      0.87      4853\n",
            "           1       0.82      0.89      0.85      2450\n",
            "           2       0.81      0.82      0.82      2125\n",
            "           3       0.77      0.69      0.73       970\n",
            "           4       0.77      0.72      0.74       846\n",
            "           5       0.70      0.59      0.64       738\n",
            "           6       0.78      0.69      0.73       658\n",
            "           7       0.80      0.80      0.80       647\n",
            "           8       0.84      0.65      0.74       365\n",
            "\n",
            "    accuracy                           0.82     13652\n",
            "   macro avg       0.79      0.75      0.77     13652\n",
            "weighted avg       0.82      0.82      0.82     13652\n",
            "\n"
          ]
        }
      ],
      "source": [
        "from sklearn.metrics import classification_report\n",
        "y_pred = model.predict(X_test)\n",
        "y_pred = y_pred.argmax(axis=1)\n",
        "print(classification_report(y_test,y_pred))"
      ]
    },
    {
      "cell_type": "markdown",
      "metadata": {
        "id": "zY3TnDZMURu4"
      },
      "source": [
        "Dengan menggunakan model RNN didapatkan nilai akurasi sebesar 82%."
      ]
    },
    {
      "cell_type": "markdown",
      "metadata": {
        "id": "BSiYDXM_cBGb"
      },
      "source": [
        "Pemodelan sudah dilakukan berkali-kali, hasil model inilah yang paling good-fit pada nilai loss antara data train dan data Validation."
      ]
    },
    {
      "cell_type": "markdown",
      "metadata": {
        "id": "0AHNa-5BP8WH"
      },
      "source": [
        "### Model LSTM"
      ]
    },
    {
      "cell_type": "code",
      "execution_count": null,
      "metadata": {
        "id": "gVsit0AjzBzM"
      },
      "outputs": [],
      "source": [
        "from tensorflow.keras.layers import LSTM, Dropout\n",
        "\n",
        "model_2 = Sequential()\n",
        "model_2.add(text_vectorization)\n",
        "model_2.add(embedding)\n",
        "model_2.add(LSTM(5))\n",
        "model_2.add(Dropout(0.3))\n",
        "model_2.add(Dense(9, activation='softmax'))\n",
        "\n",
        "\n",
        "model_2.compile(loss='categorical_crossentropy',\n",
        "              optimizer='adam',\n",
        "              metrics=['accuracy'])"
      ]
    },
    {
      "cell_type": "code",
      "execution_count": null,
      "metadata": {
        "colab": {
          "base_uri": "https://localhost:8080/"
        },
        "id": "a9d3IyV6QFmf",
        "outputId": "4acd187b-1cf1-42f6-9c23-d9a311ae7a7d"
      },
      "outputs": [
        {
          "name": "stdout",
          "output_type": "stream",
          "text": [
            "Epoch 1/40\n",
            "2176/2176 [==============================] - 18s 6ms/step - loss: 1.1123 - accuracy: 0.6423 - val_loss: 0.8304 - val_accuracy: 0.7497\n",
            "Epoch 2/40\n",
            "2176/2176 [==============================] - 14s 6ms/step - loss: 0.8401 - accuracy: 0.7258 - val_loss: 0.6899 - val_accuracy: 0.7967\n",
            "Epoch 3/40\n",
            "2176/2176 [==============================] - 13s 6ms/step - loss: 0.7597 - accuracy: 0.7516 - val_loss: 0.6503 - val_accuracy: 0.8011\n",
            "Epoch 4/40\n",
            "2176/2176 [==============================] - 13s 6ms/step - loss: 0.7279 - accuracy: 0.7581 - val_loss: 0.6425 - val_accuracy: 0.8031\n",
            "Epoch 5/40\n",
            "2176/2176 [==============================] - 13s 6ms/step - loss: 0.7111 - accuracy: 0.7645 - val_loss: 0.6419 - val_accuracy: 0.8013\n",
            "Epoch 6/40\n",
            "2176/2176 [==============================] - 13s 6ms/step - loss: 0.6992 - accuracy: 0.7665 - val_loss: 0.6329 - val_accuracy: 0.8073\n",
            "Epoch 7/40\n",
            "2176/2176 [==============================] - 13s 6ms/step - loss: 0.6872 - accuracy: 0.7686 - val_loss: 0.6320 - val_accuracy: 0.8064\n",
            "Epoch 8/40\n",
            "2176/2176 [==============================] - 13s 6ms/step - loss: 0.6775 - accuracy: 0.7728 - val_loss: 0.6441 - val_accuracy: 0.8011\n",
            "Epoch 9/40\n",
            "2176/2176 [==============================] - 13s 6ms/step - loss: 0.6681 - accuracy: 0.7733 - val_loss: 0.6560 - val_accuracy: 0.8002\n",
            "Epoch 10/40\n",
            "2176/2176 [==============================] - 13s 6ms/step - loss: 0.6591 - accuracy: 0.7777 - val_loss: 0.6463 - val_accuracy: 0.8040\n",
            "Epoch 11/40\n",
            "2176/2176 [==============================] - 13s 6ms/step - loss: 0.6485 - accuracy: 0.7804 - val_loss: 0.6502 - val_accuracy: 0.7995\n",
            "Epoch 12/40\n",
            "2176/2176 [==============================] - 13s 6ms/step - loss: 0.6450 - accuracy: 0.7819 - val_loss: 0.6481 - val_accuracy: 0.8012\n",
            "Epoch 12: early stopping\n"
          ]
        }
      ],
      "source": [
        "hist_2 = model_2.fit(X_train,\n",
        "                         y_train_ohe,\n",
        "                         epochs=40, callbacks=callbacks,\n",
        "                         validation_data=(X_val, y_val_ohe))"
      ]
    },
    {
      "cell_type": "code",
      "execution_count": null,
      "metadata": {
        "colab": {
          "base_uri": "https://localhost:8080/",
          "height": 265
        },
        "id": "MghRezmfKVNo",
        "outputId": "5813b538-aab0-43c9-81b1-611684769efd"
      },
      "outputs": [
        {
          "data": {
            "image/png": "[encoded data removed]",
            "text/plain": [
              "<Figure size 432x288 with 1 Axes>"
            ]
          },
          "metadata": {
            "needs_background": "light"
          },
          "output_type": "display_data"
        }
      ],
      "source": [
        "hist_2_df = pd.DataFrame(hist_2.history)\n",
        "hist_2_df[['loss', 'val_loss']].plot();"
      ]
    },
    {
      "cell_type": "code",
      "execution_count": null,
      "metadata": {
        "colab": {
          "base_uri": "https://localhost:8080/",
          "height": 265
        },
        "id": "giey4BbnKbNb",
        "outputId": "46b1541c-834f-491d-ed38-f9803a346711"
      },
      "outputs": [
        {
          "data": {
            "image/png": "[encoded data removed]",
            "text/plain": [
              "<Figure size 432x288 with 1 Axes>"
            ]
          },
          "metadata": {
            "needs_background": "light"
          },
          "output_type": "display_data"
        }
      ],
      "source": [
        "hist_2_df[['accuracy', 'val_accuracy']].plot();"
      ]
    },
    {
      "cell_type": "markdown",
      "metadata": {
        "id": "82NumTvQUbHY"
      },
      "source": [
        "Nilai loss antara data train dan validation berdekatan, tetapi nilai akurasinya lebih berjauhan antara data train dan validation dari model sebelumnya. Tetapi model ini masih dapat dikatakan good-fit."
      ]
    },
    {
      "cell_type": "code",
      "execution_count": null,
      "metadata": {
        "colab": {
          "base_uri": "https://localhost:8080/"
        },
        "id": "6rQe6iPVKdsp",
        "outputId": "116b809a-5839-4a98-d2cf-ec143664641d"
      },
      "outputs": [
        {
          "name": "stdout",
          "output_type": "stream",
          "text": [
            "              precision    recall  f1-score   support\n",
            "\n",
            "           0       0.84      0.88      0.86      4853\n",
            "           1       0.82      0.86      0.84      2450\n",
            "           2       0.79      0.82      0.80      2125\n",
            "           3       0.68      0.70      0.69       970\n",
            "           4       0.72      0.68      0.70       846\n",
            "           5       0.68      0.54      0.60       738\n",
            "           6       0.76      0.64      0.70       658\n",
            "           7       0.83      0.76      0.79       647\n",
            "           8       0.86      0.62      0.72       365\n",
            "\n",
            "    accuracy                           0.80     13652\n",
            "   macro avg       0.78      0.72      0.75     13652\n",
            "weighted avg       0.80      0.80      0.80     13652\n",
            "\n"
          ]
        }
      ],
      "source": [
        "from sklearn.metrics import classification_report\n",
        "y_pred = model_2.predict(X_test)\n",
        "y_pred = y_pred.argmax(axis=1)\n",
        "print(classification_report(y_test,y_pred))"
      ]
    },
    {
      "cell_type": "markdown",
      "metadata": {
        "id": "pSRYFxlxUZ8H"
      },
      "source": [
        "Pada pemodelan menggunakan LSTM didapatkan nilai akurasi sebesar 80%. Tetapi tidak disarankan menggunakan LSTM karena menunggunya sangat lama."
      ]
    },
    {
      "cell_type": "markdown",
      "metadata": {
        "id": "751eflnAcR-U"
      },
      "source": [
        "Pemodelan sudah dilakukan berkali-kali, hasil model inilah yang paling good-fit pada nilai loss antara data train dan data Validation."
      ]
    },
    {
      "cell_type": "markdown",
      "metadata": {
        "id": "LU3BJLbrXE30"
      },
      "source": [
        "### GRU"
      ]
    },
    {
      "cell_type": "code",
      "execution_count": null,
      "metadata": {
        "id": "1snhoqsQXGV7"
      },
      "outputs": [],
      "source": [
        "from tensorflow.keras.layers import GRU\n",
        "\n",
        "model_3 = Sequential()\n",
        "model_3.add(text_vectorization)\n",
        "model_3.add(embedding)\n",
        "model_3.add(GRU(5))\n",
        "model_3.add(Dropout(0.3))\n",
        "model_3.add(Dense(9, activation='softmax'))\n",
        "\n",
        "\n",
        "model_3.compile(loss='categorical_crossentropy',\n",
        "              optimizer='adam',\n",
        "              metrics=['accuracy'])"
      ]
    },
    {
      "cell_type": "code",
      "execution_count": null,
      "metadata": {
        "colab": {
          "base_uri": "https://localhost:8080/"
        },
        "id": "i56Z-XqjXO6P",
        "outputId": "6ee7ff76-7ae4-40af-e762-7e6de8edbb5d"
      },
      "outputs": [
        {
          "name": "stdout",
          "output_type": "stream",
          "text": [
            "Epoch 1/40\n",
            "2176/2176 [==============================] - 15s 6ms/step - loss: 1.1390 - accuracy: 0.6358 - val_loss: 0.8083 - val_accuracy: 0.7558\n",
            "Epoch 2/40\n",
            "2176/2176 [==============================] - 12s 6ms/step - loss: 0.8541 - accuracy: 0.7226 - val_loss: 0.7319 - val_accuracy: 0.7884\n",
            "Epoch 3/40\n",
            "2176/2176 [==============================] - 13s 6ms/step - loss: 0.7962 - accuracy: 0.7394 - val_loss: 0.7085 - val_accuracy: 0.7883\n",
            "Epoch 4/40\n",
            "2176/2176 [==============================] - 13s 6ms/step - loss: 0.7671 - accuracy: 0.7479 - val_loss: 0.7070 - val_accuracy: 0.7916\n",
            "Epoch 5/40\n",
            "2176/2176 [==============================] - 13s 6ms/step - loss: 0.7513 - accuracy: 0.7518 - val_loss: 0.6980 - val_accuracy: 0.7930\n",
            "Epoch 6/40\n",
            "2176/2176 [==============================] - 13s 6ms/step - loss: 0.7392 - accuracy: 0.7547 - val_loss: 0.6924 - val_accuracy: 0.7951\n",
            "Epoch 7/40\n",
            "2176/2176 [==============================] - 13s 6ms/step - loss: 0.7277 - accuracy: 0.7586 - val_loss: 0.6945 - val_accuracy: 0.7930\n",
            "Epoch 8/40\n",
            "2176/2176 [==============================] - 12s 6ms/step - loss: 0.7166 - accuracy: 0.7612 - val_loss: 0.6940 - val_accuracy: 0.7949\n",
            "Epoch 9/40\n",
            "2176/2176 [==============================] - 13s 6ms/step - loss: 0.7106 - accuracy: 0.7619 - val_loss: 0.7026 - val_accuracy: 0.7940\n",
            "Epoch 10/40\n",
            "2176/2176 [==============================] - 12s 6ms/step - loss: 0.7004 - accuracy: 0.7631 - val_loss: 0.7027 - val_accuracy: 0.7949\n",
            "Epoch 11/40\n",
            "2176/2176 [==============================] - 13s 6ms/step - loss: 0.6959 - accuracy: 0.7655 - val_loss: 0.6953 - val_accuracy: 0.7940\n",
            "Epoch 11: early stopping\n"
          ]
        }
      ],
      "source": [
        "hist_3 = model_3.fit(X_train,\n",
        "                         y_train_ohe,\n",
        "                         epochs=40, callbacks=callbacks,\n",
        "                         validation_data=(X_val, y_val_ohe))"
      ]
    },
    {
      "cell_type": "code",
      "execution_count": null,
      "metadata": {
        "colab": {
          "base_uri": "https://localhost:8080/",
          "height": 265
        },
        "id": "KsNLzayIXchH",
        "outputId": "008b00ab-1b30-4301-c0f7-06dd50c0c78b"
      },
      "outputs": [
        {
          "data": {
            "image/png": "[encoded data removed]",
            "text/plain": [
              "<Figure size 432x288 with 1 Axes>"
            ]
          },
          "metadata": {
            "needs_background": "light"
          },
          "output_type": "display_data"
        }
      ],
      "source": [
        "hist_3_df = pd.DataFrame(hist_3.history)\n",
        "hist_3_df[['loss', 'val_loss']].plot();"
      ]
    },
    {
      "cell_type": "code",
      "execution_count": null,
      "metadata": {
        "colab": {
          "base_uri": "https://localhost:8080/",
          "height": 266
        },
        "id": "f99-XjDJXgQf",
        "outputId": "c341f40c-04e7-4cb2-992d-03d142fbf546"
      },
      "outputs": [
        {
          "data": {
            "image/png": "[encoded data removed]",
            "text/plain": [
              "<Figure size 432x288 with 1 Axes>"
            ]
          },
          "metadata": {
            "needs_background": "light"
          },
          "output_type": "display_data"
        }
      ],
      "source": [
        "hist_3_df[['accuracy', 'val_accuracy']].plot();"
      ]
    },
    {
      "cell_type": "markdown",
      "metadata": {
        "id": "r9apYjcvU2pC"
      },
      "source": [
        "Nilai loss antara data train dan validation berdekatan, tetapi nilai akurasinya lebih berjauhan antara data train dan validation dari model sebelumnya. Model ini bisa sedikit dikatakan underfit"
      ]
    },
    {
      "cell_type": "code",
      "execution_count": null,
      "metadata": {
        "colab": {
          "base_uri": "https://localhost:8080/"
        },
        "id": "pjIOfMXUXpE4",
        "outputId": "6924fc95-fb5c-43b2-cb07-aba9bc12830c"
      },
      "outputs": [
        {
          "name": "stdout",
          "output_type": "stream",
          "text": [
            "              precision    recall  f1-score   support\n",
            "\n",
            "           0       0.82      0.90      0.86      4853\n",
            "           1       0.79      0.88      0.83      2450\n",
            "           2       0.81      0.78      0.80      2125\n",
            "           3       0.71      0.64      0.67       970\n",
            "           4       0.77      0.65      0.70       846\n",
            "           5       0.68      0.48      0.56       738\n",
            "           6       0.76      0.67      0.71       658\n",
            "           7       0.79      0.72      0.75       647\n",
            "           8       0.84      0.61      0.71       365\n",
            "\n",
            "    accuracy                           0.79     13652\n",
            "   macro avg       0.77      0.70      0.73     13652\n",
            "weighted avg       0.79      0.79      0.79     13652\n",
            "\n"
          ]
        }
      ],
      "source": [
        "from sklearn.metrics import classification_report\n",
        "y_pred = model_3.predict(X_test)\n",
        "y_pred = y_pred.argmax(axis=1)\n",
        "print(classification_report(y_test,y_pred))"
      ]
    },
    {
      "cell_type": "markdown",
      "metadata": {
        "id": "a0XDbLUXVXb_"
      },
      "source": [
        "Pada pemodelan menggunakan GRU didapatkan nilai akurasi didapatkan sebesar 79%:"
      ]
    },
    {
      "cell_type": "markdown",
      "metadata": {
        "id": "bMT-GE87cdsA"
      },
      "source": [
        "Pemodelan sudah dilakukan berkali-kali, hasil model inilah yang paling good-fit pada nilai loss antara data train dan data Validation."
      ]
    },
    {
      "cell_type": "markdown",
      "metadata": {
        "id": "sMLeQkQzVc1N"
      },
      "source": [
        "Karena model dengan akurasi tertinggi adalah model pertama atau model RNN, maka model tersebut yang digunakan sebagai pipeline."
      ]
    },
    {
      "cell_type": "markdown",
      "metadata": {
        "id": "RNYT9z2_1SzN"
      },
      "source": [
        "### Pipeline"
      ]
    },
    {
      "cell_type": "code",
      "execution_count": null,
      "metadata": {
        "id": "5Oom_r9r0Qug"
      },
      "outputs": [],
      "source": [
        "callbacks_2= [\n",
        "    EarlyStopping(monitor= 'val_loss', mode= 'min', patience= 5, verbose=1),\n",
        "    ModelCheckpoint('model_best.hdf5', monitor='val_loss', save_best_only= True)\n",
        "    #ReduceLROnPlateau\n",
        "\n",
        "]"
      ]
    },
    {
      "cell_type": "code",
      "execution_count": null,
      "metadata": {
        "id": "YvZAHrZ11Whq"
      },
      "outputs": [],
      "source": [
        "#Train Dataset\n",
        "train_dataset = tf.data.Dataset.from_tensor_slices((X_train, y_train_ohe)).shuffle(10000).batch(64)\n",
        "\n",
        "\n",
        "#Validation Dataset\n",
        "val_dataset = tf.data.Dataset.from_tensor_slices((X_val, y_val_ohe)).batch(64)\n",
        "\n",
        "\n",
        "#Test Dataset\n",
        "test_dataset = tf.data.Dataset.from_tensor_slices((X_test, y_test_ohe)).batch(64)\n",
        "\n",
        "\n",
        "\n",
        "#Call Model\n",
        "model_pipeline= Sequential()\n",
        "model_pipeline.add(text_vectorization)\n",
        "model_pipeline.add(embedding)\n",
        "model_pipeline.add(GlobalAveragePooling1D())\n",
        "model_pipeline.add(Dense(7, activation='elu'))\n",
        "model_pipeline.add(Dropout(0.3))\n",
        "model_pipeline.add(Dense(9, activation='softmax'))\n",
        "\n",
        "model_pipeline.compile(loss='categorical_crossentropy',\n",
        "              optimizer='adam',\n",
        "              metrics=['accuracy'])"
      ]
    },
    {
      "cell_type": "code",
      "execution_count": null,
      "metadata": {
        "colab": {
          "base_uri": "https://localhost:8080/"
        },
        "id": "isteGjjI1uAM",
        "outputId": "0045c623-f844-4a2d-cfac-f96e798d7bed"
      },
      "outputs": [
        {
          "name": "stdout",
          "output_type": "stream",
          "text": [
            "Epoch 1/40\n",
            "1088/1088 [==============================] - 5s 4ms/step - loss: 0.9915 - accuracy: 0.6946 - val_loss: 0.6436 - val_accuracy: 0.8039\n",
            "Epoch 2/40\n",
            "1088/1088 [==============================] - 4s 4ms/step - loss: 0.6751 - accuracy: 0.7857 - val_loss: 0.5983 - val_accuracy: 0.8117\n",
            "Epoch 3/40\n",
            "1088/1088 [==============================] - 4s 4ms/step - loss: 0.6332 - accuracy: 0.7971 - val_loss: 0.5919 - val_accuracy: 0.8158\n",
            "Epoch 4/40\n",
            "1088/1088 [==============================] - 4s 4ms/step - loss: 0.6157 - accuracy: 0.8034 - val_loss: 0.5907 - val_accuracy: 0.8139\n",
            "Epoch 5/40\n",
            "1088/1088 [==============================] - 4s 4ms/step - loss: 0.6038 - accuracy: 0.8041 - val_loss: 0.5883 - val_accuracy: 0.8179\n",
            "Epoch 6/40\n",
            "1088/1088 [==============================] - 4s 4ms/step - loss: 0.5982 - accuracy: 0.8039 - val_loss: 0.5907 - val_accuracy: 0.8157\n",
            "Epoch 7/40\n",
            "1088/1088 [==============================] - 5s 4ms/step - loss: 0.5939 - accuracy: 0.8048 - val_loss: 0.5911 - val_accuracy: 0.8151\n",
            "Epoch 8/40\n",
            "1088/1088 [==============================] - 4s 4ms/step - loss: 0.5877 - accuracy: 0.8077 - val_loss: 0.5926 - val_accuracy: 0.8146\n",
            "Epoch 9/40\n",
            "1088/1088 [==============================] - 5s 4ms/step - loss: 0.5818 - accuracy: 0.8103 - val_loss: 0.5931 - val_accuracy: 0.8170\n",
            "Epoch 10/40\n",
            "1088/1088 [==============================] - 4s 4ms/step - loss: 0.5755 - accuracy: 0.8105 - val_loss: 0.5984 - val_accuracy: 0.8154\n",
            "Epoch 10: early stopping\n"
          ]
        }
      ],
      "source": [
        "hist_pipeline = model_pipeline.fit(train_dataset,epochs=40, callbacks=callbacks,\n",
        "                         validation_data=(val_dataset))"
      ]
    },
    {
      "cell_type": "code",
      "execution_count": null,
      "metadata": {
        "colab": {
          "base_uri": "https://localhost:8080/"
        },
        "id": "k11RBG3SzRdM",
        "outputId": "7fe0c7d8-e59a-4f42-b332-a8632c150b0b"
      },
      "outputs": [
        {
          "name": "stdout",
          "output_type": "stream",
          "text": [
            "INFO:tensorflow:Assets written to: model_milestone2/assets\n"
          ]
        }
      ],
      "source": [
        "model_pipeline.save('model_milestone2')"
      ]
    },
    {
      "cell_type": "markdown",
      "metadata": {
        "id": "xH4xgOosyM4C"
      },
      "source": [
        "Model telah di simpan"
      ]
    },
    {
      "cell_type": "code",
      "execution_count": null,
      "metadata": {
        "colab": {
          "base_uri": "https://localhost:8080/",
          "height": 265
        },
        "id": "6tJrU6wH9wF_",
        "outputId": "f726015c-2286-4d97-eda1-fa08b41ea7f9"
      },
      "outputs": [
        {
          "data": {
            "image/png": "[encoded data removed]",
            "text/plain": [
              "<Figure size 432x288 with 1 Axes>"
            ]
          },
          "metadata": {
            "needs_background": "light"
          },
          "output_type": "display_data"
        }
      ],
      "source": [
        "model_pipeline_df = pd.DataFrame(hist_pipeline.history)\n",
        "model_pipeline_df[['loss', 'val_loss']].plot();"
      ]
    },
    {
      "cell_type": "code",
      "execution_count": null,
      "metadata": {
        "colab": {
          "base_uri": "https://localhost:8080/",
          "height": 265
        },
        "id": "zEH3eV2g992e",
        "outputId": "e83f1db5-1235-45aa-eb36-025596c9a1da"
      },
      "outputs": [
        {
          "data": {
            "image/png": "[encoded data removed]",
            "text/plain": [
              "<Figure size 432x288 with 1 Axes>"
            ]
          },
          "metadata": {
            "needs_background": "light"
          },
          "output_type": "display_data"
        }
      ],
      "source": [
        "model_pipeline_df[['accuracy', 'val_accuracy']].plot();"
      ]
    },
    {
      "cell_type": "code",
      "execution_count": null,
      "metadata": {
        "colab": {
          "base_uri": "https://localhost:8080/"
        },
        "id": "kYxHtvlz-Gna",
        "outputId": "2efe0201-07ee-488f-e44b-c87df52f4c27"
      },
      "outputs": [
        {
          "name": "stdout",
          "output_type": "stream",
          "text": [
            "              precision    recall  f1-score   support\n",
            "\n",
            "           0       0.85      0.89      0.87      4853\n",
            "           1       0.81      0.90      0.85      2450\n",
            "           2       0.83      0.81      0.82      2125\n",
            "           3       0.74      0.71      0.72       970\n",
            "           4       0.82      0.70      0.75       846\n",
            "           5       0.71      0.58      0.64       738\n",
            "           6       0.75      0.72      0.74       658\n",
            "           7       0.81      0.81      0.81       647\n",
            "           8       0.85      0.61      0.71       365\n",
            "\n",
            "    accuracy                           0.82     13652\n",
            "   macro avg       0.80      0.75      0.77     13652\n",
            "weighted avg       0.82      0.82      0.82     13652\n",
            "\n"
          ]
        }
      ],
      "source": [
        "y_pred = model_pipeline.predict(X_test)\n",
        "y_pred = y_pred.argmax(axis=1)\n",
        "print(classification_report(y_test,y_pred))"
      ]
    },
    {
      "cell_type": "markdown",
      "metadata": {
        "id": "5lRXxod--ODw"
      },
      "source": [
        "# Model Inference"
      ]
    },
    {
      "cell_type": "code",
      "execution_count": null,
      "metadata": {
        "colab": {
          "base_uri": "https://localhost:8080/",
          "height": 363
        },
        "id": "lYWNqQV5-Ov2",
        "outputId": "42208893-f72c-42f6-f551-6f5427c202b3"
      },
      "outputs": [
        {
          "data": {
            "text/html": [
              "\n",
              "  <div id=\"df-78728a60-2f4c-4ad1-a6e4-ef051fca5d04\">\n",
              "    <div class=\"colab-df-container\">\n",
              "      <div>\n",
              "<style scoped>\n",
              "    .dataframe tbody tr th:only-of-type {\n",
              "        vertical-align: middle;\n",
              "    }\n",
              "\n",
              "    .dataframe tbody tr th {\n",
              "        vertical-align: top;\n",
              "    }\n",
              "\n",
              "    .dataframe thead th {\n",
              "        text-align: right;\n",
              "    }\n",
              "</style>\n",
              "<table border=\"1\" class=\"dataframe\">\n",
              "  <thead>\n",
              "    <tr style=\"text-align: right;\">\n",
              "      <th></th>\n",
              "      <th>title</th>\n",
              "      <th>category</th>\n",
              "    </tr>\n",
              "  </thead>\n",
              "  <tbody>\n",
              "    <tr>\n",
              "      <th>0</th>\n",
              "      <td>Said Iqbal Nilai Pembahasan Omnibus Law Tenaga...</td>\n",
              "      <td>0</td>\n",
              "    </tr>\n",
              "    <tr>\n",
              "      <th>1</th>\n",
              "      <td>5 Scrub Alami dari Bahan Makanan untuk Mencera...</td>\n",
              "      <td>7</td>\n",
              "    </tr>\n",
              "    <tr>\n",
              "      <th>2</th>\n",
              "      <td>MenPAN-RB Beri Penghargaan ke Polda Metro atas...</td>\n",
              "      <td>0</td>\n",
              "    </tr>\n",
              "    <tr>\n",
              "      <th>3</th>\n",
              "      <td>Pengusaha-Pemerintah Sinergi Jaga Ekonomi di M...</td>\n",
              "      <td>2</td>\n",
              "    </tr>\n",
              "    <tr>\n",
              "      <th>4</th>\n",
              "      <td>Akhirnya, Zoom Tingkatkan Keamanan di Versi 5.0</td>\n",
              "      <td>4</td>\n",
              "    </tr>\n",
              "    <tr>\n",
              "      <th>5</th>\n",
              "      <td>Ikut Donasi Bantu Atasi COVID-19 dari Rumah de...</td>\n",
              "      <td>0</td>\n",
              "    </tr>\n",
              "    <tr>\n",
              "      <th>6</th>\n",
              "      <td>Jalur Alternatif ke Cianjur di Tanjungsari Bog...</td>\n",
              "      <td>0</td>\n",
              "    </tr>\n",
              "    <tr>\n",
              "      <th>7</th>\n",
              "      <td>Jokowi Puji Peningkatan Angka Kelulusan Keluar...</td>\n",
              "      <td>0</td>\n",
              "    </tr>\n",
              "    <tr>\n",
              "      <th>8</th>\n",
              "      <td>Kisahnya Masuk TNI Viral, Yusuf Wonda Ingin Ja...</td>\n",
              "      <td>0</td>\n",
              "    </tr>\n",
              "    <tr>\n",
              "      <th>9</th>\n",
              "      <td>Flamingo Berduyun-duyun Terbang ke Mumbai Saat...</td>\n",
              "      <td>3</td>\n",
              "    </tr>\n",
              "  </tbody>\n",
              "</table>\n",
              "</div>\n",
              "      <button class=\"colab-df-convert\" onclick=\"convertToInteractive('df-78728a60-2f4c-4ad1-a6e4-ef051fca5d04')\"\n",
              "              title=\"Convert this dataframe to an interactive table.\"\n",
              "              style=\"display:none;\">\n",
              "        \n",
              "  <svg xmlns=\"http://www.w3.org/2000/svg\" height=\"24px\"viewBox=\"0 0 24 24\"\n",
              "       width=\"24px\">\n",
              "    <path d=\"M0 0h24v24H0V0z\" fill=\"none\"/>\n",
              "    <path d=\"M18.56 5.44l.94 2.06.94-2.06 2.06-.94-2.06-.94-.94-2.06-.94 2.06-2.06.94zm-11 1L8.5 8.5l.94-2.06 2.06-.94-2.06-.94L8.5 2.5l-.94 2.06-2.06.94zm10 10l.94 2.06.94-2.06 2.06-.94-2.06-.94-.94-2.06-.94 2.06-2.06.94z\"/><path d=\"M17.41 7.96l-1.37-1.37c-.4-.4-.92-.59-1.43-.59-.52 0-1.04.2-1.43.59L10.3 9.45l-7.72 7.72c-.78.78-.78 2.05 0 2.83L4 21.41c.39.39.9.59 1.41.59.51 0 1.02-.2 1.41-.59l7.78-7.78 2.81-2.81c.8-.78.8-2.07 0-2.86zM5.41 20L4 18.59l7.72-7.72 1.47 1.35L5.41 20z\"/>\n",
              "  </svg>\n",
              "      </button>\n",
              "      \n",
              "  <style>\n",
              "    .colab-df-container {\n",
              "      display:flex;\n",
              "      flex-wrap:wrap;\n",
              "      gap: 12px;\n",
              "    }\n",
              "\n",
              "    .colab-df-convert {\n",
              "      background-color: #E8F0FE;\n",
              "      border: none;\n",
              "      border-radius: 50%;\n",
              "      cursor: pointer;\n",
              "      display: none;\n",
              "      fill: #1967D2;\n",
              "      height: 32px;\n",
              "      padding: 0 0 0 0;\n",
              "      width: 32px;\n",
              "    }\n",
              "\n",
              "    .colab-df-convert:hover {\n",
              "      background-color: #E2EBFA;\n",
              "      box-shadow: 0px 1px 2px rgba(60, 64, 67, 0.3), 0px 1px 3px 1px rgba(60, 64, 67, 0.15);\n",
              "      fill: #174EA6;\n",
              "    }\n",
              "\n",
              "    [theme=dark] .colab-df-convert {\n",
              "      background-color: #3B4455;\n",
              "      fill: #D2E3FC;\n",
              "    }\n",
              "\n",
              "    [theme=dark] .colab-df-convert:hover {\n",
              "      background-color: #434B5C;\n",
              "      box-shadow: 0px 1px 3px 1px rgba(0, 0, 0, 0.15);\n",
              "      filter: drop-shadow(0px 1px 2px rgba(0, 0, 0, 0.3));\n",
              "      fill: #FFFFFF;\n",
              "    }\n",
              "  </style>\n",
              "\n",
              "      <script>\n",
              "        const buttonEl =\n",
              "          document.querySelector('#df-78728a60-2f4c-4ad1-a6e4-ef051fca5d04 button.colab-df-convert');\n",
              "        buttonEl.style.display =\n",
              "          google.colab.kernel.accessAllowed ? 'block' : 'none';\n",
              "\n",
              "        async function convertToInteractive(key) {\n",
              "          const element = document.querySelector('#df-78728a60-2f4c-4ad1-a6e4-ef051fca5d04');\n",
              "          const dataTable =\n",
              "            await google.colab.kernel.invokeFunction('convertToInteractive',\n",
              "                                                     [key], {});\n",
              "          if (!dataTable) return;\n",
              "\n",
              "          const docLinkHtml = 'Like what you see? Visit the ' +\n",
              "            '<a target=\"_blank\" href=https://colab.research.google.com/notebooks/data_table.ipynb>data table notebook</a>'\n",
              "            + ' to learn more about interactive tables.';\n",
              "          element.innerHTML = '';\n",
              "          dataTable['output_type'] = 'display_data';\n",
              "          await google.colab.output.renderOutput(dataTable, element);\n",
              "          const docLink = document.createElement('div');\n",
              "          docLink.innerHTML = docLinkHtml;\n",
              "          element.appendChild(docLink);\n",
              "        }\n",
              "      </script>\n",
              "    </div>\n",
              "  </div>\n",
              "  "
            ],
            "text/plain": [
              "                                               title  category\n",
              "0  Said Iqbal Nilai Pembahasan Omnibus Law Tenaga...         0\n",
              "1  5 Scrub Alami dari Bahan Makanan untuk Mencera...         7\n",
              "2  MenPAN-RB Beri Penghargaan ke Polda Metro atas...         0\n",
              "3  Pengusaha-Pemerintah Sinergi Jaga Ekonomi di M...         2\n",
              "4    Akhirnya, Zoom Tingkatkan Keamanan di Versi 5.0         4\n",
              "5  Ikut Donasi Bantu Atasi COVID-19 dari Rumah de...         0\n",
              "6  Jalur Alternatif ke Cianjur di Tanjungsari Bog...         0\n",
              "7  Jokowi Puji Peningkatan Angka Kelulusan Keluar...         0\n",
              "8  Kisahnya Masuk TNI Viral, Yusuf Wonda Ingin Ja...         0\n",
              "9  Flamingo Berduyun-duyun Terbang ke Mumbai Saat...         3"
            ]
          },
          "execution_count": 67,
          "metadata": {},
          "output_type": "execute_result"
        }
      ],
      "source": [
        "data_inf"
      ]
    },
    {
      "cell_type": "code",
      "execution_count": null,
      "metadata": {
        "id": "3PX6H4sHDB3e"
      },
      "outputs": [],
      "source": [
        "load_model = keras.models.load_model(\"model_milestone2\")"
      ]
    },
    {
      "cell_type": "markdown",
      "metadata": {
        "id": "Y9COssrlyT_m"
      },
      "source": [
        "model di load kembali untuk digunakan untuk memprediksi data inference"
      ]
    },
    {
      "cell_type": "code",
      "execution_count": null,
      "metadata": {
        "colab": {
          "base_uri": "https://localhost:8080/"
        },
        "id": "H87xJSz--scn",
        "outputId": "250ababd-9eb9-47bb-a796-05a2979074a7"
      },
      "outputs": [
        {
          "data": {
            "text/plain": [
              "array([[9.99503136e-01, 1.32652394e-06, 5.50094010e-05, 2.61102959e-05,\n",
              "        7.37988466e-06, 1.69100844e-07, 4.04637016e-04, 1.32782878e-08,\n",
              "        2.26152383e-06],\n",
              "       [9.62139368e-02, 1.53791472e-01, 1.41729005e-02, 9.58903879e-02,\n",
              "        3.86477597e-02, 2.00536743e-01, 2.61975862e-02, 3.50060314e-01,\n",
              "        2.44889483e-02],\n",
              "       [9.86492574e-01, 5.21471899e-04, 1.79126346e-05, 1.57592338e-04,\n",
              "        1.56250790e-05, 6.76823129e-06, 1.01051126e-02, 2.07622929e-06,\n",
              "        2.68094055e-03],\n",
              "       [1.18118875e-01, 3.16203460e-02, 7.69573987e-01, 2.58685071e-02,\n",
              "        2.42885854e-02, 2.70248391e-03, 2.55080592e-02, 4.55519767e-04,\n",
              "        1.86362781e-03],\n",
              "       [9.58137272e-04, 1.58284034e-03, 7.43822195e-04, 9.06865986e-04,\n",
              "        9.88910198e-01, 7.80605114e-05, 3.83421080e-03, 5.30121615e-05,\n",
              "        2.93275574e-03],\n",
              "       [2.51340061e-01, 3.03359240e-01, 3.43882330e-02, 2.74835322e-02,\n",
              "        2.05707163e-01, 1.02976985e-01, 1.81485005e-02, 3.00268084e-02,\n",
              "        2.65694950e-02],\n",
              "       [8.39073360e-01, 1.12472509e-03, 2.11886708e-02, 8.32862034e-02,\n",
              "        1.11656373e-04, 2.99817562e-04, 5.41253649e-02, 1.35534734e-04,\n",
              "        6.54780364e-04],\n",
              "       [8.68730187e-01, 3.90647389e-02, 1.52771883e-02, 5.60588157e-03,\n",
              "        2.61349534e-03, 5.56120537e-02, 6.84751803e-03, 2.48017232e-03,\n",
              "        3.76871461e-03],\n",
              "       [5.60575008e-01, 3.98442835e-01, 2.31941720e-03, 1.11872870e-02,\n",
              "        1.62803545e-03, 3.50978691e-03, 5.67056285e-03, 2.07476644e-03,\n",
              "        1.45923290e-02],\n",
              "       [6.56078905e-02, 2.15197038e-02, 7.19704181e-02, 7.75694311e-01,\n",
              "        1.86365005e-02, 7.52776768e-03, 3.11285499e-02, 4.97087650e-03,\n",
              "        2.94395885e-03]], dtype=float32)"
            ]
          },
          "execution_count": 80,
          "metadata": {},
          "output_type": "execute_result"
        }
      ],
      "source": [
        "y_pred_inf = load_model.predict(data_inf['title'])\n",
        "y_pred_inf"
      ]
    },
    {
      "cell_type": "code",
      "execution_count": null,
      "metadata": {
        "colab": {
          "base_uri": "https://localhost:8080/"
        },
        "id": "z84GoU_4C2rP",
        "outputId": "4c26e538-7ee5-4b53-c3bb-11e18c3afa59"
      },
      "outputs": [
        {
          "data": {
            "text/plain": [
              "array([0, 7, 0, 2, 4, 1, 0, 0, 0, 3])"
            ]
          },
          "execution_count": 81,
          "metadata": {},
          "output_type": "execute_result"
        }
      ],
      "source": [
        "y_pred_inf = y_pred_inf.argmax(axis=1)\n",
        "y_pred_inf"
      ]
    },
    {
      "cell_type": "code",
      "execution_count": null,
      "metadata": {
        "colab": {
          "base_uri": "https://localhost:8080/",
          "height": 363
        },
        "id": "ejSrYncbBcwJ",
        "outputId": "ceb27cf2-a1f5-446d-9ed5-40dc6ad007c6"
      },
      "outputs": [
        {
          "data": {
            "text/html": [
              "\n",
              "  <div id=\"df-d8c7e7a0-e97d-474a-b43e-b9c18b195691\">\n",
              "    <div class=\"colab-df-container\">\n",
              "      <div>\n",
              "<style scoped>\n",
              "    .dataframe tbody tr th:only-of-type {\n",
              "        vertical-align: middle;\n",
              "    }\n",
              "\n",
              "    .dataframe tbody tr th {\n",
              "        vertical-align: top;\n",
              "    }\n",
              "\n",
              "    .dataframe thead th {\n",
              "        text-align: right;\n",
              "    }\n",
              "</style>\n",
              "<table border=\"1\" class=\"dataframe\">\n",
              "  <thead>\n",
              "    <tr style=\"text-align: right;\">\n",
              "      <th></th>\n",
              "      <th>Category-Prediction</th>\n",
              "    </tr>\n",
              "  </thead>\n",
              "  <tbody>\n",
              "    <tr>\n",
              "      <th>0</th>\n",
              "      <td>0</td>\n",
              "    </tr>\n",
              "    <tr>\n",
              "      <th>1</th>\n",
              "      <td>7</td>\n",
              "    </tr>\n",
              "    <tr>\n",
              "      <th>2</th>\n",
              "      <td>0</td>\n",
              "    </tr>\n",
              "    <tr>\n",
              "      <th>3</th>\n",
              "      <td>2</td>\n",
              "    </tr>\n",
              "    <tr>\n",
              "      <th>4</th>\n",
              "      <td>4</td>\n",
              "    </tr>\n",
              "    <tr>\n",
              "      <th>5</th>\n",
              "      <td>1</td>\n",
              "    </tr>\n",
              "    <tr>\n",
              "      <th>6</th>\n",
              "      <td>0</td>\n",
              "    </tr>\n",
              "    <tr>\n",
              "      <th>7</th>\n",
              "      <td>0</td>\n",
              "    </tr>\n",
              "    <tr>\n",
              "      <th>8</th>\n",
              "      <td>0</td>\n",
              "    </tr>\n",
              "    <tr>\n",
              "      <th>9</th>\n",
              "      <td>3</td>\n",
              "    </tr>\n",
              "  </tbody>\n",
              "</table>\n",
              "</div>\n",
              "      <button class=\"colab-df-convert\" onclick=\"convertToInteractive('df-d8c7e7a0-e97d-474a-b43e-b9c18b195691')\"\n",
              "              title=\"Convert this dataframe to an interactive table.\"\n",
              "              style=\"display:none;\">\n",
              "        \n",
              "  <svg xmlns=\"http://www.w3.org/2000/svg\" height=\"24px\"viewBox=\"0 0 24 24\"\n",
              "       width=\"24px\">\n",
              "    <path d=\"M0 0h24v24H0V0z\" fill=\"none\"/>\n",
              "    <path d=\"M18.56 5.44l.94 2.06.94-2.06 2.06-.94-2.06-.94-.94-2.06-.94 2.06-2.06.94zm-11 1L8.5 8.5l.94-2.06 2.06-.94-2.06-.94L8.5 2.5l-.94 2.06-2.06.94zm10 10l.94 2.06.94-2.06 2.06-.94-2.06-.94-.94-2.06-.94 2.06-2.06.94z\"/><path d=\"M17.41 7.96l-1.37-1.37c-.4-.4-.92-.59-1.43-.59-.52 0-1.04.2-1.43.59L10.3 9.45l-7.72 7.72c-.78.78-.78 2.05 0 2.83L4 21.41c.39.39.9.59 1.41.59.51 0 1.02-.2 1.41-.59l7.78-7.78 2.81-2.81c.8-.78.8-2.07 0-2.86zM5.41 20L4 18.59l7.72-7.72 1.47 1.35L5.41 20z\"/>\n",
              "  </svg>\n",
              "      </button>\n",
              "      \n",
              "  <style>\n",
              "    .colab-df-container {\n",
              "      display:flex;\n",
              "      flex-wrap:wrap;\n",
              "      gap: 12px;\n",
              "    }\n",
              "\n",
              "    .colab-df-convert {\n",
              "      background-color: #E8F0FE;\n",
              "      border: none;\n",
              "      border-radius: 50%;\n",
              "      cursor: pointer;\n",
              "      display: none;\n",
              "      fill: #1967D2;\n",
              "      height: 32px;\n",
              "      padding: 0 0 0 0;\n",
              "      width: 32px;\n",
              "    }\n",
              "\n",
              "    .colab-df-convert:hover {\n",
              "      background-color: #E2EBFA;\n",
              "      box-shadow: 0px 1px 2px rgba(60, 64, 67, 0.3), 0px 1px 3px 1px rgba(60, 64, 67, 0.15);\n",
              "      fill: #174EA6;\n",
              "    }\n",
              "\n",
              "    [theme=dark] .colab-df-convert {\n",
              "      background-color: #3B4455;\n",
              "      fill: #D2E3FC;\n",
              "    }\n",
              "\n",
              "    [theme=dark] .colab-df-convert:hover {\n",
              "      background-color: #434B5C;\n",
              "      box-shadow: 0px 1px 3px 1px rgba(0, 0, 0, 0.15);\n",
              "      filter: drop-shadow(0px 1px 2px rgba(0, 0, 0, 0.3));\n",
              "      fill: #FFFFFF;\n",
              "    }\n",
              "  </style>\n",
              "\n",
              "      <script>\n",
              "        const buttonEl =\n",
              "          document.querySelector('#df-d8c7e7a0-e97d-474a-b43e-b9c18b195691 button.colab-df-convert');\n",
              "        buttonEl.style.display =\n",
              "          google.colab.kernel.accessAllowed ? 'block' : 'none';\n",
              "\n",
              "        async function convertToInteractive(key) {\n",
              "          const element = document.querySelector('#df-d8c7e7a0-e97d-474a-b43e-b9c18b195691');\n",
              "          const dataTable =\n",
              "            await google.colab.kernel.invokeFunction('convertToInteractive',\n",
              "                                                     [key], {});\n",
              "          if (!dataTable) return;\n",
              "\n",
              "          const docLinkHtml = 'Like what you see? Visit the ' +\n",
              "            '<a target=\"_blank\" href=https://colab.research.google.com/notebooks/data_table.ipynb>data table notebook</a>'\n",
              "            + ' to learn more about interactive tables.';\n",
              "          element.innerHTML = '';\n",
              "          dataTable['output_type'] = 'display_data';\n",
              "          await google.colab.output.renderOutput(dataTable, element);\n",
              "          const docLink = document.createElement('div');\n",
              "          docLink.innerHTML = docLinkHtml;\n",
              "          element.appendChild(docLink);\n",
              "        }\n",
              "      </script>\n",
              "    </div>\n",
              "  </div>\n",
              "  "
            ],
            "text/plain": [
              "   Category-Prediction\n",
              "0                    0\n",
              "1                    7\n",
              "2                    0\n",
              "3                    2\n",
              "4                    4\n",
              "5                    1\n",
              "6                    0\n",
              "7                    0\n",
              "8                    0\n",
              "9                    3"
            ]
          },
          "execution_count": 82,
          "metadata": {},
          "output_type": "execute_result"
        }
      ],
      "source": [
        "y_pred_inf = pd.DataFrame(y_pred_inf, columns=['Category-Prediction'])\n",
        "y_pred_inf"
      ]
    },
    {
      "cell_type": "code",
      "execution_count": null,
      "metadata": {
        "colab": {
          "base_uri": "https://localhost:8080/",
          "height": 363
        },
        "id": "vfpF6ILgC_e_",
        "outputId": "2199c8df-ea62-465f-8e1b-77c40b425835"
      },
      "outputs": [
        {
          "data": {
            "text/html": [
              "\n",
              "  <div id=\"df-31182f56-5da4-4e1b-b13d-8aa2d8246fb1\">\n",
              "    <div class=\"colab-df-container\">\n",
              "      <div>\n",
              "<style scoped>\n",
              "    .dataframe tbody tr th:only-of-type {\n",
              "        vertical-align: middle;\n",
              "    }\n",
              "\n",
              "    .dataframe tbody tr th {\n",
              "        vertical-align: top;\n",
              "    }\n",
              "\n",
              "    .dataframe thead th {\n",
              "        text-align: right;\n",
              "    }\n",
              "</style>\n",
              "<table border=\"1\" class=\"dataframe\">\n",
              "  <thead>\n",
              "    <tr style=\"text-align: right;\">\n",
              "      <th></th>\n",
              "      <th>title</th>\n",
              "      <th>category</th>\n",
              "      <th>Category-Prediction</th>\n",
              "    </tr>\n",
              "  </thead>\n",
              "  <tbody>\n",
              "    <tr>\n",
              "      <th>0</th>\n",
              "      <td>Said Iqbal Nilai Pembahasan Omnibus Law Tenaga...</td>\n",
              "      <td>0</td>\n",
              "      <td>0</td>\n",
              "    </tr>\n",
              "    <tr>\n",
              "      <th>1</th>\n",
              "      <td>5 Scrub Alami dari Bahan Makanan untuk Mencera...</td>\n",
              "      <td>7</td>\n",
              "      <td>7</td>\n",
              "    </tr>\n",
              "    <tr>\n",
              "      <th>2</th>\n",
              "      <td>MenPAN-RB Beri Penghargaan ke Polda Metro atas...</td>\n",
              "      <td>0</td>\n",
              "      <td>0</td>\n",
              "    </tr>\n",
              "    <tr>\n",
              "      <th>3</th>\n",
              "      <td>Pengusaha-Pemerintah Sinergi Jaga Ekonomi di M...</td>\n",
              "      <td>2</td>\n",
              "      <td>2</td>\n",
              "    </tr>\n",
              "    <tr>\n",
              "      <th>4</th>\n",
              "      <td>Akhirnya, Zoom Tingkatkan Keamanan di Versi 5.0</td>\n",
              "      <td>4</td>\n",
              "      <td>4</td>\n",
              "    </tr>\n",
              "    <tr>\n",
              "      <th>5</th>\n",
              "      <td>Ikut Donasi Bantu Atasi COVID-19 dari Rumah de...</td>\n",
              "      <td>0</td>\n",
              "      <td>1</td>\n",
              "    </tr>\n",
              "    <tr>\n",
              "      <th>6</th>\n",
              "      <td>Jalur Alternatif ke Cianjur di Tanjungsari Bog...</td>\n",
              "      <td>0</td>\n",
              "      <td>0</td>\n",
              "    </tr>\n",
              "    <tr>\n",
              "      <th>7</th>\n",
              "      <td>Jokowi Puji Peningkatan Angka Kelulusan Keluar...</td>\n",
              "      <td>0</td>\n",
              "      <td>0</td>\n",
              "    </tr>\n",
              "    <tr>\n",
              "      <th>8</th>\n",
              "      <td>Kisahnya Masuk TNI Viral, Yusuf Wonda Ingin Ja...</td>\n",
              "      <td>0</td>\n",
              "      <td>0</td>\n",
              "    </tr>\n",
              "    <tr>\n",
              "      <th>9</th>\n",
              "      <td>Flamingo Berduyun-duyun Terbang ke Mumbai Saat...</td>\n",
              "      <td>3</td>\n",
              "      <td>3</td>\n",
              "    </tr>\n",
              "  </tbody>\n",
              "</table>\n",
              "</div>\n",
              "      <button class=\"colab-df-convert\" onclick=\"convertToInteractive('df-31182f56-5da4-4e1b-b13d-8aa2d8246fb1')\"\n",
              "              title=\"Convert this dataframe to an interactive table.\"\n",
              "              style=\"display:none;\">\n",
              "        \n",
              "  <svg xmlns=\"http://www.w3.org/2000/svg\" height=\"24px\"viewBox=\"0 0 24 24\"\n",
              "       width=\"24px\">\n",
              "    <path d=\"M0 0h24v24H0V0z\" fill=\"none\"/>\n",
              "    <path d=\"M18.56 5.44l.94 2.06.94-2.06 2.06-.94-2.06-.94-.94-2.06-.94 2.06-2.06.94zm-11 1L8.5 8.5l.94-2.06 2.06-.94-2.06-.94L8.5 2.5l-.94 2.06-2.06.94zm10 10l.94 2.06.94-2.06 2.06-.94-2.06-.94-.94-2.06-.94 2.06-2.06.94z\"/><path d=\"M17.41 7.96l-1.37-1.37c-.4-.4-.92-.59-1.43-.59-.52 0-1.04.2-1.43.59L10.3 9.45l-7.72 7.72c-.78.78-.78 2.05 0 2.83L4 21.41c.39.39.9.59 1.41.59.51 0 1.02-.2 1.41-.59l7.78-7.78 2.81-2.81c.8-.78.8-2.07 0-2.86zM5.41 20L4 18.59l7.72-7.72 1.47 1.35L5.41 20z\"/>\n",
              "  </svg>\n",
              "      </button>\n",
              "      \n",
              "  <style>\n",
              "    .colab-df-container {\n",
              "      display:flex;\n",
              "      flex-wrap:wrap;\n",
              "      gap: 12px;\n",
              "    }\n",
              "\n",
              "    .colab-df-convert {\n",
              "      background-color: #E8F0FE;\n",
              "      border: none;\n",
              "      border-radius: 50%;\n",
              "      cursor: pointer;\n",
              "      display: none;\n",
              "      fill: #1967D2;\n",
              "      height: 32px;\n",
              "      padding: 0 0 0 0;\n",
              "      width: 32px;\n",
              "    }\n",
              "\n",
              "    .colab-df-convert:hover {\n",
              "      background-color: #E2EBFA;\n",
              "      box-shadow: 0px 1px 2px rgba(60, 64, 67, 0.3), 0px 1px 3px 1px rgba(60, 64, 67, 0.15);\n",
              "      fill: #174EA6;\n",
              "    }\n",
              "\n",
              "    [theme=dark] .colab-df-convert {\n",
              "      background-color: #3B4455;\n",
              "      fill: #D2E3FC;\n",
              "    }\n",
              "\n",
              "    [theme=dark] .colab-df-convert:hover {\n",
              "      background-color: #434B5C;\n",
              "      box-shadow: 0px 1px 3px 1px rgba(0, 0, 0, 0.15);\n",
              "      filter: drop-shadow(0px 1px 2px rgba(0, 0, 0, 0.3));\n",
              "      fill: #FFFFFF;\n",
              "    }\n",
              "  </style>\n",
              "\n",
              "      <script>\n",
              "        const buttonEl =\n",
              "          document.querySelector('#df-31182f56-5da4-4e1b-b13d-8aa2d8246fb1 button.colab-df-convert');\n",
              "        buttonEl.style.display =\n",
              "          google.colab.kernel.accessAllowed ? 'block' : 'none';\n",
              "\n",
              "        async function convertToInteractive(key) {\n",
              "          const element = document.querySelector('#df-31182f56-5da4-4e1b-b13d-8aa2d8246fb1');\n",
              "          const dataTable =\n",
              "            await google.colab.kernel.invokeFunction('convertToInteractive',\n",
              "                                                     [key], {});\n",
              "          if (!dataTable) return;\n",
              "\n",
              "          const docLinkHtml = 'Like what you see? Visit the ' +\n",
              "            '<a target=\"_blank\" href=https://colab.research.google.com/notebooks/data_table.ipynb>data table notebook</a>'\n",
              "            + ' to learn more about interactive tables.';\n",
              "          element.innerHTML = '';\n",
              "          dataTable['output_type'] = 'display_data';\n",
              "          await google.colab.output.renderOutput(dataTable, element);\n",
              "          const docLink = document.createElement('div');\n",
              "          docLink.innerHTML = docLinkHtml;\n",
              "          element.appendChild(docLink);\n",
              "        }\n",
              "      </script>\n",
              "    </div>\n",
              "  </div>\n",
              "  "
            ],
            "text/plain": [
              "                                               title  category  \\\n",
              "0  Said Iqbal Nilai Pembahasan Omnibus Law Tenaga...         0   \n",
              "1  5 Scrub Alami dari Bahan Makanan untuk Mencera...         7   \n",
              "2  MenPAN-RB Beri Penghargaan ke Polda Metro atas...         0   \n",
              "3  Pengusaha-Pemerintah Sinergi Jaga Ekonomi di M...         2   \n",
              "4    Akhirnya, Zoom Tingkatkan Keamanan di Versi 5.0         4   \n",
              "5  Ikut Donasi Bantu Atasi COVID-19 dari Rumah de...         0   \n",
              "6  Jalur Alternatif ke Cianjur di Tanjungsari Bog...         0   \n",
              "7  Jokowi Puji Peningkatan Angka Kelulusan Keluar...         0   \n",
              "8  Kisahnya Masuk TNI Viral, Yusuf Wonda Ingin Ja...         0   \n",
              "9  Flamingo Berduyun-duyun Terbang ke Mumbai Saat...         3   \n",
              "\n",
              "   Category-Prediction  \n",
              "0                    0  \n",
              "1                    7  \n",
              "2                    0  \n",
              "3                    2  \n",
              "4                    4  \n",
              "5                    1  \n",
              "6                    0  \n",
              "7                    0  \n",
              "8                    0  \n",
              "9                    3  "
            ]
          },
          "execution_count": 83,
          "metadata": {},
          "output_type": "execute_result"
        }
      ],
      "source": [
        "data_inf_concat = pd.concat([data_inf, y_pred_inf], axis=1)\n",
        "data_inf_concat"
      ]
    },
    {
      "cell_type": "markdown",
      "metadata": {
        "id": "B74NWnBvaD2G"
      },
      "source": [
        "Model dapat memprediksi 9 dari 10 data inference dengan benar."
      ]
    },
    {
      "cell_type": "code",
      "execution_count": null,
      "metadata": {
        "colab": {
          "base_uri": "https://localhost:8080/"
        },
        "id": "vrXjx8AMEVc8",
        "outputId": "a1999679-a314-493b-d0e8-9abb811a5c18"
      },
      "outputs": [
        {
          "name": "stdout",
          "output_type": "stream",
          "text": [
            "  adding: content/model_milestone2/ (stored 0%)\n",
            "  adding: content/model_milestone2/assets/ (stored 0%)\n",
            "  adding: content/model_milestone2/keras_metadata.pb (deflated 86%)\n",
            "  adding: content/model_milestone2/saved_model.pb (deflated 83%)\n",
            "  adding: content/model_milestone2/variables/ (stored 0%)\n",
            "  adding: content/model_milestone2/variables/variables.index (deflated 58%)\n",
            "  adding: content/model_milestone2/variables/variables.data-00000-of-00001 (deflated 7%)\n"
          ]
        }
      ],
      "source": [
        "!zip -r /content/Model.zip /content/model_milestone2\n"
      ]
    },
    {
      "cell_type": "code",
      "execution_count": null,
      "metadata": {
        "colab": {
          "base_uri": "https://localhost:8080/",
          "height": 17
        },
        "id": "PFcv6Xo4FM5B",
        "outputId": "01ab61e4-f976-4581-ea8a-3fd03aeb6e42"
      },
      "outputs": [
        {
          "data": {
            "application/javascript": "\n    async function download(id, filename, size) {\n      if (!google.colab.kernel.accessAllowed) {\n        return;\n      }\n      const div = document.createElement('div');\n      const label = document.createElement('label');\n      label.textContent = `Downloading \"${filename}\": `;\n      div.appendChild(label);\n      const progress = document.createElement('progress');\n      progress.max = size;\n      div.appendChild(progress);\n      document.body.appendChild(div);\n\n      const buffers = [];\n      let downloaded = 0;\n\n      const channel = await google.colab.kernel.comms.open(id);\n      // Send a message to notify the kernel that we're ready.\n      channel.send({})\n\n      for await (const message of channel.messages) {\n        // Send a message to notify the kernel that we're ready.\n        channel.send({})\n        if (message.buffers) {\n          for (const buffer of message.buffers) {\n            buffers.push(buffer);\n            downloaded += buffer.byteLength;\n            progress.value = downloaded;\n          }\n        }\n      }\n      const blob = new Blob(buffers, {type: 'application/binary'});\n      const a = document.createElement('a');\n      a.href = window.URL.createObjectURL(blob);\n      a.download = filename;\n      div.appendChild(a);\n      a.click();\n      div.remove();\n    }\n  ",
            "text/plain": [
              "<IPython.core.display.Javascript object>"
            ]
          },
          "metadata": {},
          "output_type": "display_data"
        },
        {
          "data": {
            "application/javascript": "download(\"download_c26b05c8-4b3a-48ba-abbd-d974e5f7fd34\", \"Model.zip\", 5070324)",
            "text/plain": [
              "<IPython.core.display.Javascript object>"
            ]
          },
          "metadata": {},
          "output_type": "display_data"
        }
      ],
      "source": [
        "from google.colab import files\n",
        "files.download('/content/Model.zip')"
      ]
    },
    {
      "cell_type": "markdown",
      "metadata": {
        "id": "Vfk1UkGgybLS"
      },
      "source": [
        "Model di download"
      ]
    },
    {
      "cell_type": "markdown",
      "metadata": {
        "id": "84v4DQeDydoZ"
      },
      "source": [
        "# Pengambilan Keputusan"
      ]
    },
    {
      "cell_type": "markdown",
      "metadata": {
        "id": "LlI9Phd6ygB8"
      },
      "source": [
        "- Model dibuat untuk memprediksi kategori pada judul berita menggunakan Natural Language Processing (NLP).\n",
        "- Terdapat 9 kategori berita pada dataset tersebut.\n",
        "- Dilakukan preprocessing menggunakan stemmer berupa pysastrawi, TextCextorization, dan Word Embedding.\n",
        "- Digunakan Callback agar proses training dapat berhenti jika nilai loss pada data validation terus naik.\n",
        "- Dilakukan 3 pemodelan menggunakan RNN biasa (Global Average Pooling), LSTM, dan GRU.\n",
        "- Hasilnya model menggunakan RNN biasa didapatkan nilai akurasi tertinggi yaitu 82%.\n",
        "- Selain itu dari grafik Val-loss dan akurasi pada data train dan data validation, model RNN biasa bisa dikatan model yang paling good-fit.\n",
        "- Model terbaik dijadikan pipeline dan disimpan untuk nantinya digunakan sebagai deploy."
      ]
    }
  ],
  "metadata": {
    "accelerator": "GPU",
    "colab": {
      "collapsed_sections": [],
      "name": "h8dsft_Milestone2P2_Muhamad _Afif_Thufail.ipynb",
      "provenance": [],
      "toc_visible": true
    },
    "kernelspec": {
      "display_name": "Python 3",
      "name": "python3"
    },
    "language_info": {
      "name": "python"
    }
  },
  "nbformat": 4,
  "nbformat_minor": 0
}
